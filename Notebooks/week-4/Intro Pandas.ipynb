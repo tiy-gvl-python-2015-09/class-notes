{
 "cells": [
  {
   "cell_type": "markdown",
   "metadata": {},
   "source": [
    "First, watch this:\n",
    "\n",
    "http://vimeo.com/59324550"
   ]
  },
  {
   "cell_type": "code",
   "execution_count": 103,
   "metadata": {
    "collapsed": false
   },
   "outputs": [],
   "source": [
    "import pandas as pd\n",
    "import numpy as np\n",
    "import matplotlib.pyplot as plt"
   ]
  },
  {
   "cell_type": "code",
   "execution_count": 104,
   "metadata": {
    "collapsed": false
   },
   "outputs": [],
   "source": [
    "%matplotlib inline"
   ]
  },
  {
   "cell_type": "markdown",
   "metadata": {},
   "source": [
    "### About our data\n",
    "\n",
    "We are using a daily weather sample for 1 year from RDU Airport (2014).  For more information on how this dataset is structured please see the [documentation](GHCND_documentation.pdf)."
   ]
  },
  {
   "cell_type": "markdown",
   "metadata": {},
   "source": [
    "# Loading data"
   ]
  },
  {
   "cell_type": "markdown",
   "metadata": {},
   "source": [
    "First let's call the `head` terminal command to see what the first few lines of our dataset looks like."
   ]
  },
  {
   "cell_type": "code",
   "execution_count": 105,
   "metadata": {
    "collapsed": false
   },
   "outputs": [
    {
     "name": "stdout",
     "output_type": "stream",
     "text": [
      "STATION,STATION_NAME,DATE,PRCP,SNWD,SNOW,TMAX,TMIN,AWND,WDF2,WDF5,WSF2,WSF5,PGTM,WT01,WT06,WT02,WT04,WT08,WT03\r\n",
      "GHCND:USW00013722,RALEIGH DURHAM INTERNATIONAL AIRPORT NC US,20140101,0,0,0,106,-16,11,200,210,40,58,-9999,-9999,-9999,-9999,-9999,-9999,-9999\r\n",
      "GHCND:USW00013722,RALEIGH DURHAM INTERNATIONAL AIRPORT NC US,20140102,84,0,-9999,94,28,12,310,320,58,98,-9999,1,-9999,-9999,-9999,-9999,-9999\r\n",
      "GHCND:USW00013722,RALEIGH DURHAM INTERNATIONAL AIRPORT NC US,20140103,0,0,0,61,-55,33,300,310,98,143,-9999,-9999,-9999,-9999,-9999,-9999,-9999\r\n",
      "GHCND:USW00013722,RALEIGH DURHAM INTERNATIONAL AIRPORT NC US,20140104,0,0,0,33,-71,10,120,120,36,58,-9999,-9999,-9999,-9999,-9999,-9999,-9999\r\n",
      "GHCND:USW00013722,RALEIGH DURHAM INTERNATIONAL AIRPORT NC US,20140105,0,0,0,167,28,22,180,180,72,94,-9999,-9999,-9999,-9999,-9999,-9999,-9999\r\n",
      "GHCND:USW00013722,RALEIGH DURHAM INTERNATIONAL AIRPORT NC US,20140106,33,0,0,161,-88,61,220,210,134,174,-9999,1,-9999,-9999,-9999,-9999,-9999\r\n",
      "GHCND:USW00013722,RALEIGH DURHAM INTERNATIONAL AIRPORT NC US,20140107,0,0,0,-38,-127,34,300,320,72,112,-9999,-9999,-9999,-9999,-9999,-9999,-9999\r\n",
      "GHCND:USW00013722,RALEIGH DURHAM INTERNATIONAL AIRPORT NC US,20140108,0,0,0,61,-93,13,220,210,45,58,-9999,-9999,-9999,-9999,-9999,-9999,-9999\r\n",
      "GHCND:USW00013722,RALEIGH DURHAM INTERNATIONAL AIRPORT NC US,20140109,0,0,0,122,-38,11,110,120,40,63,-9999,-9999,-9999,-9999,-9999,-9999,-9999\r\n"
     ]
    }
   ],
   "source": [
    "!head rdu-daily-2014.csv"
   ]
  },
  {
   "cell_type": "markdown",
   "metadata": {},
   "source": [
    "Alternatively (and ideally) we will load our CSV data into python using `pandas`.  One way we can load the data is directly from a csv file on our hard drive with the `read_csv` function."
   ]
  },
  {
   "cell_type": "code",
   "execution_count": 106,
   "metadata": {
    "collapsed": false
   },
   "outputs": [
    {
     "data": {
      "text/html": [
       "<div>\n",
       "<table border=\"1\" class=\"dataframe\">\n",
       "  <thead>\n",
       "    <tr style=\"text-align: right;\">\n",
       "      <th></th>\n",
       "      <th>STATION</th>\n",
       "      <th>STATION_NAME</th>\n",
       "      <th>DATE</th>\n",
       "      <th>PRCP</th>\n",
       "      <th>SNWD</th>\n",
       "      <th>SNOW</th>\n",
       "      <th>TMAX</th>\n",
       "      <th>TMIN</th>\n",
       "      <th>AWND</th>\n",
       "      <th>WDF2</th>\n",
       "      <th>WDF5</th>\n",
       "      <th>WSF2</th>\n",
       "      <th>WSF5</th>\n",
       "      <th>PGTM</th>\n",
       "      <th>WT01</th>\n",
       "      <th>WT06</th>\n",
       "      <th>WT02</th>\n",
       "      <th>WT04</th>\n",
       "      <th>WT08</th>\n",
       "      <th>WT03</th>\n",
       "    </tr>\n",
       "  </thead>\n",
       "  <tbody>\n",
       "    <tr>\n",
       "      <th>0</th>\n",
       "      <td>GHCND:USW00013722</td>\n",
       "      <td>RALEIGH DURHAM INTERNATIONAL AIRPORT NC US</td>\n",
       "      <td>20140101</td>\n",
       "      <td>0</td>\n",
       "      <td>0</td>\n",
       "      <td>0</td>\n",
       "      <td>106</td>\n",
       "      <td>-16</td>\n",
       "      <td>11</td>\n",
       "      <td>200</td>\n",
       "      <td>210</td>\n",
       "      <td>40</td>\n",
       "      <td>58</td>\n",
       "      <td>-9999</td>\n",
       "      <td>-9999</td>\n",
       "      <td>-9999</td>\n",
       "      <td>-9999</td>\n",
       "      <td>-9999</td>\n",
       "      <td>-9999</td>\n",
       "      <td>-9999</td>\n",
       "    </tr>\n",
       "    <tr>\n",
       "      <th>1</th>\n",
       "      <td>GHCND:USW00013722</td>\n",
       "      <td>RALEIGH DURHAM INTERNATIONAL AIRPORT NC US</td>\n",
       "      <td>20140102</td>\n",
       "      <td>84</td>\n",
       "      <td>0</td>\n",
       "      <td>-9999</td>\n",
       "      <td>94</td>\n",
       "      <td>28</td>\n",
       "      <td>12</td>\n",
       "      <td>310</td>\n",
       "      <td>320</td>\n",
       "      <td>58</td>\n",
       "      <td>98</td>\n",
       "      <td>-9999</td>\n",
       "      <td>1</td>\n",
       "      <td>-9999</td>\n",
       "      <td>-9999</td>\n",
       "      <td>-9999</td>\n",
       "      <td>-9999</td>\n",
       "      <td>-9999</td>\n",
       "    </tr>\n",
       "    <tr>\n",
       "      <th>2</th>\n",
       "      <td>GHCND:USW00013722</td>\n",
       "      <td>RALEIGH DURHAM INTERNATIONAL AIRPORT NC US</td>\n",
       "      <td>20140103</td>\n",
       "      <td>0</td>\n",
       "      <td>0</td>\n",
       "      <td>0</td>\n",
       "      <td>61</td>\n",
       "      <td>-55</td>\n",
       "      <td>33</td>\n",
       "      <td>300</td>\n",
       "      <td>310</td>\n",
       "      <td>98</td>\n",
       "      <td>143</td>\n",
       "      <td>-9999</td>\n",
       "      <td>-9999</td>\n",
       "      <td>-9999</td>\n",
       "      <td>-9999</td>\n",
       "      <td>-9999</td>\n",
       "      <td>-9999</td>\n",
       "      <td>-9999</td>\n",
       "    </tr>\n",
       "    <tr>\n",
       "      <th>3</th>\n",
       "      <td>GHCND:USW00013722</td>\n",
       "      <td>RALEIGH DURHAM INTERNATIONAL AIRPORT NC US</td>\n",
       "      <td>20140104</td>\n",
       "      <td>0</td>\n",
       "      <td>0</td>\n",
       "      <td>0</td>\n",
       "      <td>33</td>\n",
       "      <td>-71</td>\n",
       "      <td>10</td>\n",
       "      <td>120</td>\n",
       "      <td>120</td>\n",
       "      <td>36</td>\n",
       "      <td>58</td>\n",
       "      <td>-9999</td>\n",
       "      <td>-9999</td>\n",
       "      <td>-9999</td>\n",
       "      <td>-9999</td>\n",
       "      <td>-9999</td>\n",
       "      <td>-9999</td>\n",
       "      <td>-9999</td>\n",
       "    </tr>\n",
       "    <tr>\n",
       "      <th>4</th>\n",
       "      <td>GHCND:USW00013722</td>\n",
       "      <td>RALEIGH DURHAM INTERNATIONAL AIRPORT NC US</td>\n",
       "      <td>20140105</td>\n",
       "      <td>0</td>\n",
       "      <td>0</td>\n",
       "      <td>0</td>\n",
       "      <td>167</td>\n",
       "      <td>28</td>\n",
       "      <td>22</td>\n",
       "      <td>180</td>\n",
       "      <td>180</td>\n",
       "      <td>72</td>\n",
       "      <td>94</td>\n",
       "      <td>-9999</td>\n",
       "      <td>-9999</td>\n",
       "      <td>-9999</td>\n",
       "      <td>-9999</td>\n",
       "      <td>-9999</td>\n",
       "      <td>-9999</td>\n",
       "      <td>-9999</td>\n",
       "    </tr>\n",
       "  </tbody>\n",
       "</table>\n",
       "</div>"
      ],
      "text/plain": [
       "             STATION                                STATION_NAME      DATE  \\\n",
       "0  GHCND:USW00013722  RALEIGH DURHAM INTERNATIONAL AIRPORT NC US  20140101   \n",
       "1  GHCND:USW00013722  RALEIGH DURHAM INTERNATIONAL AIRPORT NC US  20140102   \n",
       "2  GHCND:USW00013722  RALEIGH DURHAM INTERNATIONAL AIRPORT NC US  20140103   \n",
       "3  GHCND:USW00013722  RALEIGH DURHAM INTERNATIONAL AIRPORT NC US  20140104   \n",
       "4  GHCND:USW00013722  RALEIGH DURHAM INTERNATIONAL AIRPORT NC US  20140105   \n",
       "\n",
       "   PRCP  SNWD  SNOW  TMAX  TMIN  AWND  WDF2  WDF5  WSF2  WSF5  PGTM  WT01  \\\n",
       "0     0     0     0   106   -16    11   200   210    40    58 -9999 -9999   \n",
       "1    84     0 -9999    94    28    12   310   320    58    98 -9999     1   \n",
       "2     0     0     0    61   -55    33   300   310    98   143 -9999 -9999   \n",
       "3     0     0     0    33   -71    10   120   120    36    58 -9999 -9999   \n",
       "4     0     0     0   167    28    22   180   180    72    94 -9999 -9999   \n",
       "\n",
       "   WT06  WT02  WT04  WT08  WT03  \n",
       "0 -9999 -9999 -9999 -9999 -9999  \n",
       "1 -9999 -9999 -9999 -9999 -9999  \n",
       "2 -9999 -9999 -9999 -9999 -9999  \n",
       "3 -9999 -9999 -9999 -9999 -9999  \n",
       "4 -9999 -9999 -9999 -9999 -9999  "
      ]
     },
     "execution_count": 106,
     "metadata": {},
     "output_type": "execute_result"
    }
   ],
   "source": [
    "rdu_weather = pd.read_csv(\"rdu-daily-2014.csv\")\n",
    "rdu_weather.head()"
   ]
  },
  {
   "cell_type": "markdown",
   "metadata": {},
   "source": [
    "The variable `rdu_weather` now contains a `pandas DataFrame` which we can do many things to.  First lets get some more information about our dataframe."
   ]
  },
  {
   "cell_type": "code",
   "execution_count": 107,
   "metadata": {
    "collapsed": false
   },
   "outputs": [
    {
     "data": {
      "text/html": [
       "<div>\n",
       "<table border=\"1\" class=\"dataframe\">\n",
       "  <thead>\n",
       "    <tr style=\"text-align: right;\">\n",
       "      <th></th>\n",
       "      <th>DATE</th>\n",
       "      <th>PRCP</th>\n",
       "      <th>SNWD</th>\n",
       "      <th>SNOW</th>\n",
       "      <th>TMAX</th>\n",
       "      <th>TMIN</th>\n",
       "      <th>AWND</th>\n",
       "      <th>WDF2</th>\n",
       "      <th>WDF5</th>\n",
       "      <th>WSF2</th>\n",
       "      <th>WSF5</th>\n",
       "      <th>PGTM</th>\n",
       "      <th>WT01</th>\n",
       "      <th>WT06</th>\n",
       "      <th>WT02</th>\n",
       "      <th>WT04</th>\n",
       "      <th>WT08</th>\n",
       "      <th>WT03</th>\n",
       "    </tr>\n",
       "  </thead>\n",
       "  <tbody>\n",
       "    <tr>\n",
       "      <th>count</th>\n",
       "      <td>365.000000</td>\n",
       "      <td>365.000000</td>\n",
       "      <td>365.000000</td>\n",
       "      <td>365.000000</td>\n",
       "      <td>365.000000</td>\n",
       "      <td>365.000000</td>\n",
       "      <td>365.000000</td>\n",
       "      <td>365.000000</td>\n",
       "      <td>365.000000</td>\n",
       "      <td>365.000000</td>\n",
       "      <td>365.000000</td>\n",
       "      <td>365</td>\n",
       "      <td>365.000000</td>\n",
       "      <td>365</td>\n",
       "      <td>365.000000</td>\n",
       "      <td>365.000000</td>\n",
       "      <td>365.000000</td>\n",
       "      <td>365.000000</td>\n",
       "    </tr>\n",
       "    <tr>\n",
       "      <th>mean</th>\n",
       "      <td>20140668.323288</td>\n",
       "      <td>38.471233</td>\n",
       "      <td>0.328767</td>\n",
       "      <td>-136.569863</td>\n",
       "      <td>212.364384</td>\n",
       "      <td>94.745205</td>\n",
       "      <td>24.865753</td>\n",
       "      <td>166.794521</td>\n",
       "      <td>117.758904</td>\n",
       "      <td>69.273973</td>\n",
       "      <td>41.882192</td>\n",
       "      <td>-9999</td>\n",
       "      <td>-6574.342466</td>\n",
       "      <td>-9999</td>\n",
       "      <td>-9615.438356</td>\n",
       "      <td>-9971.602740</td>\n",
       "      <td>-9670.232877</td>\n",
       "      <td>-9642.835616</td>\n",
       "    </tr>\n",
       "    <tr>\n",
       "      <th>std</th>\n",
       "      <td>345.475464</td>\n",
       "      <td>112.441205</td>\n",
       "      <td>3.127575</td>\n",
       "      <td>1163.903702</td>\n",
       "      <td>93.062258</td>\n",
       "      <td>92.427359</td>\n",
       "      <td>12.123044</td>\n",
       "      <td>94.939969</td>\n",
       "      <td>758.093489</td>\n",
       "      <td>24.267092</td>\n",
       "      <td>747.105366</td>\n",
       "      <td>0</td>\n",
       "      <td>4751.858538</td>\n",
       "      <td>0</td>\n",
       "      <td>1923.182294</td>\n",
       "      <td>523.423923</td>\n",
       "      <td>1785.586327</td>\n",
       "      <td>1855.862874</td>\n",
       "    </tr>\n",
       "    <tr>\n",
       "      <th>min</th>\n",
       "      <td>20140101.000000</td>\n",
       "      <td>0.000000</td>\n",
       "      <td>0.000000</td>\n",
       "      <td>-9999.000000</td>\n",
       "      <td>-38.000000</td>\n",
       "      <td>-138.000000</td>\n",
       "      <td>3.000000</td>\n",
       "      <td>10.000000</td>\n",
       "      <td>-9999.000000</td>\n",
       "      <td>27.000000</td>\n",
       "      <td>-9999.000000</td>\n",
       "      <td>-9999</td>\n",
       "      <td>-9999.000000</td>\n",
       "      <td>-9999</td>\n",
       "      <td>-9999.000000</td>\n",
       "      <td>-9999.000000</td>\n",
       "      <td>-9999.000000</td>\n",
       "      <td>-9999.000000</td>\n",
       "    </tr>\n",
       "    <tr>\n",
       "      <th>25%</th>\n",
       "      <td>20140402.000000</td>\n",
       "      <td>0.000000</td>\n",
       "      <td>0.000000</td>\n",
       "      <td>0.000000</td>\n",
       "      <td>144.000000</td>\n",
       "      <td>17.000000</td>\n",
       "      <td>15.000000</td>\n",
       "      <td>70.000000</td>\n",
       "      <td>80.000000</td>\n",
       "      <td>54.000000</td>\n",
       "      <td>72.000000</td>\n",
       "      <td>-9999</td>\n",
       "      <td>-9999.000000</td>\n",
       "      <td>-9999</td>\n",
       "      <td>-9999.000000</td>\n",
       "      <td>-9999.000000</td>\n",
       "      <td>-9999.000000</td>\n",
       "      <td>-9999.000000</td>\n",
       "    </tr>\n",
       "    <tr>\n",
       "      <th>50%</th>\n",
       "      <td>20140702.000000</td>\n",
       "      <td>0.000000</td>\n",
       "      <td>0.000000</td>\n",
       "      <td>0.000000</td>\n",
       "      <td>228.000000</td>\n",
       "      <td>100.000000</td>\n",
       "      <td>24.000000</td>\n",
       "      <td>210.000000</td>\n",
       "      <td>200.000000</td>\n",
       "      <td>67.000000</td>\n",
       "      <td>94.000000</td>\n",
       "      <td>-9999</td>\n",
       "      <td>-9999.000000</td>\n",
       "      <td>-9999</td>\n",
       "      <td>-9999.000000</td>\n",
       "      <td>-9999.000000</td>\n",
       "      <td>-9999.000000</td>\n",
       "      <td>-9999.000000</td>\n",
       "    </tr>\n",
       "    <tr>\n",
       "      <th>75%</th>\n",
       "      <td>20141001.000000</td>\n",
       "      <td>15.000000</td>\n",
       "      <td>0.000000</td>\n",
       "      <td>0.000000</td>\n",
       "      <td>289.000000</td>\n",
       "      <td>183.000000</td>\n",
       "      <td>32.000000</td>\n",
       "      <td>230.000000</td>\n",
       "      <td>240.000000</td>\n",
       "      <td>81.000000</td>\n",
       "      <td>112.000000</td>\n",
       "      <td>-9999</td>\n",
       "      <td>1.000000</td>\n",
       "      <td>-9999</td>\n",
       "      <td>-9999.000000</td>\n",
       "      <td>-9999.000000</td>\n",
       "      <td>-9999.000000</td>\n",
       "      <td>-9999.000000</td>\n",
       "    </tr>\n",
       "    <tr>\n",
       "      <th>max</th>\n",
       "      <td>20141231.000000</td>\n",
       "      <td>1069.000000</td>\n",
       "      <td>30.000000</td>\n",
       "      <td>84.000000</td>\n",
       "      <td>367.000000</td>\n",
       "      <td>244.000000</td>\n",
       "      <td>68.000000</td>\n",
       "      <td>360.000000</td>\n",
       "      <td>360.000000</td>\n",
       "      <td>268.000000</td>\n",
       "      <td>385.000000</td>\n",
       "      <td>-9999</td>\n",
       "      <td>1.000000</td>\n",
       "      <td>-9999</td>\n",
       "      <td>1.000000</td>\n",
       "      <td>1.000000</td>\n",
       "      <td>1.000000</td>\n",
       "      <td>1.000000</td>\n",
       "    </tr>\n",
       "  </tbody>\n",
       "</table>\n",
       "</div>"
      ],
      "text/plain": [
       "                  DATE         PRCP        SNWD         SNOW        TMAX  \\\n",
       "count       365.000000   365.000000  365.000000   365.000000  365.000000   \n",
       "mean   20140668.323288    38.471233    0.328767  -136.569863  212.364384   \n",
       "std         345.475464   112.441205    3.127575  1163.903702   93.062258   \n",
       "min    20140101.000000     0.000000    0.000000 -9999.000000  -38.000000   \n",
       "25%    20140402.000000     0.000000    0.000000     0.000000  144.000000   \n",
       "50%    20140702.000000     0.000000    0.000000     0.000000  228.000000   \n",
       "75%    20141001.000000    15.000000    0.000000     0.000000  289.000000   \n",
       "max    20141231.000000  1069.000000   30.000000    84.000000  367.000000   \n",
       "\n",
       "             TMIN        AWND        WDF2         WDF5        WSF2  \\\n",
       "count  365.000000  365.000000  365.000000   365.000000  365.000000   \n",
       "mean    94.745205   24.865753  166.794521   117.758904   69.273973   \n",
       "std     92.427359   12.123044   94.939969   758.093489   24.267092   \n",
       "min   -138.000000    3.000000   10.000000 -9999.000000   27.000000   \n",
       "25%     17.000000   15.000000   70.000000    80.000000   54.000000   \n",
       "50%    100.000000   24.000000  210.000000   200.000000   67.000000   \n",
       "75%    183.000000   32.000000  230.000000   240.000000   81.000000   \n",
       "max    244.000000   68.000000  360.000000   360.000000  268.000000   \n",
       "\n",
       "              WSF5  PGTM         WT01  WT06         WT02         WT04  \\\n",
       "count   365.000000   365   365.000000   365   365.000000   365.000000   \n",
       "mean     41.882192 -9999 -6574.342466 -9999 -9615.438356 -9971.602740   \n",
       "std     747.105366     0  4751.858538     0  1923.182294   523.423923   \n",
       "min   -9999.000000 -9999 -9999.000000 -9999 -9999.000000 -9999.000000   \n",
       "25%      72.000000 -9999 -9999.000000 -9999 -9999.000000 -9999.000000   \n",
       "50%      94.000000 -9999 -9999.000000 -9999 -9999.000000 -9999.000000   \n",
       "75%     112.000000 -9999     1.000000 -9999 -9999.000000 -9999.000000   \n",
       "max     385.000000 -9999     1.000000 -9999     1.000000     1.000000   \n",
       "\n",
       "              WT08         WT03  \n",
       "count   365.000000   365.000000  \n",
       "mean  -9670.232877 -9642.835616  \n",
       "std    1785.586327  1855.862874  \n",
       "min   -9999.000000 -9999.000000  \n",
       "25%   -9999.000000 -9999.000000  \n",
       "50%   -9999.000000 -9999.000000  \n",
       "75%   -9999.000000 -9999.000000  \n",
       "max       1.000000     1.000000  "
      ]
     },
     "execution_count": 107,
     "metadata": {},
     "output_type": "execute_result"
    }
   ],
   "source": [
    "rdu_weather.describe()"
   ]
  },
  {
   "cell_type": "markdown",
   "metadata": {},
   "source": [
    "# Indexing by date"
   ]
  },
  {
   "cell_type": "markdown",
   "metadata": {},
   "source": [
    "One thing you will find yourself doing quite often is resampling your dataset based on timestamps. This can be important for getting less or more specific breakdowns of information depending on what you're trying to accomplish. However pandas requires us to convert our timestamps to an index manually.\n",
    "\n",
    "##### Why Convert Manually?\n",
    "As we've seen in python already - datetime stamps can come in many shapes and sizes, it is because of this that we have to use a `strftime` formatted string to allow pandas to correctly parse our timestamp into a python datetime object.\n",
    "\n",
    "Lets take a look at the `DATE` column (Series) and see what it currently contains."
   ]
  },
  {
   "cell_type": "code",
   "execution_count": 108,
   "metadata": {
    "collapsed": false
   },
   "outputs": [
    {
     "data": {
      "text/plain": [
       "0    20140101\n",
       "1    20140102\n",
       "2    20140103\n",
       "3    20140104\n",
       "4    20140105\n",
       "Name: DATE, dtype: int64"
      ]
     },
     "execution_count": 108,
     "metadata": {},
     "output_type": "execute_result"
    }
   ],
   "source": [
    "rdu_weather['DATE'].head()"
   ]
  },
  {
   "cell_type": "markdown",
   "metadata": {},
   "source": [
    "Next up lets remove the `DATE` series and reapply it to our DataFrame as an index.\n",
    "\n",
    "##### Why remove the DATE series?\n",
    "The reason we want to convert our date series to an index containing datetime is to easily resample the data.  We will not get this benefit from the `DATE` column as it is - so we remove it from the original DataFrame as it will simply be duplicated data once the converted version of itself is applied to the index."
   ]
  },
  {
   "cell_type": "code",
   "execution_count": 109,
   "metadata": {
    "collapsed": false
   },
   "outputs": [],
   "source": [
    "date_series = rdu_weather.pop('DATE')\n",
    "rdu_weather.index = pd.to_datetime(date_series, format=\"%Y%m%d\") #strftime"
   ]
  },
  {
   "cell_type": "code",
   "execution_count": 110,
   "metadata": {
    "collapsed": false
   },
   "outputs": [
    {
     "data": {
      "text/html": [
       "<div>\n",
       "<table border=\"1\" class=\"dataframe\">\n",
       "  <thead>\n",
       "    <tr style=\"text-align: right;\">\n",
       "      <th></th>\n",
       "      <th>STATION</th>\n",
       "      <th>STATION_NAME</th>\n",
       "      <th>PRCP</th>\n",
       "      <th>SNWD</th>\n",
       "      <th>SNOW</th>\n",
       "      <th>TMAX</th>\n",
       "      <th>TMIN</th>\n",
       "      <th>AWND</th>\n",
       "      <th>WDF2</th>\n",
       "      <th>WDF5</th>\n",
       "      <th>WSF2</th>\n",
       "      <th>WSF5</th>\n",
       "      <th>PGTM</th>\n",
       "      <th>WT01</th>\n",
       "      <th>WT06</th>\n",
       "      <th>WT02</th>\n",
       "      <th>WT04</th>\n",
       "      <th>WT08</th>\n",
       "      <th>WT03</th>\n",
       "    </tr>\n",
       "    <tr>\n",
       "      <th>DATE</th>\n",
       "      <th></th>\n",
       "      <th></th>\n",
       "      <th></th>\n",
       "      <th></th>\n",
       "      <th></th>\n",
       "      <th></th>\n",
       "      <th></th>\n",
       "      <th></th>\n",
       "      <th></th>\n",
       "      <th></th>\n",
       "      <th></th>\n",
       "      <th></th>\n",
       "      <th></th>\n",
       "      <th></th>\n",
       "      <th></th>\n",
       "      <th></th>\n",
       "      <th></th>\n",
       "      <th></th>\n",
       "      <th></th>\n",
       "    </tr>\n",
       "  </thead>\n",
       "  <tbody>\n",
       "    <tr>\n",
       "      <th>2014-01-01</th>\n",
       "      <td>GHCND:USW00013722</td>\n",
       "      <td>RALEIGH DURHAM INTERNATIONAL AIRPORT NC US</td>\n",
       "      <td>0</td>\n",
       "      <td>0</td>\n",
       "      <td>0</td>\n",
       "      <td>106</td>\n",
       "      <td>-16</td>\n",
       "      <td>11</td>\n",
       "      <td>200</td>\n",
       "      <td>210</td>\n",
       "      <td>40</td>\n",
       "      <td>58</td>\n",
       "      <td>-9999</td>\n",
       "      <td>-9999</td>\n",
       "      <td>-9999</td>\n",
       "      <td>-9999</td>\n",
       "      <td>-9999</td>\n",
       "      <td>-9999</td>\n",
       "      <td>-9999</td>\n",
       "    </tr>\n",
       "    <tr>\n",
       "      <th>2014-01-02</th>\n",
       "      <td>GHCND:USW00013722</td>\n",
       "      <td>RALEIGH DURHAM INTERNATIONAL AIRPORT NC US</td>\n",
       "      <td>84</td>\n",
       "      <td>0</td>\n",
       "      <td>-9999</td>\n",
       "      <td>94</td>\n",
       "      <td>28</td>\n",
       "      <td>12</td>\n",
       "      <td>310</td>\n",
       "      <td>320</td>\n",
       "      <td>58</td>\n",
       "      <td>98</td>\n",
       "      <td>-9999</td>\n",
       "      <td>1</td>\n",
       "      <td>-9999</td>\n",
       "      <td>-9999</td>\n",
       "      <td>-9999</td>\n",
       "      <td>-9999</td>\n",
       "      <td>-9999</td>\n",
       "    </tr>\n",
       "    <tr>\n",
       "      <th>2014-01-03</th>\n",
       "      <td>GHCND:USW00013722</td>\n",
       "      <td>RALEIGH DURHAM INTERNATIONAL AIRPORT NC US</td>\n",
       "      <td>0</td>\n",
       "      <td>0</td>\n",
       "      <td>0</td>\n",
       "      <td>61</td>\n",
       "      <td>-55</td>\n",
       "      <td>33</td>\n",
       "      <td>300</td>\n",
       "      <td>310</td>\n",
       "      <td>98</td>\n",
       "      <td>143</td>\n",
       "      <td>-9999</td>\n",
       "      <td>-9999</td>\n",
       "      <td>-9999</td>\n",
       "      <td>-9999</td>\n",
       "      <td>-9999</td>\n",
       "      <td>-9999</td>\n",
       "      <td>-9999</td>\n",
       "    </tr>\n",
       "    <tr>\n",
       "      <th>2014-01-04</th>\n",
       "      <td>GHCND:USW00013722</td>\n",
       "      <td>RALEIGH DURHAM INTERNATIONAL AIRPORT NC US</td>\n",
       "      <td>0</td>\n",
       "      <td>0</td>\n",
       "      <td>0</td>\n",
       "      <td>33</td>\n",
       "      <td>-71</td>\n",
       "      <td>10</td>\n",
       "      <td>120</td>\n",
       "      <td>120</td>\n",
       "      <td>36</td>\n",
       "      <td>58</td>\n",
       "      <td>-9999</td>\n",
       "      <td>-9999</td>\n",
       "      <td>-9999</td>\n",
       "      <td>-9999</td>\n",
       "      <td>-9999</td>\n",
       "      <td>-9999</td>\n",
       "      <td>-9999</td>\n",
       "    </tr>\n",
       "    <tr>\n",
       "      <th>2014-01-05</th>\n",
       "      <td>GHCND:USW00013722</td>\n",
       "      <td>RALEIGH DURHAM INTERNATIONAL AIRPORT NC US</td>\n",
       "      <td>0</td>\n",
       "      <td>0</td>\n",
       "      <td>0</td>\n",
       "      <td>167</td>\n",
       "      <td>28</td>\n",
       "      <td>22</td>\n",
       "      <td>180</td>\n",
       "      <td>180</td>\n",
       "      <td>72</td>\n",
       "      <td>94</td>\n",
       "      <td>-9999</td>\n",
       "      <td>-9999</td>\n",
       "      <td>-9999</td>\n",
       "      <td>-9999</td>\n",
       "      <td>-9999</td>\n",
       "      <td>-9999</td>\n",
       "      <td>-9999</td>\n",
       "    </tr>\n",
       "  </tbody>\n",
       "</table>\n",
       "</div>"
      ],
      "text/plain": [
       "                      STATION                                STATION_NAME  \\\n",
       "DATE                                                                        \n",
       "2014-01-01  GHCND:USW00013722  RALEIGH DURHAM INTERNATIONAL AIRPORT NC US   \n",
       "2014-01-02  GHCND:USW00013722  RALEIGH DURHAM INTERNATIONAL AIRPORT NC US   \n",
       "2014-01-03  GHCND:USW00013722  RALEIGH DURHAM INTERNATIONAL AIRPORT NC US   \n",
       "2014-01-04  GHCND:USW00013722  RALEIGH DURHAM INTERNATIONAL AIRPORT NC US   \n",
       "2014-01-05  GHCND:USW00013722  RALEIGH DURHAM INTERNATIONAL AIRPORT NC US   \n",
       "\n",
       "            PRCP  SNWD  SNOW  TMAX  TMIN  AWND  WDF2  WDF5  WSF2  WSF5  PGTM  \\\n",
       "DATE                                                                           \n",
       "2014-01-01     0     0     0   106   -16    11   200   210    40    58 -9999   \n",
       "2014-01-02    84     0 -9999    94    28    12   310   320    58    98 -9999   \n",
       "2014-01-03     0     0     0    61   -55    33   300   310    98   143 -9999   \n",
       "2014-01-04     0     0     0    33   -71    10   120   120    36    58 -9999   \n",
       "2014-01-05     0     0     0   167    28    22   180   180    72    94 -9999   \n",
       "\n",
       "            WT01  WT06  WT02  WT04  WT08  WT03  \n",
       "DATE                                            \n",
       "2014-01-01 -9999 -9999 -9999 -9999 -9999 -9999  \n",
       "2014-01-02     1 -9999 -9999 -9999 -9999 -9999  \n",
       "2014-01-03 -9999 -9999 -9999 -9999 -9999 -9999  \n",
       "2014-01-04 -9999 -9999 -9999 -9999 -9999 -9999  \n",
       "2014-01-05 -9999 -9999 -9999 -9999 -9999 -9999  "
      ]
     },
     "execution_count": 110,
     "metadata": {},
     "output_type": "execute_result"
    }
   ],
   "source": [
    "rdu_weather.head()"
   ]
  },
  {
   "cell_type": "markdown",
   "metadata": {},
   "source": [
    "# Cleaning up data"
   ]
  },
  {
   "cell_type": "markdown",
   "metadata": {},
   "source": [
    "Cleaning up datasets will account for 90% of your time as a data scientist.  In our case the creator of this dataset has decided that missing or irrelevant data will be represented as an integer of `-9999`.  This makes sense why they chose the number as it wouldn't logically represent any valid measurement releating to an airport weather station.  And besides - the instrument recording the data probably was required to record some sort of data for every field... so this is how they hacked their way around it."
   ]
  },
  {
   "cell_type": "markdown",
   "metadata": {},
   "source": [
    "##### .replace()\n",
    "For our purposes the best thing to replace missing/irrelevant data with is `NaN` (not a number).  `numpy` gives us a `NaN` value we can use - however in Python 3.5 a new constant `math.nan` was added. So use that if you prefer.\n",
    "\n",
    "Lets replace the first few rows to make sure it worked."
   ]
  },
  {
   "cell_type": "code",
   "execution_count": 111,
   "metadata": {
    "collapsed": false
   },
   "outputs": [
    {
     "data": {
      "text/html": [
       "<div>\n",
       "<table border=\"1\" class=\"dataframe\">\n",
       "  <thead>\n",
       "    <tr style=\"text-align: right;\">\n",
       "      <th></th>\n",
       "      <th>STATION</th>\n",
       "      <th>STATION_NAME</th>\n",
       "      <th>PRCP</th>\n",
       "      <th>SNWD</th>\n",
       "      <th>SNOW</th>\n",
       "      <th>TMAX</th>\n",
       "      <th>TMIN</th>\n",
       "      <th>AWND</th>\n",
       "      <th>WDF2</th>\n",
       "      <th>WDF5</th>\n",
       "      <th>WSF2</th>\n",
       "      <th>WSF5</th>\n",
       "      <th>PGTM</th>\n",
       "      <th>WT01</th>\n",
       "      <th>WT06</th>\n",
       "      <th>WT02</th>\n",
       "      <th>WT04</th>\n",
       "      <th>WT08</th>\n",
       "      <th>WT03</th>\n",
       "    </tr>\n",
       "    <tr>\n",
       "      <th>DATE</th>\n",
       "      <th></th>\n",
       "      <th></th>\n",
       "      <th></th>\n",
       "      <th></th>\n",
       "      <th></th>\n",
       "      <th></th>\n",
       "      <th></th>\n",
       "      <th></th>\n",
       "      <th></th>\n",
       "      <th></th>\n",
       "      <th></th>\n",
       "      <th></th>\n",
       "      <th></th>\n",
       "      <th></th>\n",
       "      <th></th>\n",
       "      <th></th>\n",
       "      <th></th>\n",
       "      <th></th>\n",
       "      <th></th>\n",
       "    </tr>\n",
       "  </thead>\n",
       "  <tbody>\n",
       "    <tr>\n",
       "      <th>2014-01-01</th>\n",
       "      <td>GHCND:USW00013722</td>\n",
       "      <td>RALEIGH DURHAM INTERNATIONAL AIRPORT NC US</td>\n",
       "      <td>0</td>\n",
       "      <td>0</td>\n",
       "      <td>0</td>\n",
       "      <td>106</td>\n",
       "      <td>-16</td>\n",
       "      <td>11</td>\n",
       "      <td>200</td>\n",
       "      <td>210</td>\n",
       "      <td>40</td>\n",
       "      <td>58</td>\n",
       "      <td>NaN</td>\n",
       "      <td>NaN</td>\n",
       "      <td>NaN</td>\n",
       "      <td>NaN</td>\n",
       "      <td>NaN</td>\n",
       "      <td>NaN</td>\n",
       "      <td>NaN</td>\n",
       "    </tr>\n",
       "    <tr>\n",
       "      <th>2014-01-02</th>\n",
       "      <td>GHCND:USW00013722</td>\n",
       "      <td>RALEIGH DURHAM INTERNATIONAL AIRPORT NC US</td>\n",
       "      <td>84</td>\n",
       "      <td>0</td>\n",
       "      <td>NaN</td>\n",
       "      <td>94</td>\n",
       "      <td>28</td>\n",
       "      <td>12</td>\n",
       "      <td>310</td>\n",
       "      <td>320</td>\n",
       "      <td>58</td>\n",
       "      <td>98</td>\n",
       "      <td>NaN</td>\n",
       "      <td>1</td>\n",
       "      <td>NaN</td>\n",
       "      <td>NaN</td>\n",
       "      <td>NaN</td>\n",
       "      <td>NaN</td>\n",
       "      <td>NaN</td>\n",
       "    </tr>\n",
       "    <tr>\n",
       "      <th>2014-01-03</th>\n",
       "      <td>GHCND:USW00013722</td>\n",
       "      <td>RALEIGH DURHAM INTERNATIONAL AIRPORT NC US</td>\n",
       "      <td>0</td>\n",
       "      <td>0</td>\n",
       "      <td>0</td>\n",
       "      <td>61</td>\n",
       "      <td>-55</td>\n",
       "      <td>33</td>\n",
       "      <td>300</td>\n",
       "      <td>310</td>\n",
       "      <td>98</td>\n",
       "      <td>143</td>\n",
       "      <td>NaN</td>\n",
       "      <td>NaN</td>\n",
       "      <td>NaN</td>\n",
       "      <td>NaN</td>\n",
       "      <td>NaN</td>\n",
       "      <td>NaN</td>\n",
       "      <td>NaN</td>\n",
       "    </tr>\n",
       "    <tr>\n",
       "      <th>2014-01-04</th>\n",
       "      <td>GHCND:USW00013722</td>\n",
       "      <td>RALEIGH DURHAM INTERNATIONAL AIRPORT NC US</td>\n",
       "      <td>0</td>\n",
       "      <td>0</td>\n",
       "      <td>0</td>\n",
       "      <td>33</td>\n",
       "      <td>-71</td>\n",
       "      <td>10</td>\n",
       "      <td>120</td>\n",
       "      <td>120</td>\n",
       "      <td>36</td>\n",
       "      <td>58</td>\n",
       "      <td>NaN</td>\n",
       "      <td>NaN</td>\n",
       "      <td>NaN</td>\n",
       "      <td>NaN</td>\n",
       "      <td>NaN</td>\n",
       "      <td>NaN</td>\n",
       "      <td>NaN</td>\n",
       "    </tr>\n",
       "  </tbody>\n",
       "</table>\n",
       "</div>"
      ],
      "text/plain": [
       "                      STATION                                STATION_NAME  \\\n",
       "DATE                                                                        \n",
       "2014-01-01  GHCND:USW00013722  RALEIGH DURHAM INTERNATIONAL AIRPORT NC US   \n",
       "2014-01-02  GHCND:USW00013722  RALEIGH DURHAM INTERNATIONAL AIRPORT NC US   \n",
       "2014-01-03  GHCND:USW00013722  RALEIGH DURHAM INTERNATIONAL AIRPORT NC US   \n",
       "2014-01-04  GHCND:USW00013722  RALEIGH DURHAM INTERNATIONAL AIRPORT NC US   \n",
       "\n",
       "            PRCP  SNWD  SNOW  TMAX  TMIN  AWND  WDF2  WDF5  WSF2  WSF5  PGTM  \\\n",
       "DATE                                                                           \n",
       "2014-01-01     0     0     0   106   -16    11   200   210    40    58   NaN   \n",
       "2014-01-02    84     0   NaN    94    28    12   310   320    58    98   NaN   \n",
       "2014-01-03     0     0     0    61   -55    33   300   310    98   143   NaN   \n",
       "2014-01-04     0     0     0    33   -71    10   120   120    36    58   NaN   \n",
       "\n",
       "            WT01  WT06  WT02  WT04  WT08  WT03  \n",
       "DATE                                            \n",
       "2014-01-01   NaN   NaN   NaN   NaN   NaN   NaN  \n",
       "2014-01-02     1   NaN   NaN   NaN   NaN   NaN  \n",
       "2014-01-03   NaN   NaN   NaN   NaN   NaN   NaN  \n",
       "2014-01-04   NaN   NaN   NaN   NaN   NaN   NaN  "
      ]
     },
     "execution_count": 111,
     "metadata": {},
     "output_type": "execute_result"
    }
   ],
   "source": [
    "rdu_weather.replace(-9999, np.nan)[0:4]"
   ]
  },
  {
   "cell_type": "markdown",
   "metadata": {},
   "source": [
    "Well it worked but the DataFrame is left unchanged - that's because the `.replace()` function returns a new DataFrame with the values changed. For our purposes we can reassign the `rdu_weather` variable to the return value of `.replace()`."
   ]
  },
  {
   "cell_type": "code",
   "execution_count": 112,
   "metadata": {
    "collapsed": false
   },
   "outputs": [],
   "source": [
    "rdu_weather = rdu_weather.replace(-9999, np.nan)"
   ]
  },
  {
   "cell_type": "code",
   "execution_count": 113,
   "metadata": {
    "collapsed": false
   },
   "outputs": [
    {
     "data": {
      "text/html": [
       "<div>\n",
       "<table border=\"1\" class=\"dataframe\">\n",
       "  <thead>\n",
       "    <tr style=\"text-align: right;\">\n",
       "      <th></th>\n",
       "      <th>STATION</th>\n",
       "      <th>STATION_NAME</th>\n",
       "      <th>PRCP</th>\n",
       "      <th>SNWD</th>\n",
       "      <th>SNOW</th>\n",
       "      <th>TMAX</th>\n",
       "      <th>TMIN</th>\n",
       "      <th>AWND</th>\n",
       "      <th>WDF2</th>\n",
       "      <th>WDF5</th>\n",
       "      <th>WSF2</th>\n",
       "      <th>WSF5</th>\n",
       "      <th>PGTM</th>\n",
       "      <th>WT01</th>\n",
       "      <th>WT06</th>\n",
       "      <th>WT02</th>\n",
       "      <th>WT04</th>\n",
       "      <th>WT08</th>\n",
       "      <th>WT03</th>\n",
       "    </tr>\n",
       "    <tr>\n",
       "      <th>DATE</th>\n",
       "      <th></th>\n",
       "      <th></th>\n",
       "      <th></th>\n",
       "      <th></th>\n",
       "      <th></th>\n",
       "      <th></th>\n",
       "      <th></th>\n",
       "      <th></th>\n",
       "      <th></th>\n",
       "      <th></th>\n",
       "      <th></th>\n",
       "      <th></th>\n",
       "      <th></th>\n",
       "      <th></th>\n",
       "      <th></th>\n",
       "      <th></th>\n",
       "      <th></th>\n",
       "      <th></th>\n",
       "      <th></th>\n",
       "    </tr>\n",
       "  </thead>\n",
       "  <tbody>\n",
       "    <tr>\n",
       "      <th>2014-01-01</th>\n",
       "      <td>GHCND:USW00013722</td>\n",
       "      <td>RALEIGH DURHAM INTERNATIONAL AIRPORT NC US</td>\n",
       "      <td>0</td>\n",
       "      <td>0</td>\n",
       "      <td>0</td>\n",
       "      <td>106</td>\n",
       "      <td>-16</td>\n",
       "      <td>11</td>\n",
       "      <td>200</td>\n",
       "      <td>210</td>\n",
       "      <td>40</td>\n",
       "      <td>58</td>\n",
       "      <td>NaN</td>\n",
       "      <td>NaN</td>\n",
       "      <td>NaN</td>\n",
       "      <td>NaN</td>\n",
       "      <td>NaN</td>\n",
       "      <td>NaN</td>\n",
       "      <td>NaN</td>\n",
       "    </tr>\n",
       "    <tr>\n",
       "      <th>2014-01-02</th>\n",
       "      <td>GHCND:USW00013722</td>\n",
       "      <td>RALEIGH DURHAM INTERNATIONAL AIRPORT NC US</td>\n",
       "      <td>84</td>\n",
       "      <td>0</td>\n",
       "      <td>NaN</td>\n",
       "      <td>94</td>\n",
       "      <td>28</td>\n",
       "      <td>12</td>\n",
       "      <td>310</td>\n",
       "      <td>320</td>\n",
       "      <td>58</td>\n",
       "      <td>98</td>\n",
       "      <td>NaN</td>\n",
       "      <td>1</td>\n",
       "      <td>NaN</td>\n",
       "      <td>NaN</td>\n",
       "      <td>NaN</td>\n",
       "      <td>NaN</td>\n",
       "      <td>NaN</td>\n",
       "    </tr>\n",
       "    <tr>\n",
       "      <th>2014-01-03</th>\n",
       "      <td>GHCND:USW00013722</td>\n",
       "      <td>RALEIGH DURHAM INTERNATIONAL AIRPORT NC US</td>\n",
       "      <td>0</td>\n",
       "      <td>0</td>\n",
       "      <td>0</td>\n",
       "      <td>61</td>\n",
       "      <td>-55</td>\n",
       "      <td>33</td>\n",
       "      <td>300</td>\n",
       "      <td>310</td>\n",
       "      <td>98</td>\n",
       "      <td>143</td>\n",
       "      <td>NaN</td>\n",
       "      <td>NaN</td>\n",
       "      <td>NaN</td>\n",
       "      <td>NaN</td>\n",
       "      <td>NaN</td>\n",
       "      <td>NaN</td>\n",
       "      <td>NaN</td>\n",
       "    </tr>\n",
       "    <tr>\n",
       "      <th>2014-01-04</th>\n",
       "      <td>GHCND:USW00013722</td>\n",
       "      <td>RALEIGH DURHAM INTERNATIONAL AIRPORT NC US</td>\n",
       "      <td>0</td>\n",
       "      <td>0</td>\n",
       "      <td>0</td>\n",
       "      <td>33</td>\n",
       "      <td>-71</td>\n",
       "      <td>10</td>\n",
       "      <td>120</td>\n",
       "      <td>120</td>\n",
       "      <td>36</td>\n",
       "      <td>58</td>\n",
       "      <td>NaN</td>\n",
       "      <td>NaN</td>\n",
       "      <td>NaN</td>\n",
       "      <td>NaN</td>\n",
       "      <td>NaN</td>\n",
       "      <td>NaN</td>\n",
       "      <td>NaN</td>\n",
       "    </tr>\n",
       "    <tr>\n",
       "      <th>2014-01-05</th>\n",
       "      <td>GHCND:USW00013722</td>\n",
       "      <td>RALEIGH DURHAM INTERNATIONAL AIRPORT NC US</td>\n",
       "      <td>0</td>\n",
       "      <td>0</td>\n",
       "      <td>0</td>\n",
       "      <td>167</td>\n",
       "      <td>28</td>\n",
       "      <td>22</td>\n",
       "      <td>180</td>\n",
       "      <td>180</td>\n",
       "      <td>72</td>\n",
       "      <td>94</td>\n",
       "      <td>NaN</td>\n",
       "      <td>NaN</td>\n",
       "      <td>NaN</td>\n",
       "      <td>NaN</td>\n",
       "      <td>NaN</td>\n",
       "      <td>NaN</td>\n",
       "      <td>NaN</td>\n",
       "    </tr>\n",
       "  </tbody>\n",
       "</table>\n",
       "</div>"
      ],
      "text/plain": [
       "                      STATION                                STATION_NAME  \\\n",
       "DATE                                                                        \n",
       "2014-01-01  GHCND:USW00013722  RALEIGH DURHAM INTERNATIONAL AIRPORT NC US   \n",
       "2014-01-02  GHCND:USW00013722  RALEIGH DURHAM INTERNATIONAL AIRPORT NC US   \n",
       "2014-01-03  GHCND:USW00013722  RALEIGH DURHAM INTERNATIONAL AIRPORT NC US   \n",
       "2014-01-04  GHCND:USW00013722  RALEIGH DURHAM INTERNATIONAL AIRPORT NC US   \n",
       "2014-01-05  GHCND:USW00013722  RALEIGH DURHAM INTERNATIONAL AIRPORT NC US   \n",
       "\n",
       "            PRCP  SNWD  SNOW  TMAX  TMIN  AWND  WDF2  WDF5  WSF2  WSF5  PGTM  \\\n",
       "DATE                                                                           \n",
       "2014-01-01     0     0     0   106   -16    11   200   210    40    58   NaN   \n",
       "2014-01-02    84     0   NaN    94    28    12   310   320    58    98   NaN   \n",
       "2014-01-03     0     0     0    61   -55    33   300   310    98   143   NaN   \n",
       "2014-01-04     0     0     0    33   -71    10   120   120    36    58   NaN   \n",
       "2014-01-05     0     0     0   167    28    22   180   180    72    94   NaN   \n",
       "\n",
       "            WT01  WT06  WT02  WT04  WT08  WT03  \n",
       "DATE                                            \n",
       "2014-01-01   NaN   NaN   NaN   NaN   NaN   NaN  \n",
       "2014-01-02     1   NaN   NaN   NaN   NaN   NaN  \n",
       "2014-01-03   NaN   NaN   NaN   NaN   NaN   NaN  \n",
       "2014-01-04   NaN   NaN   NaN   NaN   NaN   NaN  \n",
       "2014-01-05   NaN   NaN   NaN   NaN   NaN   NaN  "
      ]
     },
     "execution_count": 113,
     "metadata": {},
     "output_type": "execute_result"
    }
   ],
   "source": [
    "rdu_weather.head()"
   ]
  },
  {
   "cell_type": "markdown",
   "metadata": {},
   "source": [
    "We can continue with this method of changing our DataFrame.  We can specifically ask for a new DataFrame only containing specific columns.\n",
    "\n",
    "##### Warning!\n",
    "This is a pretty destructive act.  Given the statefulness of an ipython notebook, do not expect a complicated notebook to work as you'd expect if you make a habit out of redefining a DataFrame as a changed version of itself."
   ]
  },
  {
   "cell_type": "code",
   "execution_count": 114,
   "metadata": {
    "collapsed": false
   },
   "outputs": [
    {
     "data": {
      "text/plain": [
       "Index(['TMAX', 'TMIN', 'AWND', 'PRCP', 'SNOW'], dtype='object')"
      ]
     },
     "execution_count": 114,
     "metadata": {},
     "output_type": "execute_result"
    }
   ],
   "source": [
    "rdu_weather = rdu_weather[['TMAX', 'TMIN', 'AWND', 'PRCP', 'SNOW']]\n",
    "rdu_weather.columns"
   ]
  },
  {
   "cell_type": "code",
   "execution_count": 115,
   "metadata": {
    "collapsed": false
   },
   "outputs": [
    {
     "data": {
      "text/html": [
       "<div>\n",
       "<table border=\"1\" class=\"dataframe\">\n",
       "  <thead>\n",
       "    <tr style=\"text-align: right;\">\n",
       "      <th></th>\n",
       "      <th>TMAX</th>\n",
       "      <th>TMIN</th>\n",
       "      <th>AWND</th>\n",
       "      <th>PRCP</th>\n",
       "      <th>SNOW</th>\n",
       "    </tr>\n",
       "    <tr>\n",
       "      <th>DATE</th>\n",
       "      <th></th>\n",
       "      <th></th>\n",
       "      <th></th>\n",
       "      <th></th>\n",
       "      <th></th>\n",
       "    </tr>\n",
       "  </thead>\n",
       "  <tbody>\n",
       "    <tr>\n",
       "      <th>2014-01-01</th>\n",
       "      <td>106</td>\n",
       "      <td>-16</td>\n",
       "      <td>11</td>\n",
       "      <td>0</td>\n",
       "      <td>0</td>\n",
       "    </tr>\n",
       "    <tr>\n",
       "      <th>2014-01-02</th>\n",
       "      <td>94</td>\n",
       "      <td>28</td>\n",
       "      <td>12</td>\n",
       "      <td>84</td>\n",
       "      <td>NaN</td>\n",
       "    </tr>\n",
       "    <tr>\n",
       "      <th>2014-01-03</th>\n",
       "      <td>61</td>\n",
       "      <td>-55</td>\n",
       "      <td>33</td>\n",
       "      <td>0</td>\n",
       "      <td>0</td>\n",
       "    </tr>\n",
       "    <tr>\n",
       "      <th>2014-01-04</th>\n",
       "      <td>33</td>\n",
       "      <td>-71</td>\n",
       "      <td>10</td>\n",
       "      <td>0</td>\n",
       "      <td>0</td>\n",
       "    </tr>\n",
       "    <tr>\n",
       "      <th>2014-01-05</th>\n",
       "      <td>167</td>\n",
       "      <td>28</td>\n",
       "      <td>22</td>\n",
       "      <td>0</td>\n",
       "      <td>0</td>\n",
       "    </tr>\n",
       "  </tbody>\n",
       "</table>\n",
       "</div>"
      ],
      "text/plain": [
       "            TMAX  TMIN  AWND  PRCP  SNOW\n",
       "DATE                                    \n",
       "2014-01-01   106   -16    11     0     0\n",
       "2014-01-02    94    28    12    84   NaN\n",
       "2014-01-03    61   -55    33     0     0\n",
       "2014-01-04    33   -71    10     0     0\n",
       "2014-01-05   167    28    22     0     0"
      ]
     },
     "execution_count": 115,
     "metadata": {},
     "output_type": "execute_result"
    }
   ],
   "source": [
    "rdu_weather.head()"
   ]
  },
  {
   "cell_type": "markdown",
   "metadata": {},
   "source": [
    "#### Unit Conversion\n",
    "\n",
    "In our situation our temperatures are in Celsius. While that wouldn't pose a problem for most of the world, it can be confusing for Americans. So we can write a function that accepts a series as a parameter and returns a converted version of that series.\n",
    "\n",
    "With this function we can remove a series from the DataFrame, pass it to the function, and get back the new converted series.  Finally we can assign the series back onto the DataFrame with a new column name."
   ]
  },
  {
   "cell_type": "code",
   "execution_count": 116,
   "metadata": {
    "collapsed": true
   },
   "outputs": [],
   "source": [
    "def to_fahrenheit(temps):\n",
    "    return (temps / 10 * (9 / 5) + 32).round(1)"
   ]
  },
  {
   "cell_type": "code",
   "execution_count": 117,
   "metadata": {
    "collapsed": false
   },
   "outputs": [],
   "source": [
    "rdu_weather[\"temp_max\"] = to_fahrenheit(rdu_weather.pop('TMAX'))\n",
    "rdu_weather['temp_min'] = to_fahrenheit(rdu_weather.pop('TMIN'))"
   ]
  },
  {
   "cell_type": "code",
   "execution_count": 118,
   "metadata": {
    "collapsed": false
   },
   "outputs": [
    {
     "data": {
      "text/html": [
       "<div>\n",
       "<table border=\"1\" class=\"dataframe\">\n",
       "  <thead>\n",
       "    <tr style=\"text-align: right;\">\n",
       "      <th></th>\n",
       "      <th>AWND</th>\n",
       "      <th>PRCP</th>\n",
       "      <th>SNOW</th>\n",
       "      <th>temp_max</th>\n",
       "      <th>temp_min</th>\n",
       "    </tr>\n",
       "    <tr>\n",
       "      <th>DATE</th>\n",
       "      <th></th>\n",
       "      <th></th>\n",
       "      <th></th>\n",
       "      <th></th>\n",
       "      <th></th>\n",
       "    </tr>\n",
       "  </thead>\n",
       "  <tbody>\n",
       "    <tr>\n",
       "      <th>2014-01-01</th>\n",
       "      <td>11</td>\n",
       "      <td>0</td>\n",
       "      <td>0</td>\n",
       "      <td>51.1</td>\n",
       "      <td>29.1</td>\n",
       "    </tr>\n",
       "    <tr>\n",
       "      <th>2014-01-02</th>\n",
       "      <td>12</td>\n",
       "      <td>84</td>\n",
       "      <td>NaN</td>\n",
       "      <td>48.9</td>\n",
       "      <td>37.0</td>\n",
       "    </tr>\n",
       "    <tr>\n",
       "      <th>2014-01-03</th>\n",
       "      <td>33</td>\n",
       "      <td>0</td>\n",
       "      <td>0</td>\n",
       "      <td>43.0</td>\n",
       "      <td>22.1</td>\n",
       "    </tr>\n",
       "    <tr>\n",
       "      <th>2014-01-04</th>\n",
       "      <td>10</td>\n",
       "      <td>0</td>\n",
       "      <td>0</td>\n",
       "      <td>37.9</td>\n",
       "      <td>19.2</td>\n",
       "    </tr>\n",
       "    <tr>\n",
       "      <th>2014-01-05</th>\n",
       "      <td>22</td>\n",
       "      <td>0</td>\n",
       "      <td>0</td>\n",
       "      <td>62.1</td>\n",
       "      <td>37.0</td>\n",
       "    </tr>\n",
       "  </tbody>\n",
       "</table>\n",
       "</div>"
      ],
      "text/plain": [
       "            AWND  PRCP  SNOW  temp_max  temp_min\n",
       "DATE                                            \n",
       "2014-01-01    11     0     0      51.1      29.1\n",
       "2014-01-02    12    84   NaN      48.9      37.0\n",
       "2014-01-03    33     0     0      43.0      22.1\n",
       "2014-01-04    10     0     0      37.9      19.2\n",
       "2014-01-05    22     0     0      62.1      37.0"
      ]
     },
     "execution_count": 118,
     "metadata": {},
     "output_type": "execute_result"
    }
   ],
   "source": [
    "rdu_weather.head()"
   ]
  },
  {
   "cell_type": "markdown",
   "metadata": {},
   "source": [
    "##### In-place conversion\n",
    "The above method is not the only way to convert all values in an entire series. You can just perform math on a series after we've popped it out of the DataFrame and re-apply it back to the DataFrame.\n",
    "\n",
    " - Wind speed is in 10ths of meters per second.\n",
    " - Precipitation is in 10ths of millimeters.\n",
    " - Snowfall is in millimeters - which is okay, so let's just rename it."
   ]
  },
  {
   "cell_type": "code",
   "execution_count": 119,
   "metadata": {
    "collapsed": true
   },
   "outputs": [],
   "source": [
    "rdu_weather[\"wind_speed\"] = rdu_weather.pop(\"AWND\") / 10\n",
    "rdu_weather[\"precipitation\"] = rdu_weather.pop(\"PRCP\") / 10\n",
    "rdu_weather = rdu_weather.rename(columns={\"SNOW\": \"snowfall\"})"
   ]
  },
  {
   "cell_type": "code",
   "execution_count": 120,
   "metadata": {
    "collapsed": false
   },
   "outputs": [
    {
     "data": {
      "text/html": [
       "<div>\n",
       "<table border=\"1\" class=\"dataframe\">\n",
       "  <thead>\n",
       "    <tr style=\"text-align: right;\">\n",
       "      <th></th>\n",
       "      <th>snowfall</th>\n",
       "      <th>temp_max</th>\n",
       "      <th>temp_min</th>\n",
       "      <th>wind_speed</th>\n",
       "      <th>precipitation</th>\n",
       "    </tr>\n",
       "    <tr>\n",
       "      <th>DATE</th>\n",
       "      <th></th>\n",
       "      <th></th>\n",
       "      <th></th>\n",
       "      <th></th>\n",
       "      <th></th>\n",
       "    </tr>\n",
       "  </thead>\n",
       "  <tbody>\n",
       "    <tr>\n",
       "      <th>2014-01-01</th>\n",
       "      <td>0</td>\n",
       "      <td>51.1</td>\n",
       "      <td>29.1</td>\n",
       "      <td>1.1</td>\n",
       "      <td>0.0</td>\n",
       "    </tr>\n",
       "    <tr>\n",
       "      <th>2014-01-02</th>\n",
       "      <td>NaN</td>\n",
       "      <td>48.9</td>\n",
       "      <td>37.0</td>\n",
       "      <td>1.2</td>\n",
       "      <td>8.4</td>\n",
       "    </tr>\n",
       "    <tr>\n",
       "      <th>2014-01-03</th>\n",
       "      <td>0</td>\n",
       "      <td>43.0</td>\n",
       "      <td>22.1</td>\n",
       "      <td>3.3</td>\n",
       "      <td>0.0</td>\n",
       "    </tr>\n",
       "    <tr>\n",
       "      <th>2014-01-04</th>\n",
       "      <td>0</td>\n",
       "      <td>37.9</td>\n",
       "      <td>19.2</td>\n",
       "      <td>1.0</td>\n",
       "      <td>0.0</td>\n",
       "    </tr>\n",
       "    <tr>\n",
       "      <th>2014-01-05</th>\n",
       "      <td>0</td>\n",
       "      <td>62.1</td>\n",
       "      <td>37.0</td>\n",
       "      <td>2.2</td>\n",
       "      <td>0.0</td>\n",
       "    </tr>\n",
       "  </tbody>\n",
       "</table>\n",
       "</div>"
      ],
      "text/plain": [
       "            snowfall  temp_max  temp_min  wind_speed  precipitation\n",
       "DATE                                                               \n",
       "2014-01-01         0      51.1      29.1         1.1            0.0\n",
       "2014-01-02       NaN      48.9      37.0         1.2            8.4\n",
       "2014-01-03         0      43.0      22.1         3.3            0.0\n",
       "2014-01-04         0      37.9      19.2         1.0            0.0\n",
       "2014-01-05         0      62.1      37.0         2.2            0.0"
      ]
     },
     "execution_count": 120,
     "metadata": {},
     "output_type": "execute_result"
    }
   ],
   "source": [
    "rdu_weather.head()"
   ]
  },
  {
   "cell_type": "markdown",
   "metadata": {},
   "source": [
    "## Remove NaNs"
   ]
  },
  {
   "cell_type": "markdown",
   "metadata": {},
   "source": [
    "One easy way to see if there are NaNs in a Series is to get the unique values in our Series and NaN will show up as one."
   ]
  },
  {
   "cell_type": "code",
   "execution_count": 121,
   "metadata": {
    "collapsed": false
   },
   "outputs": [
    {
     "data": {
      "text/plain": [
       "array([  0.,  nan,  13.,  30.,   5.,  84.,  10.])"
      ]
     },
     "execution_count": 121,
     "metadata": {},
     "output_type": "execute_result"
    }
   ],
   "source": [
    "rdu_weather.snowfall.unique()"
   ]
  },
  {
   "cell_type": "code",
   "execution_count": 122,
   "metadata": {
    "collapsed": false
   },
   "outputs": [
    {
     "data": {
      "text/plain": [
       "array([ 1.1,  1.2,  3.3,  1. ,  2.2,  6.1,  3.4,  1.3,  1.6,  4.6,  2.6,\n",
       "        3.2,  2. ,  1.7,  4.1,  3. ,  3.8,  3.6,  2.1,  2.8,  6.8,  4.3,\n",
       "        3.7,  1.8,  0.8,  0.9,  1.4,  4.9,  4. ,  2.9,  5.1,  2.3,  1.5,\n",
       "        6. ,  1.9,  2.4,  5.8,  3.1,  2.5,  4.7,  5.2,  2.7,  5. ,  4.8,\n",
       "        3.5,  5.5,  3.9,  4.4,  5.3,  0.6,  0.5,  0.4,  4.2,  0.7,  0.3,\n",
       "        5.9])"
      ]
     },
     "execution_count": 122,
     "metadata": {},
     "output_type": "execute_result"
    }
   ],
   "source": [
    "rdu_weather.wind_speed.unique()"
   ]
  },
  {
   "cell_type": "code",
   "execution_count": 123,
   "metadata": {
    "collapsed": false
   },
   "outputs": [
    {
     "data": {
      "text/plain": [
       "array([   0. ,    8.4,    3.3,   14.5,    7.1,    7.6,    1.8,    2.5,\n",
       "          4.6,   12.2,    1.5,    2. ,   16.3,    9.9,    6.9,   12.7,\n",
       "         10.2,    9.1,   14. ,   43.7,    8.9,    7.4,   11.7,    2.3,\n",
       "          1. ,    3.6,    0.8,    7.9,   12.4,    5.8,   36.1,    0.3,\n",
       "         33.5,   14.2,   11.9,    1.3,   28.4,   85.9,    5.6,    0.5,\n",
       "         14.7,   10.7,   22.4,   16.8,  106.9,   23.6,   29.5,   36.8,\n",
       "         11.4,   18. ,   25.7,   62.2,   15.5,   26.9,   30. ,   26.4,\n",
       "          3. ,    3.8,   80.8,   16. ,   15.7,    5.3,   10.9,   42.9,\n",
       "          4.1,    8.1,   22.9,   43.4,   18.3])"
      ]
     },
     "execution_count": 123,
     "metadata": {},
     "output_type": "execute_result"
    }
   ],
   "source": [
    "rdu_weather.precipitation.unique()"
   ]
  },
  {
   "cell_type": "code",
   "execution_count": 124,
   "metadata": {
    "collapsed": false
   },
   "outputs": [
    {
     "data": {
      "text/html": [
       "<div>\n",
       "<table border=\"1\" class=\"dataframe\">\n",
       "  <thead>\n",
       "    <tr style=\"text-align: right;\">\n",
       "      <th></th>\n",
       "      <th>snowfall</th>\n",
       "      <th>temp_max</th>\n",
       "      <th>temp_min</th>\n",
       "      <th>wind_speed</th>\n",
       "      <th>precipitation</th>\n",
       "    </tr>\n",
       "    <tr>\n",
       "      <th>DATE</th>\n",
       "      <th></th>\n",
       "      <th></th>\n",
       "      <th></th>\n",
       "      <th></th>\n",
       "      <th></th>\n",
       "    </tr>\n",
       "  </thead>\n",
       "  <tbody>\n",
       "    <tr>\n",
       "      <th>2014-01-01</th>\n",
       "      <td>0</td>\n",
       "      <td>51.1</td>\n",
       "      <td>29.1</td>\n",
       "      <td>1.1</td>\n",
       "      <td>0.0</td>\n",
       "    </tr>\n",
       "    <tr>\n",
       "      <th>2014-01-02</th>\n",
       "      <td>NaN</td>\n",
       "      <td>48.9</td>\n",
       "      <td>37.0</td>\n",
       "      <td>1.2</td>\n",
       "      <td>8.4</td>\n",
       "    </tr>\n",
       "    <tr>\n",
       "      <th>2014-01-03</th>\n",
       "      <td>0</td>\n",
       "      <td>43.0</td>\n",
       "      <td>22.1</td>\n",
       "      <td>3.3</td>\n",
       "      <td>0.0</td>\n",
       "    </tr>\n",
       "    <tr>\n",
       "      <th>2014-01-04</th>\n",
       "      <td>0</td>\n",
       "      <td>37.9</td>\n",
       "      <td>19.2</td>\n",
       "      <td>1.0</td>\n",
       "      <td>0.0</td>\n",
       "    </tr>\n",
       "    <tr>\n",
       "      <th>2014-01-05</th>\n",
       "      <td>0</td>\n",
       "      <td>62.1</td>\n",
       "      <td>37.0</td>\n",
       "      <td>2.2</td>\n",
       "      <td>0.0</td>\n",
       "    </tr>\n",
       "  </tbody>\n",
       "</table>\n",
       "</div>"
      ],
      "text/plain": [
       "            snowfall  temp_max  temp_min  wind_speed  precipitation\n",
       "DATE                                                               \n",
       "2014-01-01         0      51.1      29.1         1.1            0.0\n",
       "2014-01-02       NaN      48.9      37.0         1.2            8.4\n",
       "2014-01-03         0      43.0      22.1         3.3            0.0\n",
       "2014-01-04         0      37.9      19.2         1.0            0.0\n",
       "2014-01-05         0      62.1      37.0         2.2            0.0"
      ]
     },
     "execution_count": 124,
     "metadata": {},
     "output_type": "execute_result"
    }
   ],
   "source": [
    "rdu_weather.head()"
   ]
  },
  {
   "cell_type": "markdown",
   "metadata": {},
   "source": [
    "# Querying data"
   ]
  },
  {
   "cell_type": "markdown",
   "metadata": {},
   "source": [
    "What good is a DataFrame if you can't easily find data within it?  One really cool way to retrieve filtered data from a DataFrame is with a method called `Boolean Indexing`.  This method is best described as passing an expression that evaluates to `True` or `False` into the square bracket lookup.\n",
    "\n",
    "For example, if you'd like to see days that only contained snowfall values you could do the following:"
   ]
  },
  {
   "cell_type": "code",
   "execution_count": 125,
   "metadata": {
    "collapsed": false
   },
   "outputs": [
    {
     "data": {
      "text/html": [
       "<div>\n",
       "<table border=\"1\" class=\"dataframe\">\n",
       "  <thead>\n",
       "    <tr style=\"text-align: right;\">\n",
       "      <th></th>\n",
       "      <th>snowfall</th>\n",
       "      <th>temp_max</th>\n",
       "      <th>temp_min</th>\n",
       "      <th>wind_speed</th>\n",
       "      <th>precipitation</th>\n",
       "    </tr>\n",
       "    <tr>\n",
       "      <th>DATE</th>\n",
       "      <th></th>\n",
       "      <th></th>\n",
       "      <th></th>\n",
       "      <th></th>\n",
       "      <th></th>\n",
       "    </tr>\n",
       "  </thead>\n",
       "  <tbody>\n",
       "    <tr>\n",
       "      <th>2014-01-21</th>\n",
       "      <td>13</td>\n",
       "      <td>51.1</td>\n",
       "      <td>26.2</td>\n",
       "      <td>2.2</td>\n",
       "      <td>2.5</td>\n",
       "    </tr>\n",
       "    <tr>\n",
       "      <th>2014-01-28</th>\n",
       "      <td>30</td>\n",
       "      <td>33.1</td>\n",
       "      <td>18.1</td>\n",
       "      <td>3.7</td>\n",
       "      <td>4.6</td>\n",
       "    </tr>\n",
       "    <tr>\n",
       "      <th>2014-01-29</th>\n",
       "      <td>5</td>\n",
       "      <td>27.1</td>\n",
       "      <td>14.2</td>\n",
       "      <td>1.8</td>\n",
       "      <td>0.0</td>\n",
       "    </tr>\n",
       "    <tr>\n",
       "      <th>2014-02-12</th>\n",
       "      <td>84</td>\n",
       "      <td>30.2</td>\n",
       "      <td>23.2</td>\n",
       "      <td>4.9</td>\n",
       "      <td>16.3</td>\n",
       "    </tr>\n",
       "    <tr>\n",
       "      <th>2014-02-13</th>\n",
       "      <td>10</td>\n",
       "      <td>36.0</td>\n",
       "      <td>30.2</td>\n",
       "      <td>3.0</td>\n",
       "      <td>9.9</td>\n",
       "    </tr>\n",
       "    <tr>\n",
       "      <th>2014-03-03</th>\n",
       "      <td>5</td>\n",
       "      <td>61.0</td>\n",
       "      <td>20.1</td>\n",
       "      <td>4.9</td>\n",
       "      <td>9.1</td>\n",
       "    </tr>\n",
       "  </tbody>\n",
       "</table>\n",
       "</div>"
      ],
      "text/plain": [
       "            snowfall  temp_max  temp_min  wind_speed  precipitation\n",
       "DATE                                                               \n",
       "2014-01-21        13      51.1      26.2         2.2            2.5\n",
       "2014-01-28        30      33.1      18.1         3.7            4.6\n",
       "2014-01-29         5      27.1      14.2         1.8            0.0\n",
       "2014-02-12        84      30.2      23.2         4.9           16.3\n",
       "2014-02-13        10      36.0      30.2         3.0            9.9\n",
       "2014-03-03         5      61.0      20.1         4.9            9.1"
      ]
     },
     "execution_count": 125,
     "metadata": {},
     "output_type": "execute_result"
    }
   ],
   "source": [
    "rdu_weather[rdu_weather.snowfall > 0]"
   ]
  },
  {
   "cell_type": "markdown",
   "metadata": {},
   "source": [
    "let's sort the days descending"
   ]
  },
  {
   "cell_type": "code",
   "execution_count": 126,
   "metadata": {
    "collapsed": false
   },
   "outputs": [
    {
     "name": "stderr",
     "output_type": "stream",
     "text": [
      "/Users/taddeimania/Developer/class-notes/Notebooks/week-4/.direnv/python-3.5.0/lib/python3.5/site-packages/ipykernel/__main__.py:1: FutureWarning: sort(columns=....) is deprecated, use sort_values(by=.....)\n",
      "  if __name__ == '__main__':\n"
     ]
    },
    {
     "data": {
      "text/html": [
       "<div>\n",
       "<table border=\"1\" class=\"dataframe\">\n",
       "  <thead>\n",
       "    <tr style=\"text-align: right;\">\n",
       "      <th></th>\n",
       "      <th>snowfall</th>\n",
       "      <th>temp_max</th>\n",
       "      <th>temp_min</th>\n",
       "      <th>wind_speed</th>\n",
       "      <th>precipitation</th>\n",
       "    </tr>\n",
       "    <tr>\n",
       "      <th>DATE</th>\n",
       "      <th></th>\n",
       "      <th></th>\n",
       "      <th></th>\n",
       "      <th></th>\n",
       "      <th></th>\n",
       "    </tr>\n",
       "  </thead>\n",
       "  <tbody>\n",
       "    <tr>\n",
       "      <th>2014-02-12</th>\n",
       "      <td>84</td>\n",
       "      <td>30.2</td>\n",
       "      <td>23.2</td>\n",
       "      <td>4.9</td>\n",
       "      <td>16.3</td>\n",
       "    </tr>\n",
       "    <tr>\n",
       "      <th>2014-01-28</th>\n",
       "      <td>30</td>\n",
       "      <td>33.1</td>\n",
       "      <td>18.1</td>\n",
       "      <td>3.7</td>\n",
       "      <td>4.6</td>\n",
       "    </tr>\n",
       "    <tr>\n",
       "      <th>2014-01-21</th>\n",
       "      <td>13</td>\n",
       "      <td>51.1</td>\n",
       "      <td>26.2</td>\n",
       "      <td>2.2</td>\n",
       "      <td>2.5</td>\n",
       "    </tr>\n",
       "    <tr>\n",
       "      <th>2014-02-13</th>\n",
       "      <td>10</td>\n",
       "      <td>36.0</td>\n",
       "      <td>30.2</td>\n",
       "      <td>3.0</td>\n",
       "      <td>9.9</td>\n",
       "    </tr>\n",
       "    <tr>\n",
       "      <th>2014-01-29</th>\n",
       "      <td>5</td>\n",
       "      <td>27.1</td>\n",
       "      <td>14.2</td>\n",
       "      <td>1.8</td>\n",
       "      <td>0.0</td>\n",
       "    </tr>\n",
       "    <tr>\n",
       "      <th>2014-03-03</th>\n",
       "      <td>5</td>\n",
       "      <td>61.0</td>\n",
       "      <td>20.1</td>\n",
       "      <td>4.9</td>\n",
       "      <td>9.1</td>\n",
       "    </tr>\n",
       "  </tbody>\n",
       "</table>\n",
       "</div>"
      ],
      "text/plain": [
       "            snowfall  temp_max  temp_min  wind_speed  precipitation\n",
       "DATE                                                               \n",
       "2014-02-12        84      30.2      23.2         4.9           16.3\n",
       "2014-01-28        30      33.1      18.1         3.7            4.6\n",
       "2014-01-21        13      51.1      26.2         2.2            2.5\n",
       "2014-02-13        10      36.0      30.2         3.0            9.9\n",
       "2014-01-29         5      27.1      14.2         1.8            0.0\n",
       "2014-03-03         5      61.0      20.1         4.9            9.1"
      ]
     },
     "execution_count": 126,
     "metadata": {},
     "output_type": "execute_result"
    }
   ],
   "source": [
    "rdu_weather[rdu_weather.snowfall > 0].sort(\"snowfall\", ascending=False)"
   ]
  },
  {
   "cell_type": "code",
   "execution_count": 127,
   "metadata": {
    "collapsed": false
   },
   "outputs": [
    {
     "data": {
      "text/plain": [
       "DATE\n",
       "2014-01-01     0\n",
       "2014-01-02   NaN\n",
       "2014-01-03     0\n",
       "2014-01-04     0\n",
       "2014-01-05     0\n",
       "Name: snowfall, dtype: float64"
      ]
     },
     "execution_count": 127,
     "metadata": {},
     "output_type": "execute_result"
    }
   ],
   "source": [
    "rdu_weather.snowfall.head()"
   ]
  },
  {
   "cell_type": "markdown",
   "metadata": {},
   "source": [
    "You can get an idea for how `Boolean Indexing` works behind the scenes by just calling it by itself (not inside of a square bracket lookup).\n",
    "\n",
    "You will see that every row in the series that resolves to True would be what is returned from our previous query."
   ]
  },
  {
   "cell_type": "code",
   "execution_count": 128,
   "metadata": {
    "collapsed": false
   },
   "outputs": [
    {
     "data": {
      "text/plain": [
       "DATE\n",
       "2014-01-01    False\n",
       "2014-01-02    False\n",
       "2014-01-03    False\n",
       "2014-01-04    False\n",
       "2014-01-05    False\n",
       "2014-01-06    False\n",
       "2014-01-07    False\n",
       "2014-01-08    False\n",
       "2014-01-09    False\n",
       "2014-01-10    False\n",
       "2014-01-11    False\n",
       "2014-01-12    False\n",
       "2014-01-13    False\n",
       "2014-01-14    False\n",
       "2014-01-15    False\n",
       "2014-01-16    False\n",
       "2014-01-17    False\n",
       "2014-01-18    False\n",
       "2014-01-19    False\n",
       "2014-01-20    False\n",
       "2014-01-21     True\n",
       "2014-01-22    False\n",
       "2014-01-23    False\n",
       "2014-01-24    False\n",
       "2014-01-25    False\n",
       "2014-01-26    False\n",
       "2014-01-27    False\n",
       "2014-01-28     True\n",
       "2014-01-29     True\n",
       "2014-01-30    False\n",
       "              ...  \n",
       "2014-12-02    False\n",
       "2014-12-03    False\n",
       "2014-12-04    False\n",
       "2014-12-05    False\n",
       "2014-12-06    False\n",
       "2014-12-07    False\n",
       "2014-12-08    False\n",
       "2014-12-09    False\n",
       "2014-12-10    False\n",
       "2014-12-11    False\n",
       "2014-12-12    False\n",
       "2014-12-13    False\n",
       "2014-12-14    False\n",
       "2014-12-15    False\n",
       "2014-12-16    False\n",
       "2014-12-17    False\n",
       "2014-12-18    False\n",
       "2014-12-19    False\n",
       "2014-12-20    False\n",
       "2014-12-21    False\n",
       "2014-12-22    False\n",
       "2014-12-23    False\n",
       "2014-12-24    False\n",
       "2014-12-25    False\n",
       "2014-12-26    False\n",
       "2014-12-27    False\n",
       "2014-12-28    False\n",
       "2014-12-29    False\n",
       "2014-12-30    False\n",
       "2014-12-31    False\n",
       "Name: snowfall, dtype: bool"
      ]
     },
     "execution_count": 128,
     "metadata": {},
     "output_type": "execute_result"
    }
   ],
   "source": [
    "rdu_weather.snowfall > 0"
   ]
  },
  {
   "cell_type": "markdown",
   "metadata": {},
   "source": [
    "You can query pretty much any numerical value for a series that contains only numbers."
   ]
  },
  {
   "cell_type": "code",
   "execution_count": 129,
   "metadata": {
    "collapsed": false
   },
   "outputs": [
    {
     "data": {
      "text/html": [
       "<div>\n",
       "<table border=\"1\" class=\"dataframe\">\n",
       "  <thead>\n",
       "    <tr style=\"text-align: right;\">\n",
       "      <th></th>\n",
       "      <th>snowfall</th>\n",
       "      <th>temp_max</th>\n",
       "      <th>temp_min</th>\n",
       "      <th>wind_speed</th>\n",
       "      <th>precipitation</th>\n",
       "    </tr>\n",
       "    <tr>\n",
       "      <th>DATE</th>\n",
       "      <th></th>\n",
       "      <th></th>\n",
       "      <th></th>\n",
       "      <th></th>\n",
       "      <th></th>\n",
       "    </tr>\n",
       "  </thead>\n",
       "  <tbody>\n",
       "    <tr>\n",
       "      <th>2014-05-13</th>\n",
       "      <td>0</td>\n",
       "      <td>91.9</td>\n",
       "      <td>66.9</td>\n",
       "      <td>2.6</td>\n",
       "      <td>0.0</td>\n",
       "    </tr>\n",
       "    <tr>\n",
       "      <th>2014-06-04</th>\n",
       "      <td>0</td>\n",
       "      <td>91.9</td>\n",
       "      <td>64.9</td>\n",
       "      <td>2.1</td>\n",
       "      <td>0.5</td>\n",
       "    </tr>\n",
       "    <tr>\n",
       "      <th>2014-06-05</th>\n",
       "      <td>0</td>\n",
       "      <td>91.0</td>\n",
       "      <td>72.0</td>\n",
       "      <td>3.4</td>\n",
       "      <td>0.0</td>\n",
       "    </tr>\n",
       "    <tr>\n",
       "      <th>2014-06-10</th>\n",
       "      <td>0</td>\n",
       "      <td>93.9</td>\n",
       "      <td>68.0</td>\n",
       "      <td>1.5</td>\n",
       "      <td>0.0</td>\n",
       "    </tr>\n",
       "    <tr>\n",
       "      <th>2014-06-11</th>\n",
       "      <td>0</td>\n",
       "      <td>93.9</td>\n",
       "      <td>68.0</td>\n",
       "      <td>2.1</td>\n",
       "      <td>14.7</td>\n",
       "    </tr>\n",
       "    <tr>\n",
       "      <th>2014-06-16</th>\n",
       "      <td>0</td>\n",
       "      <td>95.0</td>\n",
       "      <td>69.1</td>\n",
       "      <td>1.9</td>\n",
       "      <td>2.0</td>\n",
       "    </tr>\n",
       "    <tr>\n",
       "      <th>2014-06-17</th>\n",
       "      <td>0</td>\n",
       "      <td>96.1</td>\n",
       "      <td>70.0</td>\n",
       "      <td>3.2</td>\n",
       "      <td>0.0</td>\n",
       "    </tr>\n",
       "    <tr>\n",
       "      <th>2014-06-18</th>\n",
       "      <td>0</td>\n",
       "      <td>97.0</td>\n",
       "      <td>70.0</td>\n",
       "      <td>3.3</td>\n",
       "      <td>0.0</td>\n",
       "    </tr>\n",
       "    <tr>\n",
       "      <th>2014-06-19</th>\n",
       "      <td>0</td>\n",
       "      <td>97.0</td>\n",
       "      <td>70.0</td>\n",
       "      <td>2.7</td>\n",
       "      <td>6.9</td>\n",
       "    </tr>\n",
       "    <tr>\n",
       "      <th>2014-06-20</th>\n",
       "      <td>0</td>\n",
       "      <td>91.0</td>\n",
       "      <td>68.0</td>\n",
       "      <td>1.2</td>\n",
       "      <td>16.3</td>\n",
       "    </tr>\n",
       "    <tr>\n",
       "      <th>2014-06-21</th>\n",
       "      <td>0</td>\n",
       "      <td>91.0</td>\n",
       "      <td>68.0</td>\n",
       "      <td>1.6</td>\n",
       "      <td>0.0</td>\n",
       "    </tr>\n",
       "    <tr>\n",
       "      <th>2014-06-25</th>\n",
       "      <td>0</td>\n",
       "      <td>93.0</td>\n",
       "      <td>73.0</td>\n",
       "      <td>3.0</td>\n",
       "      <td>0.0</td>\n",
       "    </tr>\n",
       "    <tr>\n",
       "      <th>2014-06-26</th>\n",
       "      <td>0</td>\n",
       "      <td>93.0</td>\n",
       "      <td>69.1</td>\n",
       "      <td>1.8</td>\n",
       "      <td>0.0</td>\n",
       "    </tr>\n",
       "    <tr>\n",
       "      <th>2014-07-01</th>\n",
       "      <td>0</td>\n",
       "      <td>93.0</td>\n",
       "      <td>73.9</td>\n",
       "      <td>3.5</td>\n",
       "      <td>0.0</td>\n",
       "    </tr>\n",
       "    <tr>\n",
       "      <th>2014-07-02</th>\n",
       "      <td>0</td>\n",
       "      <td>97.0</td>\n",
       "      <td>75.9</td>\n",
       "      <td>4.4</td>\n",
       "      <td>0.0</td>\n",
       "    </tr>\n",
       "    <tr>\n",
       "      <th>2014-07-07</th>\n",
       "      <td>0</td>\n",
       "      <td>96.1</td>\n",
       "      <td>66.9</td>\n",
       "      <td>4.7</td>\n",
       "      <td>0.0</td>\n",
       "    </tr>\n",
       "    <tr>\n",
       "      <th>2014-07-08</th>\n",
       "      <td>0</td>\n",
       "      <td>98.1</td>\n",
       "      <td>73.9</td>\n",
       "      <td>5.3</td>\n",
       "      <td>0.0</td>\n",
       "    </tr>\n",
       "    <tr>\n",
       "      <th>2014-07-09</th>\n",
       "      <td>0</td>\n",
       "      <td>96.1</td>\n",
       "      <td>73.9</td>\n",
       "      <td>3.1</td>\n",
       "      <td>0.5</td>\n",
       "    </tr>\n",
       "    <tr>\n",
       "      <th>2014-07-13</th>\n",
       "      <td>0</td>\n",
       "      <td>93.9</td>\n",
       "      <td>71.1</td>\n",
       "      <td>3.2</td>\n",
       "      <td>0.0</td>\n",
       "    </tr>\n",
       "    <tr>\n",
       "      <th>2014-07-14</th>\n",
       "      <td>0</td>\n",
       "      <td>98.1</td>\n",
       "      <td>75.0</td>\n",
       "      <td>4.3</td>\n",
       "      <td>0.0</td>\n",
       "    </tr>\n",
       "    <tr>\n",
       "      <th>2014-07-15</th>\n",
       "      <td>0</td>\n",
       "      <td>93.9</td>\n",
       "      <td>70.0</td>\n",
       "      <td>3.4</td>\n",
       "      <td>106.9</td>\n",
       "    </tr>\n",
       "    <tr>\n",
       "      <th>2014-07-23</th>\n",
       "      <td>0</td>\n",
       "      <td>91.9</td>\n",
       "      <td>71.1</td>\n",
       "      <td>2.5</td>\n",
       "      <td>0.0</td>\n",
       "    </tr>\n",
       "    <tr>\n",
       "      <th>2014-08-21</th>\n",
       "      <td>0</td>\n",
       "      <td>91.0</td>\n",
       "      <td>71.1</td>\n",
       "      <td>1.0</td>\n",
       "      <td>0.0</td>\n",
       "    </tr>\n",
       "    <tr>\n",
       "      <th>2014-08-22</th>\n",
       "      <td>0</td>\n",
       "      <td>91.9</td>\n",
       "      <td>71.1</td>\n",
       "      <td>1.0</td>\n",
       "      <td>0.0</td>\n",
       "    </tr>\n",
       "    <tr>\n",
       "      <th>2014-08-28</th>\n",
       "      <td>0</td>\n",
       "      <td>91.9</td>\n",
       "      <td>64.9</td>\n",
       "      <td>0.6</td>\n",
       "      <td>0.0</td>\n",
       "    </tr>\n",
       "    <tr>\n",
       "      <th>2014-08-31</th>\n",
       "      <td>0</td>\n",
       "      <td>91.0</td>\n",
       "      <td>73.0</td>\n",
       "      <td>2.9</td>\n",
       "      <td>0.0</td>\n",
       "    </tr>\n",
       "    <tr>\n",
       "      <th>2014-09-01</th>\n",
       "      <td>0</td>\n",
       "      <td>93.0</td>\n",
       "      <td>73.0</td>\n",
       "      <td>2.1</td>\n",
       "      <td>0.0</td>\n",
       "    </tr>\n",
       "    <tr>\n",
       "      <th>2014-09-02</th>\n",
       "      <td>0</td>\n",
       "      <td>96.1</td>\n",
       "      <td>71.1</td>\n",
       "      <td>3.3</td>\n",
       "      <td>0.0</td>\n",
       "    </tr>\n",
       "    <tr>\n",
       "      <th>2014-09-03</th>\n",
       "      <td>0</td>\n",
       "      <td>93.0</td>\n",
       "      <td>71.1</td>\n",
       "      <td>2.2</td>\n",
       "      <td>0.0</td>\n",
       "    </tr>\n",
       "    <tr>\n",
       "      <th>2014-09-05</th>\n",
       "      <td>0</td>\n",
       "      <td>91.0</td>\n",
       "      <td>71.1</td>\n",
       "      <td>1.7</td>\n",
       "      <td>0.0</td>\n",
       "    </tr>\n",
       "    <tr>\n",
       "      <th>2014-09-06</th>\n",
       "      <td>0</td>\n",
       "      <td>91.0</td>\n",
       "      <td>71.1</td>\n",
       "      <td>2.5</td>\n",
       "      <td>0.0</td>\n",
       "    </tr>\n",
       "  </tbody>\n",
       "</table>\n",
       "</div>"
      ],
      "text/plain": [
       "            snowfall  temp_max  temp_min  wind_speed  precipitation\n",
       "DATE                                                               \n",
       "2014-05-13         0      91.9      66.9         2.6            0.0\n",
       "2014-06-04         0      91.9      64.9         2.1            0.5\n",
       "2014-06-05         0      91.0      72.0         3.4            0.0\n",
       "2014-06-10         0      93.9      68.0         1.5            0.0\n",
       "2014-06-11         0      93.9      68.0         2.1           14.7\n",
       "2014-06-16         0      95.0      69.1         1.9            2.0\n",
       "2014-06-17         0      96.1      70.0         3.2            0.0\n",
       "2014-06-18         0      97.0      70.0         3.3            0.0\n",
       "2014-06-19         0      97.0      70.0         2.7            6.9\n",
       "2014-06-20         0      91.0      68.0         1.2           16.3\n",
       "2014-06-21         0      91.0      68.0         1.6            0.0\n",
       "2014-06-25         0      93.0      73.0         3.0            0.0\n",
       "2014-06-26         0      93.0      69.1         1.8            0.0\n",
       "2014-07-01         0      93.0      73.9         3.5            0.0\n",
       "2014-07-02         0      97.0      75.9         4.4            0.0\n",
       "2014-07-07         0      96.1      66.9         4.7            0.0\n",
       "2014-07-08         0      98.1      73.9         5.3            0.0\n",
       "2014-07-09         0      96.1      73.9         3.1            0.5\n",
       "2014-07-13         0      93.9      71.1         3.2            0.0\n",
       "2014-07-14         0      98.1      75.0         4.3            0.0\n",
       "2014-07-15         0      93.9      70.0         3.4          106.9\n",
       "2014-07-23         0      91.9      71.1         2.5            0.0\n",
       "2014-08-21         0      91.0      71.1         1.0            0.0\n",
       "2014-08-22         0      91.9      71.1         1.0            0.0\n",
       "2014-08-28         0      91.9      64.9         0.6            0.0\n",
       "2014-08-31         0      91.0      73.0         2.9            0.0\n",
       "2014-09-01         0      93.0      73.0         2.1            0.0\n",
       "2014-09-02         0      96.1      71.1         3.3            0.0\n",
       "2014-09-03         0      93.0      71.1         2.2            0.0\n",
       "2014-09-05         0      91.0      71.1         1.7            0.0\n",
       "2014-09-06         0      91.0      71.1         2.5            0.0"
      ]
     },
     "execution_count": 129,
     "metadata": {},
     "output_type": "execute_result"
    }
   ],
   "source": [
    "rdu_weather[rdu_weather.temp_max > 90]"
   ]
  },
  {
   "cell_type": "markdown",
   "metadata": {},
   "source": [
    "### Hottest Days"
   ]
  },
  {
   "cell_type": "code",
   "execution_count": 130,
   "metadata": {
    "collapsed": false
   },
   "outputs": [
    {
     "data": {
      "text/plain": [
       "98.099999999999994"
      ]
     },
     "execution_count": 130,
     "metadata": {},
     "output_type": "execute_result"
    }
   ],
   "source": [
    "rdu_weather.temp_max.max()"
   ]
  },
  {
   "cell_type": "code",
   "execution_count": 131,
   "metadata": {
    "collapsed": false
   },
   "outputs": [
    {
     "data": {
      "text/html": [
       "<div>\n",
       "<table border=\"1\" class=\"dataframe\">\n",
       "  <thead>\n",
       "    <tr style=\"text-align: right;\">\n",
       "      <th></th>\n",
       "      <th>snowfall</th>\n",
       "      <th>temp_max</th>\n",
       "      <th>temp_min</th>\n",
       "      <th>wind_speed</th>\n",
       "      <th>precipitation</th>\n",
       "    </tr>\n",
       "    <tr>\n",
       "      <th>DATE</th>\n",
       "      <th></th>\n",
       "      <th></th>\n",
       "      <th></th>\n",
       "      <th></th>\n",
       "      <th></th>\n",
       "    </tr>\n",
       "  </thead>\n",
       "  <tbody>\n",
       "    <tr>\n",
       "      <th>2014-07-08</th>\n",
       "      <td>0</td>\n",
       "      <td>98.1</td>\n",
       "      <td>73.9</td>\n",
       "      <td>5.3</td>\n",
       "      <td>0</td>\n",
       "    </tr>\n",
       "    <tr>\n",
       "      <th>2014-07-14</th>\n",
       "      <td>0</td>\n",
       "      <td>98.1</td>\n",
       "      <td>75.0</td>\n",
       "      <td>4.3</td>\n",
       "      <td>0</td>\n",
       "    </tr>\n",
       "  </tbody>\n",
       "</table>\n",
       "</div>"
      ],
      "text/plain": [
       "            snowfall  temp_max  temp_min  wind_speed  precipitation\n",
       "DATE                                                               \n",
       "2014-07-08         0      98.1      73.9         5.3              0\n",
       "2014-07-14         0      98.1      75.0         4.3              0"
      ]
     },
     "execution_count": 131,
     "metadata": {},
     "output_type": "execute_result"
    }
   ],
   "source": [
    "rdu_weather[rdu_weather.temp_max == rdu_weather.temp_max.max()]"
   ]
  },
  {
   "cell_type": "markdown",
   "metadata": {},
   "source": [
    "### Coldest Days"
   ]
  },
  {
   "cell_type": "code",
   "execution_count": 132,
   "metadata": {
    "collapsed": false
   },
   "outputs": [
    {
     "data": {
      "text/plain": [
       "7.2000000000000002"
      ]
     },
     "execution_count": 132,
     "metadata": {},
     "output_type": "execute_result"
    }
   ],
   "source": [
    "rdu_weather.temp_min.min()"
   ]
  },
  {
   "cell_type": "code",
   "execution_count": 133,
   "metadata": {
    "collapsed": false
   },
   "outputs": [
    {
     "data": {
      "text/html": [
       "<div>\n",
       "<table border=\"1\" class=\"dataframe\">\n",
       "  <thead>\n",
       "    <tr style=\"text-align: right;\">\n",
       "      <th></th>\n",
       "      <th>snowfall</th>\n",
       "      <th>temp_max</th>\n",
       "      <th>temp_min</th>\n",
       "      <th>wind_speed</th>\n",
       "      <th>precipitation</th>\n",
       "    </tr>\n",
       "    <tr>\n",
       "      <th>DATE</th>\n",
       "      <th></th>\n",
       "      <th></th>\n",
       "      <th></th>\n",
       "      <th></th>\n",
       "      <th></th>\n",
       "    </tr>\n",
       "  </thead>\n",
       "  <tbody>\n",
       "    <tr>\n",
       "      <th>2014-01-30</th>\n",
       "      <td>0</td>\n",
       "      <td>37.9</td>\n",
       "      <td>7.2</td>\n",
       "      <td>0.8</td>\n",
       "      <td>0</td>\n",
       "    </tr>\n",
       "  </tbody>\n",
       "</table>\n",
       "</div>"
      ],
      "text/plain": [
       "            snowfall  temp_max  temp_min  wind_speed  precipitation\n",
       "DATE                                                               \n",
       "2014-01-30         0      37.9       7.2         0.8              0"
      ]
     },
     "execution_count": 133,
     "metadata": {},
     "output_type": "execute_result"
    }
   ],
   "source": [
    "rdu_weather[rdu_weather.temp_min == rdu_weather.temp_min.min()]"
   ]
  },
  {
   "cell_type": "markdown",
   "metadata": {},
   "source": [
    "### Wettest Days"
   ]
  },
  {
   "cell_type": "code",
   "execution_count": 134,
   "metadata": {
    "collapsed": false
   },
   "outputs": [
    {
     "data": {
      "text/html": [
       "<div>\n",
       "<table border=\"1\" class=\"dataframe\">\n",
       "  <thead>\n",
       "    <tr style=\"text-align: right;\">\n",
       "      <th></th>\n",
       "      <th>snowfall</th>\n",
       "      <th>temp_max</th>\n",
       "      <th>temp_min</th>\n",
       "      <th>wind_speed</th>\n",
       "      <th>precipitation</th>\n",
       "    </tr>\n",
       "    <tr>\n",
       "      <th>DATE</th>\n",
       "      <th></th>\n",
       "      <th></th>\n",
       "      <th></th>\n",
       "      <th></th>\n",
       "      <th></th>\n",
       "    </tr>\n",
       "  </thead>\n",
       "  <tbody>\n",
       "    <tr>\n",
       "      <th>2014-07-15</th>\n",
       "      <td>0</td>\n",
       "      <td>93.9</td>\n",
       "      <td>70</td>\n",
       "      <td>3.4</td>\n",
       "      <td>106.9</td>\n",
       "    </tr>\n",
       "  </tbody>\n",
       "</table>\n",
       "</div>"
      ],
      "text/plain": [
       "            snowfall  temp_max  temp_min  wind_speed  precipitation\n",
       "DATE                                                               \n",
       "2014-07-15         0      93.9        70         3.4          106.9"
      ]
     },
     "execution_count": 134,
     "metadata": {},
     "output_type": "execute_result"
    }
   ],
   "source": [
    "rdu_weather[rdu_weather.precipitation == rdu_weather.precipitation.max()]"
   ]
  },
  {
   "cell_type": "markdown",
   "metadata": {},
   "source": [
    "### First 5 days temperature (F)"
   ]
  },
  {
   "cell_type": "code",
   "execution_count": 135,
   "metadata": {
    "collapsed": false
   },
   "outputs": [
    {
     "data": {
      "text/plain": [
       "DATE\n",
       "2014-01-01    51.1\n",
       "2014-01-02    48.9\n",
       "2014-01-03    43.0\n",
       "2014-01-04    37.9\n",
       "2014-01-05    62.1\n",
       "Name: temp_max, dtype: float64"
      ]
     },
     "execution_count": 135,
     "metadata": {},
     "output_type": "execute_result"
    }
   ],
   "source": [
    "rdu_weather[\"temp_max\"].head()"
   ]
  },
  {
   "cell_type": "markdown",
   "metadata": {},
   "source": [
    "### 99th - 103rd row temperatures (F)"
   ]
  },
  {
   "cell_type": "code",
   "execution_count": 136,
   "metadata": {
    "collapsed": false
   },
   "outputs": [
    {
     "data": {
      "text/plain": [
       "DATE\n",
       "2014-04-11    78.1\n",
       "2014-04-12    81.0\n",
       "2014-04-13    81.0\n",
       "2014-04-14    75.9\n",
       "Name: temp_max, dtype: float64"
      ]
     },
     "execution_count": 136,
     "metadata": {},
     "output_type": "execute_result"
    }
   ],
   "source": [
    "rdu_weather[100:104][\"temp_max\"]"
   ]
  },
  {
   "cell_type": "code",
   "execution_count": 137,
   "metadata": {
    "collapsed": false
   },
   "outputs": [
    {
     "data": {
      "text/plain": [
       "DATE\n",
       "2014-04-11    78.1\n",
       "2014-04-12    81.0\n",
       "2014-04-13    81.0\n",
       "2014-04-14    75.9\n",
       "Name: temp_max, dtype: float64"
      ]
     },
     "execution_count": 137,
     "metadata": {},
     "output_type": "execute_result"
    }
   ],
   "source": [
    "rdu_weather[\"temp_max\"][100:104]"
   ]
  },
  {
   "cell_type": "markdown",
   "metadata": {},
   "source": [
    "# Time series manipulation"
   ]
  },
  {
   "cell_type": "markdown",
   "metadata": {},
   "source": [
    "#### .resample()\n",
    "\n",
    "When you want to look at your data in a different way based on a different timeframe you are going to want to \"resample\" your DataFrame.  The two arguments you will want to provide your resample function call are:\n",
    "\n",
    " - Rule (\"Time Aggregate\")\n",
    " - How\n",
    " \n",
    "The Rule allows you to define the output detail. (Things like \"monthly\", \"weekly\", \"hourly\")  Keep in mind, if you are asking for a higher resolution of data than you have provided then it will fill rows with NaN - in much the same way you can't scale up an image and not lose quality.\n",
    "\n",
    "The How allows you to define what you want to learn from the resampled data.  These are functions you can apply to the subsets. In our case we want to see the `sum` and the `average` amount of precipitation every month."
   ]
  },
  {
   "cell_type": "code",
   "execution_count": 138,
   "metadata": {
    "collapsed": false
   },
   "outputs": [
    {
     "data": {
      "text/html": [
       "<div>\n",
       "<table border=\"1\" class=\"dataframe\">\n",
       "  <thead>\n",
       "    <tr style=\"text-align: right;\">\n",
       "      <th></th>\n",
       "      <th>sum</th>\n",
       "      <th>mean</th>\n",
       "    </tr>\n",
       "    <tr>\n",
       "      <th>DATE</th>\n",
       "      <th></th>\n",
       "      <th></th>\n",
       "    </tr>\n",
       "  </thead>\n",
       "  <tbody>\n",
       "    <tr>\n",
       "      <th>2014-07-31</th>\n",
       "      <td>227.5</td>\n",
       "      <td>7.338710</td>\n",
       "    </tr>\n",
       "    <tr>\n",
       "      <th>2014-08-31</th>\n",
       "      <td>174.5</td>\n",
       "      <td>5.629032</td>\n",
       "    </tr>\n",
       "    <tr>\n",
       "      <th>2014-09-30</th>\n",
       "      <td>150.4</td>\n",
       "      <td>5.013333</td>\n",
       "    </tr>\n",
       "    <tr>\n",
       "      <th>2014-04-30</th>\n",
       "      <td>132.9</td>\n",
       "      <td>4.430000</td>\n",
       "    </tr>\n",
       "    <tr>\n",
       "      <th>2014-03-31</th>\n",
       "      <td>128.6</td>\n",
       "      <td>4.148387</td>\n",
       "    </tr>\n",
       "    <tr>\n",
       "      <th>2014-12-31</th>\n",
       "      <td>126.4</td>\n",
       "      <td>4.077419</td>\n",
       "    </tr>\n",
       "    <tr>\n",
       "      <th>2014-05-31</th>\n",
       "      <td>102.2</td>\n",
       "      <td>3.296774</td>\n",
       "    </tr>\n",
       "    <tr>\n",
       "      <th>2014-11-30</th>\n",
       "      <td>96.0</td>\n",
       "      <td>3.200000</td>\n",
       "    </tr>\n",
       "    <tr>\n",
       "      <th>2014-06-30</th>\n",
       "      <td>84.2</td>\n",
       "      <td>2.806667</td>\n",
       "    </tr>\n",
       "    <tr>\n",
       "      <th>2014-02-28</th>\n",
       "      <td>76.3</td>\n",
       "      <td>2.725000</td>\n",
       "    </tr>\n",
       "    <tr>\n",
       "      <th>2014-10-31</th>\n",
       "      <td>55.4</td>\n",
       "      <td>1.787097</td>\n",
       "    </tr>\n",
       "    <tr>\n",
       "      <th>2014-01-31</th>\n",
       "      <td>49.8</td>\n",
       "      <td>1.606452</td>\n",
       "    </tr>\n",
       "  </tbody>\n",
       "</table>\n",
       "</div>"
      ],
      "text/plain": [
       "              sum      mean\n",
       "DATE                       \n",
       "2014-07-31  227.5  7.338710\n",
       "2014-08-31  174.5  5.629032\n",
       "2014-09-30  150.4  5.013333\n",
       "2014-04-30  132.9  4.430000\n",
       "2014-03-31  128.6  4.148387\n",
       "2014-12-31  126.4  4.077419\n",
       "2014-05-31  102.2  3.296774\n",
       "2014-11-30   96.0  3.200000\n",
       "2014-06-30   84.2  2.806667\n",
       "2014-02-28   76.3  2.725000\n",
       "2014-10-31   55.4  1.787097\n",
       "2014-01-31   49.8  1.606452"
      ]
     },
     "execution_count": 138,
     "metadata": {},
     "output_type": "execute_result"
    }
   ],
   "source": [
    "rdu_weather.precipitation.resample('M', how=[\"sum\", \"mean\"]).sort_values(by=\"sum\", ascending=False)"
   ]
  },
  {
   "cell_type": "markdown",
   "metadata": {},
   "source": [
    "Max Temperature Mean, Median, and Standard Deviation"
   ]
  },
  {
   "cell_type": "code",
   "execution_count": 139,
   "metadata": {
    "collapsed": false
   },
   "outputs": [
    {
     "data": {
      "text/html": [
       "<div>\n",
       "<table border=\"1\" class=\"dataframe\">\n",
       "  <thead>\n",
       "    <tr style=\"text-align: right;\">\n",
       "      <th></th>\n",
       "      <th>mean</th>\n",
       "      <th>median</th>\n",
       "      <th>std</th>\n",
       "    </tr>\n",
       "    <tr>\n",
       "      <th>DATE</th>\n",
       "      <th></th>\n",
       "      <th></th>\n",
       "      <th></th>\n",
       "    </tr>\n",
       "  </thead>\n",
       "  <tbody>\n",
       "    <tr>\n",
       "      <th>2014-01-31</th>\n",
       "      <td>48.145161</td>\n",
       "      <td>51.10</td>\n",
       "      <td>12.088034</td>\n",
       "    </tr>\n",
       "    <tr>\n",
       "      <th>2014-02-28</th>\n",
       "      <td>53.475000</td>\n",
       "      <td>53.10</td>\n",
       "      <td>11.634611</td>\n",
       "    </tr>\n",
       "    <tr>\n",
       "      <th>2014-03-31</th>\n",
       "      <td>57.906452</td>\n",
       "      <td>60.10</td>\n",
       "      <td>13.182133</td>\n",
       "    </tr>\n",
       "    <tr>\n",
       "      <th>2014-04-30</th>\n",
       "      <td>72.343333</td>\n",
       "      <td>72.50</td>\n",
       "      <td>8.687751</td>\n",
       "    </tr>\n",
       "    <tr>\n",
       "      <th>2014-05-31</th>\n",
       "      <td>81.396774</td>\n",
       "      <td>82.00</td>\n",
       "      <td>7.000594</td>\n",
       "    </tr>\n",
       "    <tr>\n",
       "      <th>2014-06-30</th>\n",
       "      <td>88.813333</td>\n",
       "      <td>88.55</td>\n",
       "      <td>4.774626</td>\n",
       "    </tr>\n",
       "    <tr>\n",
       "      <th>2014-07-31</th>\n",
       "      <td>88.096774</td>\n",
       "      <td>88.00</td>\n",
       "      <td>5.708560</td>\n",
       "    </tr>\n",
       "    <tr>\n",
       "      <th>2014-08-31</th>\n",
       "      <td>84.641935</td>\n",
       "      <td>86.00</td>\n",
       "      <td>5.362013</td>\n",
       "    </tr>\n",
       "    <tr>\n",
       "      <th>2014-09-30</th>\n",
       "      <td>79.940000</td>\n",
       "      <td>79.55</td>\n",
       "      <td>8.348058</td>\n",
       "    </tr>\n",
       "    <tr>\n",
       "      <th>2014-10-31</th>\n",
       "      <td>74.954839</td>\n",
       "      <td>75.00</td>\n",
       "      <td>6.805137</td>\n",
       "    </tr>\n",
       "    <tr>\n",
       "      <th>2014-11-30</th>\n",
       "      <td>58.140000</td>\n",
       "      <td>59.55</td>\n",
       "      <td>9.908777</td>\n",
       "    </tr>\n",
       "    <tr>\n",
       "      <th>2014-12-31</th>\n",
       "      <td>53.841935</td>\n",
       "      <td>54.00</td>\n",
       "      <td>7.848854</td>\n",
       "    </tr>\n",
       "  </tbody>\n",
       "</table>\n",
       "</div>"
      ],
      "text/plain": [
       "                 mean  median        std\n",
       "DATE                                    \n",
       "2014-01-31  48.145161   51.10  12.088034\n",
       "2014-02-28  53.475000   53.10  11.634611\n",
       "2014-03-31  57.906452   60.10  13.182133\n",
       "2014-04-30  72.343333   72.50   8.687751\n",
       "2014-05-31  81.396774   82.00   7.000594\n",
       "2014-06-30  88.813333   88.55   4.774626\n",
       "2014-07-31  88.096774   88.00   5.708560\n",
       "2014-08-31  84.641935   86.00   5.362013\n",
       "2014-09-30  79.940000   79.55   8.348058\n",
       "2014-10-31  74.954839   75.00   6.805137\n",
       "2014-11-30  58.140000   59.55   9.908777\n",
       "2014-12-31  53.841935   54.00   7.848854"
      ]
     },
     "execution_count": 139,
     "metadata": {},
     "output_type": "execute_result"
    }
   ],
   "source": [
    "rdu_weather.temp_max.resample('M', how=[\"mean\", \"median\", \"std\"])"
   ]
  },
  {
   "cell_type": "markdown",
   "metadata": {},
   "source": [
    "If you only provide a \"Rule\" to a resample performed on a DataFrame then it will only show the row representing the closest match to how you've defined the rule. \"M\" is the end of the month."
   ]
  },
  {
   "cell_type": "code",
   "execution_count": 140,
   "metadata": {
    "collapsed": false
   },
   "outputs": [
    {
     "data": {
      "text/html": [
       "<div>\n",
       "<table border=\"1\" class=\"dataframe\">\n",
       "  <thead>\n",
       "    <tr style=\"text-align: right;\">\n",
       "      <th></th>\n",
       "      <th>snowfall</th>\n",
       "      <th>temp_max</th>\n",
       "      <th>temp_min</th>\n",
       "      <th>wind_speed</th>\n",
       "      <th>precipitation</th>\n",
       "    </tr>\n",
       "    <tr>\n",
       "      <th>DATE</th>\n",
       "      <th></th>\n",
       "      <th></th>\n",
       "      <th></th>\n",
       "      <th></th>\n",
       "      <th></th>\n",
       "    </tr>\n",
       "  </thead>\n",
       "  <tbody>\n",
       "    <tr>\n",
       "      <th>2014-01-31</th>\n",
       "      <td>1.600000</td>\n",
       "      <td>48.145161</td>\n",
       "      <td>25.341935</td>\n",
       "      <td>2.690323</td>\n",
       "      <td>1.606452</td>\n",
       "    </tr>\n",
       "    <tr>\n",
       "      <th>2014-02-28</th>\n",
       "      <td>3.615385</td>\n",
       "      <td>53.475000</td>\n",
       "      <td>33.460714</td>\n",
       "      <td>2.664286</td>\n",
       "      <td>2.725000</td>\n",
       "    </tr>\n",
       "    <tr>\n",
       "      <th>2014-03-31</th>\n",
       "      <td>0.161290</td>\n",
       "      <td>57.906452</td>\n",
       "      <td>34.125806</td>\n",
       "      <td>3.196774</td>\n",
       "      <td>4.148387</td>\n",
       "    </tr>\n",
       "    <tr>\n",
       "      <th>2014-04-30</th>\n",
       "      <td>0.000000</td>\n",
       "      <td>72.343333</td>\n",
       "      <td>48.026667</td>\n",
       "      <td>3.326667</td>\n",
       "      <td>4.430000</td>\n",
       "    </tr>\n",
       "    <tr>\n",
       "      <th>2014-05-31</th>\n",
       "      <td>0.000000</td>\n",
       "      <td>81.396774</td>\n",
       "      <td>58.254839</td>\n",
       "      <td>2.551613</td>\n",
       "      <td>3.296774</td>\n",
       "    </tr>\n",
       "    <tr>\n",
       "      <th>2014-06-30</th>\n",
       "      <td>0.000000</td>\n",
       "      <td>88.813333</td>\n",
       "      <td>65.776667</td>\n",
       "      <td>2.213333</td>\n",
       "      <td>2.806667</td>\n",
       "    </tr>\n",
       "    <tr>\n",
       "      <th>2014-07-31</th>\n",
       "      <td>0.000000</td>\n",
       "      <td>88.096774</td>\n",
       "      <td>68.680645</td>\n",
       "      <td>2.487097</td>\n",
       "      <td>7.338710</td>\n",
       "    </tr>\n",
       "    <tr>\n",
       "      <th>2014-08-31</th>\n",
       "      <td>0.000000</td>\n",
       "      <td>84.641935</td>\n",
       "      <td>67.100000</td>\n",
       "      <td>1.835484</td>\n",
       "      <td>5.629032</td>\n",
       "    </tr>\n",
       "    <tr>\n",
       "      <th>2014-09-30</th>\n",
       "      <td>0.000000</td>\n",
       "      <td>79.940000</td>\n",
       "      <td>64.413333</td>\n",
       "      <td>2.240000</td>\n",
       "      <td>5.013333</td>\n",
       "    </tr>\n",
       "    <tr>\n",
       "      <th>2014-10-31</th>\n",
       "      <td>0.000000</td>\n",
       "      <td>74.954839</td>\n",
       "      <td>51.003226</td>\n",
       "      <td>2.290323</td>\n",
       "      <td>1.787097</td>\n",
       "    </tr>\n",
       "    <tr>\n",
       "      <th>2014-11-30</th>\n",
       "      <td>0.000000</td>\n",
       "      <td>58.140000</td>\n",
       "      <td>35.863333</td>\n",
       "      <td>2.386667</td>\n",
       "      <td>3.200000</td>\n",
       "    </tr>\n",
       "    <tr>\n",
       "      <th>2014-12-31</th>\n",
       "      <td>0.000000</td>\n",
       "      <td>53.841935</td>\n",
       "      <td>35.680645</td>\n",
       "      <td>1.980645</td>\n",
       "      <td>4.077419</td>\n",
       "    </tr>\n",
       "  </tbody>\n",
       "</table>\n",
       "</div>"
      ],
      "text/plain": [
       "            snowfall   temp_max   temp_min  wind_speed  precipitation\n",
       "DATE                                                                 \n",
       "2014-01-31  1.600000  48.145161  25.341935    2.690323       1.606452\n",
       "2014-02-28  3.615385  53.475000  33.460714    2.664286       2.725000\n",
       "2014-03-31  0.161290  57.906452  34.125806    3.196774       4.148387\n",
       "2014-04-30  0.000000  72.343333  48.026667    3.326667       4.430000\n",
       "2014-05-31  0.000000  81.396774  58.254839    2.551613       3.296774\n",
       "2014-06-30  0.000000  88.813333  65.776667    2.213333       2.806667\n",
       "2014-07-31  0.000000  88.096774  68.680645    2.487097       7.338710\n",
       "2014-08-31  0.000000  84.641935  67.100000    1.835484       5.629032\n",
       "2014-09-30  0.000000  79.940000  64.413333    2.240000       5.013333\n",
       "2014-10-31  0.000000  74.954839  51.003226    2.290323       1.787097\n",
       "2014-11-30  0.000000  58.140000  35.863333    2.386667       3.200000\n",
       "2014-12-31  0.000000  53.841935  35.680645    1.980645       4.077419"
      ]
     },
     "execution_count": 140,
     "metadata": {},
     "output_type": "execute_result"
    }
   ],
   "source": [
    "rdu_weather.resample(\"M\")"
   ]
  },
  {
   "cell_type": "markdown",
   "metadata": {},
   "source": [
    "This is how you'd resample weekly on `temp_max` for Mean / Median / Standard Deviation"
   ]
  },
  {
   "cell_type": "code",
   "execution_count": 141,
   "metadata": {
    "collapsed": false
   },
   "outputs": [
    {
     "data": {
      "text/html": [
       "<div>\n",
       "<table border=\"1\" class=\"dataframe\">\n",
       "  <thead>\n",
       "    <tr style=\"text-align: right;\">\n",
       "      <th></th>\n",
       "      <th>mean</th>\n",
       "      <th>median</th>\n",
       "      <th>std</th>\n",
       "    </tr>\n",
       "    <tr>\n",
       "      <th>DATE</th>\n",
       "      <th></th>\n",
       "      <th></th>\n",
       "      <th></th>\n",
       "    </tr>\n",
       "  </thead>\n",
       "  <tbody>\n",
       "    <tr>\n",
       "      <th>2014-01-05</th>\n",
       "      <td>48.600000</td>\n",
       "      <td>48.9</td>\n",
       "      <td>9.143850</td>\n",
       "    </tr>\n",
       "    <tr>\n",
       "      <th>2014-01-12</th>\n",
       "      <td>50.742857</td>\n",
       "      <td>54.0</td>\n",
       "      <td>14.430276</td>\n",
       "    </tr>\n",
       "    <tr>\n",
       "      <th>2014-01-19</th>\n",
       "      <td>53.714286</td>\n",
       "      <td>54.0</td>\n",
       "      <td>6.351753</td>\n",
       "    </tr>\n",
       "    <tr>\n",
       "      <th>2014-01-26</th>\n",
       "      <td>43.171429</td>\n",
       "      <td>39.9</td>\n",
       "      <td>13.163550</td>\n",
       "    </tr>\n",
       "    <tr>\n",
       "      <th>2014-02-02</th>\n",
       "      <td>48.442857</td>\n",
       "      <td>53.1</td>\n",
       "      <td>15.535321</td>\n",
       "    </tr>\n",
       "  </tbody>\n",
       "</table>\n",
       "</div>"
      ],
      "text/plain": [
       "                 mean  median        std\n",
       "DATE                                    \n",
       "2014-01-05  48.600000    48.9   9.143850\n",
       "2014-01-12  50.742857    54.0  14.430276\n",
       "2014-01-19  53.714286    54.0   6.351753\n",
       "2014-01-26  43.171429    39.9  13.163550\n",
       "2014-02-02  48.442857    53.1  15.535321"
      ]
     },
     "execution_count": 141,
     "metadata": {},
     "output_type": "execute_result"
    }
   ],
   "source": [
    "rdu_weather.temp_max.resample('W', how=[\"mean\", \"median\", \"std\"]).head()"
   ]
  },
  {
   "cell_type": "markdown",
   "metadata": {},
   "source": [
    "So far we've mostly called `resample` on individual series, but if you call it on an entire DataFrame (in our case we'll narrow our focus to two Series) with a `Rule` and a `How` argument it will give you a multi level index grouping the columns together by the `How` argument."
   ]
  },
  {
   "cell_type": "code",
   "execution_count": 142,
   "metadata": {
    "collapsed": false
   },
   "outputs": [
    {
     "data": {
      "text/html": [
       "<div>\n",
       "<table border=\"1\" class=\"dataframe\">\n",
       "  <thead>\n",
       "    <tr>\n",
       "      <th></th>\n",
       "      <th colspan=\"3\" halign=\"left\">temp_max</th>\n",
       "      <th colspan=\"3\" halign=\"left\">temp_min</th>\n",
       "    </tr>\n",
       "    <tr>\n",
       "      <th></th>\n",
       "      <th>mean</th>\n",
       "      <th>median</th>\n",
       "      <th>std</th>\n",
       "      <th>mean</th>\n",
       "      <th>median</th>\n",
       "      <th>std</th>\n",
       "    </tr>\n",
       "    <tr>\n",
       "      <th>DATE</th>\n",
       "      <th></th>\n",
       "      <th></th>\n",
       "      <th></th>\n",
       "      <th></th>\n",
       "      <th></th>\n",
       "      <th></th>\n",
       "    </tr>\n",
       "  </thead>\n",
       "  <tbody>\n",
       "    <tr>\n",
       "      <th>2014-01-05</th>\n",
       "      <td>48.600000</td>\n",
       "      <td>48.9</td>\n",
       "      <td>9.143850</td>\n",
       "      <td>28.880000</td>\n",
       "      <td>29.1</td>\n",
       "      <td>8.239964</td>\n",
       "    </tr>\n",
       "    <tr>\n",
       "      <th>2014-01-12</th>\n",
       "      <td>50.742857</td>\n",
       "      <td>54.0</td>\n",
       "      <td>14.430276</td>\n",
       "      <td>26.971429</td>\n",
       "      <td>25.2</td>\n",
       "      <td>14.078200</td>\n",
       "    </tr>\n",
       "    <tr>\n",
       "      <th>2014-01-19</th>\n",
       "      <td>53.714286</td>\n",
       "      <td>54.0</td>\n",
       "      <td>6.351753</td>\n",
       "      <td>31.785714</td>\n",
       "      <td>32.0</td>\n",
       "      <td>3.477752</td>\n",
       "    </tr>\n",
       "    <tr>\n",
       "      <th>2014-01-26</th>\n",
       "      <td>43.171429</td>\n",
       "      <td>39.9</td>\n",
       "      <td>13.163550</td>\n",
       "      <td>20.285714</td>\n",
       "      <td>18.1</td>\n",
       "      <td>6.418574</td>\n",
       "    </tr>\n",
       "    <tr>\n",
       "      <th>2014-02-02</th>\n",
       "      <td>48.442857</td>\n",
       "      <td>53.1</td>\n",
       "      <td>15.535321</td>\n",
       "      <td>21.885714</td>\n",
       "      <td>18.1</td>\n",
       "      <td>11.757186</td>\n",
       "    </tr>\n",
       "  </tbody>\n",
       "</table>\n",
       "</div>"
      ],
      "text/plain": [
       "             temp_max                     temp_min                  \n",
       "                 mean median        std       mean median        std\n",
       "DATE                                                                \n",
       "2014-01-05  48.600000   48.9   9.143850  28.880000   29.1   8.239964\n",
       "2014-01-12  50.742857   54.0  14.430276  26.971429   25.2  14.078200\n",
       "2014-01-19  53.714286   54.0   6.351753  31.785714   32.0   3.477752\n",
       "2014-01-26  43.171429   39.9  13.163550  20.285714   18.1   6.418574\n",
       "2014-02-02  48.442857   53.1  15.535321  21.885714   18.1  11.757186"
      ]
     },
     "execution_count": 142,
     "metadata": {},
     "output_type": "execute_result"
    }
   ],
   "source": [
    "rdu_weather[[\"temp_max\", \"temp_min\"]].resample('W', how=[\"mean\", \"median\", \"std\"]).head()"
   ]
  },
  {
   "cell_type": "markdown",
   "metadata": {},
   "source": [
    "### Plotting\n",
    "\n",
    "This type of resampling can be VERY useful when plotting your dataframes as frames with a ton of data can make for VERY noisy plots."
   ]
  },
  {
   "cell_type": "code",
   "execution_count": 143,
   "metadata": {
    "collapsed": false
   },
   "outputs": [
    {
     "data": {
      "image/png": "[encoded data removed]",
      "text/plain": [
       "<matplotlib.figure.Figure at 0x10c55f518>"
      ]
     },
     "metadata": {},
     "output_type": "display_data"
    },
    {
     "data": {
      "image/png": "[encoded data removed]",
      "text/plain": [
       "<matplotlib.figure.Figure at 0x10c04e748>"
      ]
     },
     "metadata": {},
     "output_type": "display_data"
    }
   ],
   "source": [
    "rdu_weather.temp_max.resample('MS', how=[\"median\", \"std\"]).plot(title=\"Month Start\")\n",
    "rdu_weather.temp_max.resample('W', how=[\"median\", \"std\"]).plot(title=\"Weekly\")\n",
    "plt.show()"
   ]
  },
  {
   "cell_type": "code",
   "execution_count": 144,
   "metadata": {
    "collapsed": false
   },
   "outputs": [
    {
     "data": {
      "text/html": [
       "<div>\n",
       "<table border=\"1\" class=\"dataframe\">\n",
       "  <thead>\n",
       "    <tr style=\"text-align: right;\">\n",
       "      <th></th>\n",
       "      <th>temp_max</th>\n",
       "      <th>temp_min</th>\n",
       "    </tr>\n",
       "    <tr>\n",
       "      <th>DATE</th>\n",
       "      <th></th>\n",
       "      <th></th>\n",
       "    </tr>\n",
       "  </thead>\n",
       "  <tbody>\n",
       "    <tr>\n",
       "      <th>2014-01-01</th>\n",
       "      <td>48.145161</td>\n",
       "      <td>25.341935</td>\n",
       "    </tr>\n",
       "    <tr>\n",
       "      <th>2014-02-01</th>\n",
       "      <td>53.475000</td>\n",
       "      <td>33.460714</td>\n",
       "    </tr>\n",
       "    <tr>\n",
       "      <th>2014-03-01</th>\n",
       "      <td>57.906452</td>\n",
       "      <td>34.125806</td>\n",
       "    </tr>\n",
       "    <tr>\n",
       "      <th>2014-04-01</th>\n",
       "      <td>72.343333</td>\n",
       "      <td>48.026667</td>\n",
       "    </tr>\n",
       "    <tr>\n",
       "      <th>2014-05-01</th>\n",
       "      <td>81.396774</td>\n",
       "      <td>58.254839</td>\n",
       "    </tr>\n",
       "    <tr>\n",
       "      <th>2014-06-01</th>\n",
       "      <td>88.813333</td>\n",
       "      <td>65.776667</td>\n",
       "    </tr>\n",
       "    <tr>\n",
       "      <th>2014-07-01</th>\n",
       "      <td>88.096774</td>\n",
       "      <td>68.680645</td>\n",
       "    </tr>\n",
       "    <tr>\n",
       "      <th>2014-08-01</th>\n",
       "      <td>84.641935</td>\n",
       "      <td>67.100000</td>\n",
       "    </tr>\n",
       "    <tr>\n",
       "      <th>2014-09-01</th>\n",
       "      <td>79.940000</td>\n",
       "      <td>64.413333</td>\n",
       "    </tr>\n",
       "    <tr>\n",
       "      <th>2014-10-01</th>\n",
       "      <td>74.954839</td>\n",
       "      <td>51.003226</td>\n",
       "    </tr>\n",
       "    <tr>\n",
       "      <th>2014-11-01</th>\n",
       "      <td>58.140000</td>\n",
       "      <td>35.863333</td>\n",
       "    </tr>\n",
       "    <tr>\n",
       "      <th>2014-12-01</th>\n",
       "      <td>53.841935</td>\n",
       "      <td>35.680645</td>\n",
       "    </tr>\n",
       "  </tbody>\n",
       "</table>\n",
       "</div>"
      ],
      "text/plain": [
       "             temp_max   temp_min\n",
       "DATE                            \n",
       "2014-01-01  48.145161  25.341935\n",
       "2014-02-01  53.475000  33.460714\n",
       "2014-03-01  57.906452  34.125806\n",
       "2014-04-01  72.343333  48.026667\n",
       "2014-05-01  81.396774  58.254839\n",
       "2014-06-01  88.813333  65.776667\n",
       "2014-07-01  88.096774  68.680645\n",
       "2014-08-01  84.641935  67.100000\n",
       "2014-09-01  79.940000  64.413333\n",
       "2014-10-01  74.954839  51.003226\n",
       "2014-11-01  58.140000  35.863333\n",
       "2014-12-01  53.841935  35.680645"
      ]
     },
     "execution_count": 144,
     "metadata": {},
     "output_type": "execute_result"
    }
   ],
   "source": [
    "rdu_weather[[\"temp_max\", \"temp_min\"]].resample('MS')"
   ]
  },
  {
   "cell_type": "code",
   "execution_count": 102,
   "metadata": {
    "collapsed": false
   },
   "outputs": [],
   "source": [
    "rdu_weather[[\"temp_max\", \"temp_min\"]]"
   ]
  },
  {
   "cell_type": "code",
   "execution_count": 93,
   "metadata": {
    "collapsed": false
   },
   "outputs": [
    {
     "data": {
      "text/plain": [
       "<function pandas.tseries.index.date_range>"
      ]
     },
     "execution_count": 93,
     "metadata": {},
     "output_type": "execute_result"
    }
   ],
   "source": []
  },
  {
   "cell_type": "code",
   "execution_count": 84,
   "metadata": {
    "collapsed": false
   },
   "outputs": [
    {
     "data": {
      "image/png": "[encoded data removed]",
      "text/plain": [
       "<matplotlib.figure.Figure at 0x10c578a20>"
      ]
     },
     "metadata": {},
     "output_type": "display_data"
    },
    {
     "data": {
      "image/png": "[encoded data removed]",
      "text/plain": [
       "<matplotlib.figure.Figure at 0x10c019eb8>"
      ]
     },
     "metadata": {},
     "output_type": "display_data"
    }
   ],
   "source": [
    "rdu_weather[[\"temp_max\", \"temp_min\"]].resample('MS').plot(title=\"Month Start\")\n",
    "rdu_weather[[\"temp_max\", \"temp_min\"]].resample('W').plot(title=\"Weekly\")\n",
    "plt.show()"
   ]
  },
  {
   "cell_type": "code",
   "execution_count": null,
   "metadata": {
    "collapsed": false
   },
   "outputs": [],
   "source": []
  }
 ],
 "metadata": {
  "kernelspec": {
   "display_name": "Python 3",
   "language": "python",
   "name": "python3"
  },
  "language_info": {
   "codemirror_mode": {
    "name": "ipython",
    "version": 3
   },
   "file_extension": ".py",
   "mimetype": "text/x-python",
   "name": "python",
   "nbconvert_exporter": "python",
   "pygments_lexer": "ipython3",
   "version": "3.5.0"
  }
 },
 "nbformat": 4,
 "nbformat_minor": 0
}
