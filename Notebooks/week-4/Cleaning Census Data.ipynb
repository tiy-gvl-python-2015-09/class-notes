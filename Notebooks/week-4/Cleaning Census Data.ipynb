{
 "cells": [
  {
   "cell_type": "markdown",
   "metadata": {},
   "source": [
    "# Cleaning & Restructuring Data\n",
    "\n",
    "Most times the journey to having a clean data set ready for analysis is most of the work in data science. In the case of our census data we have a situation where there is a lot of `head` and `tail` data that has nothing to do with our end case.  Also our States and population figures are misformatted - so we need to \"clean\" them in order to do further analysis."
   ]
  },
  {
   "cell_type": "code",
   "execution_count": 26,
   "metadata": {
    "collapsed": false
   },
   "outputs": [],
   "source": [
    "import pandas as pd\n",
    "import numpy as np"
   ]
  },
  {
   "cell_type": "markdown",
   "metadata": {},
   "source": [
    "Notice that at a glance that our header row is not the first row of the CSV so we need to tell pandas what row the header is contained in (it's row 4)."
   ]
  },
  {
   "cell_type": "code",
   "execution_count": 27,
   "metadata": {
    "collapsed": false
   },
   "outputs": [
    {
     "data": {
      "text/html": [
       "<div>\n",
       "<table border=\"1\" class=\"dataframe\">\n",
       "  <thead>\n",
       "    <tr style=\"text-align: right;\">\n",
       "      <th></th>\n",
       "      <th>table with row headers in column A and column headers in rows 3 through 4. (leading dots indicate sub-parts)</th>\n",
       "      <th>Unnamed: 1</th>\n",
       "      <th>Unnamed: 2</th>\n",
       "      <th>Unnamed: 3</th>\n",
       "      <th>Unnamed: 4</th>\n",
       "      <th>Unnamed: 5</th>\n",
       "      <th>Unnamed: 6</th>\n",
       "      <th>Unnamed: 7</th>\n",
       "    </tr>\n",
       "  </thead>\n",
       "  <tbody>\n",
       "    <tr>\n",
       "      <th>0</th>\n",
       "      <td>Table 1. Annual Estimates of the Resident Popu...</td>\n",
       "      <td>NaN</td>\n",
       "      <td>NaN</td>\n",
       "      <td>NaN</td>\n",
       "      <td>NaN</td>\n",
       "      <td>NaN</td>\n",
       "      <td>NaN</td>\n",
       "      <td>NaN</td>\n",
       "    </tr>\n",
       "    <tr>\n",
       "      <th>1</th>\n",
       "      <td>Geographic Area</td>\n",
       "      <td>April 1, 2010</td>\n",
       "      <td>NaN</td>\n",
       "      <td>Population Estimate (as of July 1)</td>\n",
       "      <td>NaN</td>\n",
       "      <td>NaN</td>\n",
       "      <td>NaN</td>\n",
       "      <td>NaN</td>\n",
       "    </tr>\n",
       "    <tr>\n",
       "      <th>2</th>\n",
       "      <td>NaN</td>\n",
       "      <td>Census</td>\n",
       "      <td>Estimates Base</td>\n",
       "      <td>2010</td>\n",
       "      <td>2011</td>\n",
       "      <td>2012</td>\n",
       "      <td>2013</td>\n",
       "      <td>2014</td>\n",
       "    </tr>\n",
       "    <tr>\n",
       "      <th>3</th>\n",
       "      <td>United States</td>\n",
       "      <td>308,745,538</td>\n",
       "      <td>308,758,105</td>\n",
       "      <td>309,347,057</td>\n",
       "      <td>311,721,632</td>\n",
       "      <td>314,112,078</td>\n",
       "      <td>316,497,531</td>\n",
       "      <td>318,857,056</td>\n",
       "    </tr>\n",
       "    <tr>\n",
       "      <th>4</th>\n",
       "      <td>Northeast</td>\n",
       "      <td>55,317,240</td>\n",
       "      <td>55,318,348</td>\n",
       "      <td>55,381,690</td>\n",
       "      <td>55,635,670</td>\n",
       "      <td>55,832,038</td>\n",
       "      <td>56,028,220</td>\n",
       "      <td>56,152,333</td>\n",
       "    </tr>\n",
       "  </tbody>\n",
       "</table>\n",
       "</div>"
      ],
      "text/plain": [
       "  table with row headers in column A and column headers in rows 3 through 4. (leading dots indicate sub-parts)  \\\n",
       "0  Table 1. Annual Estimates of the Resident Popu...                                                             \n",
       "1                                    Geographic Area                                                             \n",
       "2                                                NaN                                                             \n",
       "3                                      United States                                                             \n",
       "4                                          Northeast                                                             \n",
       "\n",
       "      Unnamed: 1      Unnamed: 2                          Unnamed: 3  \\\n",
       "0            NaN             NaN                                 NaN   \n",
       "1  April 1, 2010             NaN  Population Estimate (as of July 1)   \n",
       "2         Census  Estimates Base                                2010   \n",
       "3    308,745,538     308,758,105                         309,347,057   \n",
       "4     55,317,240      55,318,348                          55,381,690   \n",
       "\n",
       "    Unnamed: 4   Unnamed: 5   Unnamed: 6   Unnamed: 7  \n",
       "0          NaN          NaN          NaN          NaN  \n",
       "1          NaN          NaN          NaN          NaN  \n",
       "2         2011         2012         2013         2014  \n",
       "3  311,721,632  314,112,078  316,497,531  318,857,056  \n",
       "4   55,635,670   55,832,038   56,028,220   56,152,333  "
      ]
     },
     "execution_count": 27,
     "metadata": {},
     "output_type": "execute_result"
    }
   ],
   "source": [
    "pd.read_csv(\"NST-EST2014-01.csv\").head()"
   ]
  },
  {
   "cell_type": "code",
   "execution_count": 28,
   "metadata": {
    "collapsed": false
   },
   "outputs": [
    {
     "name": "stdout",
     "output_type": "stream",
     "text": [
      "table with row headers in column A and column headers in rows 3 through 4. (leading dots indicate sub-parts),,,,,,,\r",
      "\r\n",
      "\"Table 1. Annual Estimates of the Resident Population for the United States, Regions, States, and Puerto Rico: April 1, 2010 to July 1, 2014\",,,,,,,\r",
      "\r\n",
      "Geographic Area,\"April 1, 2010\",,Population Estimate (as of July 1),,,,\r",
      "\r\n",
      ",Census,Estimates Base,2010,2011,2012,2013,2014\r",
      "\r\n",
      "United States,\"308,745,538\",\"308,758,105\",\"309,347,057\",\"311,721,632\",\"314,112,078\",\"316,497,531\",\"318,857,056\"\r",
      "\r\n",
      "Northeast,\"55,317,240\",\"55,318,348\",\"55,381,690\",\"55,635,670\",\"55,832,038\",\"56,028,220\",\"56,152,333\"\r",
      "\r\n",
      "Midwest,\"66,927,001\",\"66,929,898\",\"66,972,390\",\"67,149,657\",\"67,331,458\",\"67,567,871\",\"67,745,108\"\r",
      "\r\n",
      "South,\"114,555,744\",\"114,562,951\",\"114,871,231\",\"116,089,908\",\"117,346,322\",\"118,522,802\",\"119,771,934\"\r",
      "\r\n",
      "West,\"71,945,553\",\"71,946,908\",\"72,121,746\",\"72,846,397\",\"73,602,260\",\"74,378,638\",\"75,187,681\"\r",
      "\r\n",
      ".Alabama,\"4,779,736\",\"4,780,127\",\"4,785,822\",\"4,801,695\",\"4,817,484\",\"4,833,996\",\"4,849,377\"\r",
      "\r\n"
     ]
    }
   ],
   "source": [
    "!head NST-EST2014-01.csv"
   ]
  },
  {
   "cell_type": "code",
   "execution_count": 29,
   "metadata": {
    "collapsed": false
   },
   "outputs": [
    {
     "data": {
      "text/html": [
       "<div>\n",
       "<table border=\"1\" class=\"dataframe\">\n",
       "  <thead>\n",
       "    <tr style=\"text-align: right;\">\n",
       "      <th></th>\n",
       "      <th>Unnamed: 0</th>\n",
       "      <th>Census</th>\n",
       "      <th>Estimates Base</th>\n",
       "      <th>2010</th>\n",
       "      <th>2011</th>\n",
       "      <th>2012</th>\n",
       "      <th>2013</th>\n",
       "      <th>2014</th>\n",
       "    </tr>\n",
       "  </thead>\n",
       "  <tbody>\n",
       "    <tr>\n",
       "      <th>0</th>\n",
       "      <td>United States</td>\n",
       "      <td>308,745,538</td>\n",
       "      <td>308,758,105</td>\n",
       "      <td>309,347,057</td>\n",
       "      <td>311,721,632</td>\n",
       "      <td>314,112,078</td>\n",
       "      <td>316,497,531</td>\n",
       "      <td>318,857,056</td>\n",
       "    </tr>\n",
       "    <tr>\n",
       "      <th>1</th>\n",
       "      <td>Northeast</td>\n",
       "      <td>55,317,240</td>\n",
       "      <td>55,318,348</td>\n",
       "      <td>55,381,690</td>\n",
       "      <td>55,635,670</td>\n",
       "      <td>55,832,038</td>\n",
       "      <td>56,028,220</td>\n",
       "      <td>56,152,333</td>\n",
       "    </tr>\n",
       "    <tr>\n",
       "      <th>2</th>\n",
       "      <td>Midwest</td>\n",
       "      <td>66,927,001</td>\n",
       "      <td>66,929,898</td>\n",
       "      <td>66,972,390</td>\n",
       "      <td>67,149,657</td>\n",
       "      <td>67,331,458</td>\n",
       "      <td>67,567,871</td>\n",
       "      <td>67,745,108</td>\n",
       "    </tr>\n",
       "    <tr>\n",
       "      <th>3</th>\n",
       "      <td>South</td>\n",
       "      <td>114,555,744</td>\n",
       "      <td>114,562,951</td>\n",
       "      <td>114,871,231</td>\n",
       "      <td>116,089,908</td>\n",
       "      <td>117,346,322</td>\n",
       "      <td>118,522,802</td>\n",
       "      <td>119,771,934</td>\n",
       "    </tr>\n",
       "    <tr>\n",
       "      <th>4</th>\n",
       "      <td>West</td>\n",
       "      <td>71,945,553</td>\n",
       "      <td>71,946,908</td>\n",
       "      <td>72,121,746</td>\n",
       "      <td>72,846,397</td>\n",
       "      <td>73,602,260</td>\n",
       "      <td>74,378,638</td>\n",
       "      <td>75,187,681</td>\n",
       "    </tr>\n",
       "  </tbody>\n",
       "</table>\n",
       "</div>"
      ],
      "text/plain": [
       "      Unnamed: 0       Census Estimates Base         2010         2011  \\\n",
       "0  United States  308,745,538    308,758,105  309,347,057  311,721,632   \n",
       "1      Northeast   55,317,240     55,318,348   55,381,690   55,635,670   \n",
       "2        Midwest   66,927,001     66,929,898   66,972,390   67,149,657   \n",
       "3          South  114,555,744    114,562,951  114,871,231  116,089,908   \n",
       "4           West   71,945,553     71,946,908   72,121,746   72,846,397   \n",
       "\n",
       "          2012         2013         2014  \n",
       "0  314,112,078  316,497,531  318,857,056  \n",
       "1   55,832,038   56,028,220   56,152,333  \n",
       "2   67,331,458   67,567,871   67,745,108  \n",
       "3  117,346,322  118,522,802  119,771,934  \n",
       "4   73,602,260   74,378,638   75,187,681  "
      ]
     },
     "execution_count": 29,
     "metadata": {},
     "output_type": "execute_result"
    }
   ],
   "source": [
    "pd.read_csv(\"NST-EST2014-01.csv\", header=3).head()"
   ]
  },
  {
   "cell_type": "markdown",
   "metadata": {},
   "source": [
    "Adding the `header=3` kwarg to our `read_csv` call should take care of that cleanup.  For the most part. Notice that our states have a mislabeled (missing) column header."
   ]
  },
  {
   "cell_type": "code",
   "execution_count": 30,
   "metadata": {
    "collapsed": false
   },
   "outputs": [],
   "source": [
    "pop_data = pd.read_csv(\"NST-EST2014-01.csv\", header=3)"
   ]
  },
  {
   "cell_type": "markdown",
   "metadata": {},
   "source": [
    "To fix our mislabeled state column we can just pop the column named `Unnamed: 0` and put it back on the DataFrame as a column labeled `State`."
   ]
  },
  {
   "cell_type": "code",
   "execution_count": 31,
   "metadata": {
    "collapsed": false
   },
   "outputs": [],
   "source": [
    "#pop_data[\"State\"] = pop_data.pop(\"Unnamed: 0\")"
   ]
  },
  {
   "cell_type": "code",
   "execution_count": 32,
   "metadata": {
    "collapsed": false
   },
   "outputs": [],
   "source": [
    "pop_data = pop_data.rename(columns={\"Unnamed: 0\": \"State\"})"
   ]
  },
  {
   "cell_type": "code",
   "execution_count": 33,
   "metadata": {
    "collapsed": false
   },
   "outputs": [
    {
     "data": {
      "text/html": [
       "<div>\n",
       "<table border=\"1\" class=\"dataframe\">\n",
       "  <thead>\n",
       "    <tr style=\"text-align: right;\">\n",
       "      <th></th>\n",
       "      <th>State</th>\n",
       "      <th>Census</th>\n",
       "      <th>Estimates Base</th>\n",
       "      <th>2010</th>\n",
       "      <th>2011</th>\n",
       "      <th>2012</th>\n",
       "      <th>2013</th>\n",
       "      <th>2014</th>\n",
       "    </tr>\n",
       "  </thead>\n",
       "  <tbody>\n",
       "    <tr>\n",
       "      <th>0</th>\n",
       "      <td>United States</td>\n",
       "      <td>308,745,538</td>\n",
       "      <td>308,758,105</td>\n",
       "      <td>309,347,057</td>\n",
       "      <td>311,721,632</td>\n",
       "      <td>314,112,078</td>\n",
       "      <td>316,497,531</td>\n",
       "      <td>318,857,056</td>\n",
       "    </tr>\n",
       "    <tr>\n",
       "      <th>1</th>\n",
       "      <td>Northeast</td>\n",
       "      <td>55,317,240</td>\n",
       "      <td>55,318,348</td>\n",
       "      <td>55,381,690</td>\n",
       "      <td>55,635,670</td>\n",
       "      <td>55,832,038</td>\n",
       "      <td>56,028,220</td>\n",
       "      <td>56,152,333</td>\n",
       "    </tr>\n",
       "    <tr>\n",
       "      <th>2</th>\n",
       "      <td>Midwest</td>\n",
       "      <td>66,927,001</td>\n",
       "      <td>66,929,898</td>\n",
       "      <td>66,972,390</td>\n",
       "      <td>67,149,657</td>\n",
       "      <td>67,331,458</td>\n",
       "      <td>67,567,871</td>\n",
       "      <td>67,745,108</td>\n",
       "    </tr>\n",
       "    <tr>\n",
       "      <th>3</th>\n",
       "      <td>South</td>\n",
       "      <td>114,555,744</td>\n",
       "      <td>114,562,951</td>\n",
       "      <td>114,871,231</td>\n",
       "      <td>116,089,908</td>\n",
       "      <td>117,346,322</td>\n",
       "      <td>118,522,802</td>\n",
       "      <td>119,771,934</td>\n",
       "    </tr>\n",
       "    <tr>\n",
       "      <th>4</th>\n",
       "      <td>West</td>\n",
       "      <td>71,945,553</td>\n",
       "      <td>71,946,908</td>\n",
       "      <td>72,121,746</td>\n",
       "      <td>72,846,397</td>\n",
       "      <td>73,602,260</td>\n",
       "      <td>74,378,638</td>\n",
       "      <td>75,187,681</td>\n",
       "    </tr>\n",
       "  </tbody>\n",
       "</table>\n",
       "</div>"
      ],
      "text/plain": [
       "           State       Census Estimates Base         2010         2011  \\\n",
       "0  United States  308,745,538    308,758,105  309,347,057  311,721,632   \n",
       "1      Northeast   55,317,240     55,318,348   55,381,690   55,635,670   \n",
       "2        Midwest   66,927,001     66,929,898   66,972,390   67,149,657   \n",
       "3          South  114,555,744    114,562,951  114,871,231  116,089,908   \n",
       "4           West   71,945,553     71,946,908   72,121,746   72,846,397   \n",
       "\n",
       "          2012         2013         2014  \n",
       "0  314,112,078  316,497,531  318,857,056  \n",
       "1   55,832,038   56,028,220   56,152,333  \n",
       "2   67,331,458   67,567,871   67,745,108  \n",
       "3  117,346,322  118,522,802  119,771,934  \n",
       "4   73,602,260   74,378,638   75,187,681  "
      ]
     },
     "execution_count": 33,
     "metadata": {},
     "output_type": "execute_result"
    }
   ],
   "source": [
    "pop_data.head()"
   ]
  },
  {
   "cell_type": "markdown",
   "metadata": {},
   "source": [
    "As if we'd like to set it as our index it's as easy as pie~"
   ]
  },
  {
   "cell_type": "code",
   "execution_count": 34,
   "metadata": {
    "collapsed": false
   },
   "outputs": [],
   "source": [
    "pop_data.index = pop_data.pop(\"State\")"
   ]
  },
  {
   "cell_type": "code",
   "execution_count": 35,
   "metadata": {
    "collapsed": false
   },
   "outputs": [
    {
     "data": {
      "text/html": [
       "<div>\n",
       "<table border=\"1\" class=\"dataframe\">\n",
       "  <thead>\n",
       "    <tr style=\"text-align: right;\">\n",
       "      <th></th>\n",
       "      <th>Census</th>\n",
       "      <th>Estimates Base</th>\n",
       "      <th>2010</th>\n",
       "      <th>2011</th>\n",
       "      <th>2012</th>\n",
       "      <th>2013</th>\n",
       "      <th>2014</th>\n",
       "    </tr>\n",
       "    <tr>\n",
       "      <th>State</th>\n",
       "      <th></th>\n",
       "      <th></th>\n",
       "      <th></th>\n",
       "      <th></th>\n",
       "      <th></th>\n",
       "      <th></th>\n",
       "      <th></th>\n",
       "    </tr>\n",
       "  </thead>\n",
       "  <tbody>\n",
       "    <tr>\n",
       "      <th>United States</th>\n",
       "      <td>308,745,538</td>\n",
       "      <td>308,758,105</td>\n",
       "      <td>309,347,057</td>\n",
       "      <td>311,721,632</td>\n",
       "      <td>314,112,078</td>\n",
       "      <td>316,497,531</td>\n",
       "      <td>318,857,056</td>\n",
       "    </tr>\n",
       "    <tr>\n",
       "      <th>Northeast</th>\n",
       "      <td>55,317,240</td>\n",
       "      <td>55,318,348</td>\n",
       "      <td>55,381,690</td>\n",
       "      <td>55,635,670</td>\n",
       "      <td>55,832,038</td>\n",
       "      <td>56,028,220</td>\n",
       "      <td>56,152,333</td>\n",
       "    </tr>\n",
       "    <tr>\n",
       "      <th>Midwest</th>\n",
       "      <td>66,927,001</td>\n",
       "      <td>66,929,898</td>\n",
       "      <td>66,972,390</td>\n",
       "      <td>67,149,657</td>\n",
       "      <td>67,331,458</td>\n",
       "      <td>67,567,871</td>\n",
       "      <td>67,745,108</td>\n",
       "    </tr>\n",
       "    <tr>\n",
       "      <th>South</th>\n",
       "      <td>114,555,744</td>\n",
       "      <td>114,562,951</td>\n",
       "      <td>114,871,231</td>\n",
       "      <td>116,089,908</td>\n",
       "      <td>117,346,322</td>\n",
       "      <td>118,522,802</td>\n",
       "      <td>119,771,934</td>\n",
       "    </tr>\n",
       "    <tr>\n",
       "      <th>West</th>\n",
       "      <td>71,945,553</td>\n",
       "      <td>71,946,908</td>\n",
       "      <td>72,121,746</td>\n",
       "      <td>72,846,397</td>\n",
       "      <td>73,602,260</td>\n",
       "      <td>74,378,638</td>\n",
       "      <td>75,187,681</td>\n",
       "    </tr>\n",
       "    <tr>\n",
       "      <th>.Alabama</th>\n",
       "      <td>4,779,736</td>\n",
       "      <td>4,780,127</td>\n",
       "      <td>4,785,822</td>\n",
       "      <td>4,801,695</td>\n",
       "      <td>4,817,484</td>\n",
       "      <td>4,833,996</td>\n",
       "      <td>4,849,377</td>\n",
       "    </tr>\n",
       "    <tr>\n",
       "      <th>.Alaska</th>\n",
       "      <td>710,231</td>\n",
       "      <td>710,249</td>\n",
       "      <td>713,856</td>\n",
       "      <td>722,572</td>\n",
       "      <td>731,081</td>\n",
       "      <td>737,259</td>\n",
       "      <td>736,732</td>\n",
       "    </tr>\n",
       "    <tr>\n",
       "      <th>.Arizona</th>\n",
       "      <td>6,392,017</td>\n",
       "      <td>6,392,310</td>\n",
       "      <td>6,411,999</td>\n",
       "      <td>6,472,867</td>\n",
       "      <td>6,556,236</td>\n",
       "      <td>6,634,997</td>\n",
       "      <td>6,731,484</td>\n",
       "    </tr>\n",
       "    <tr>\n",
       "      <th>.Arkansas</th>\n",
       "      <td>2,915,918</td>\n",
       "      <td>2,915,958</td>\n",
       "      <td>2,922,297</td>\n",
       "      <td>2,938,430</td>\n",
       "      <td>2,949,300</td>\n",
       "      <td>2,958,765</td>\n",
       "      <td>2,966,369</td>\n",
       "    </tr>\n",
       "    <tr>\n",
       "      <th>.California</th>\n",
       "      <td>37,253,956</td>\n",
       "      <td>37,254,503</td>\n",
       "      <td>37,336,011</td>\n",
       "      <td>37,701,901</td>\n",
       "      <td>38,062,780</td>\n",
       "      <td>38,431,393</td>\n",
       "      <td>38,802,500</td>\n",
       "    </tr>\n",
       "  </tbody>\n",
       "</table>\n",
       "</div>"
      ],
      "text/plain": [
       "                    Census Estimates Base         2010         2011  \\\n",
       "State                                                                 \n",
       "United States  308,745,538    308,758,105  309,347,057  311,721,632   \n",
       "Northeast       55,317,240     55,318,348   55,381,690   55,635,670   \n",
       "Midwest         66,927,001     66,929,898   66,972,390   67,149,657   \n",
       "South          114,555,744    114,562,951  114,871,231  116,089,908   \n",
       "West            71,945,553     71,946,908   72,121,746   72,846,397   \n",
       ".Alabama         4,779,736      4,780,127    4,785,822    4,801,695   \n",
       ".Alaska            710,231        710,249      713,856      722,572   \n",
       ".Arizona         6,392,017      6,392,310    6,411,999    6,472,867   \n",
       ".Arkansas        2,915,918      2,915,958    2,922,297    2,938,430   \n",
       ".California     37,253,956     37,254,503   37,336,011   37,701,901   \n",
       "\n",
       "                      2012         2013         2014  \n",
       "State                                                 \n",
       "United States  314,112,078  316,497,531  318,857,056  \n",
       "Northeast       55,832,038   56,028,220   56,152,333  \n",
       "Midwest         67,331,458   67,567,871   67,745,108  \n",
       "South          117,346,322  118,522,802  119,771,934  \n",
       "West            73,602,260   74,378,638   75,187,681  \n",
       ".Alabama         4,817,484    4,833,996    4,849,377  \n",
       ".Alaska            731,081      737,259      736,732  \n",
       ".Arizona         6,556,236    6,634,997    6,731,484  \n",
       ".Arkansas        2,949,300    2,958,765    2,966,369  \n",
       ".California     38,062,780   38,431,393   38,802,500  "
      ]
     },
     "execution_count": 35,
     "metadata": {},
     "output_type": "execute_result"
    }
   ],
   "source": [
    "pop_data.head(10)"
   ]
  },
  {
   "cell_type": "code",
   "execution_count": 37,
   "metadata": {
    "collapsed": false
   },
   "outputs": [
    {
     "data": {
      "text/html": [
       "<div>\n",
       "<table border=\"1\" class=\"dataframe\">\n",
       "  <thead>\n",
       "    <tr style=\"text-align: right;\">\n",
       "      <th></th>\n",
       "      <th>Census</th>\n",
       "      <th>Estimates Base</th>\n",
       "      <th>2010</th>\n",
       "      <th>2011</th>\n",
       "      <th>2012</th>\n",
       "      <th>2013</th>\n",
       "      <th>2014</th>\n",
       "    </tr>\n",
       "    <tr>\n",
       "      <th>State</th>\n",
       "      <th></th>\n",
       "      <th></th>\n",
       "      <th></th>\n",
       "      <th></th>\n",
       "      <th></th>\n",
       "      <th></th>\n",
       "      <th></th>\n",
       "    </tr>\n",
       "  </thead>\n",
       "  <tbody>\n",
       "    <tr>\n",
       "      <th>.West Virginia</th>\n",
       "      <td>1,852,994</td>\n",
       "      <td>1,853,033</td>\n",
       "      <td>1,854,176</td>\n",
       "      <td>1,854,982</td>\n",
       "      <td>1,856,313</td>\n",
       "      <td>1,853,595</td>\n",
       "      <td>1,850,326</td>\n",
       "    </tr>\n",
       "    <tr>\n",
       "      <th>.Wisconsin</th>\n",
       "      <td>5,686,986</td>\n",
       "      <td>5,687,289</td>\n",
       "      <td>5,689,268</td>\n",
       "      <td>5,708,785</td>\n",
       "      <td>5,724,888</td>\n",
       "      <td>5,742,953</td>\n",
       "      <td>5,757,564</td>\n",
       "    </tr>\n",
       "    <tr>\n",
       "      <th>.Wyoming</th>\n",
       "      <td>563,626</td>\n",
       "      <td>563,767</td>\n",
       "      <td>564,358</td>\n",
       "      <td>567,631</td>\n",
       "      <td>576,893</td>\n",
       "      <td>583,223</td>\n",
       "      <td>584,153</td>\n",
       "    </tr>\n",
       "    <tr>\n",
       "      <th>NaN</th>\n",
       "      <td>NaN</td>\n",
       "      <td>NaN</td>\n",
       "      <td>NaN</td>\n",
       "      <td>NaN</td>\n",
       "      <td>NaN</td>\n",
       "      <td>NaN</td>\n",
       "      <td>NaN</td>\n",
       "    </tr>\n",
       "    <tr>\n",
       "      <th>Puerto Rico</th>\n",
       "      <td>3,725,789</td>\n",
       "      <td>3,726,157</td>\n",
       "      <td>3,721,527</td>\n",
       "      <td>3,686,771</td>\n",
       "      <td>3,642,281</td>\n",
       "      <td>3,595,839</td>\n",
       "      <td>3,548,397</td>\n",
       "    </tr>\n",
       "    <tr>\n",
       "      <th>Note: The estimates are based on the 2010 Census and reflect changes to the April 1, 2010 population due to the Count Question Resolution program and geographic program revisions. See Geographic Terms and Definitions at http://www.census.gov/popest/about/geo/terms.html for a list of the states that are included in each region.  All geographic boundaries for the 2014 population estimates series are defined as of January 1, 2014.  For population estimates methodology statements, see http://www.census.gov/popest/methodology/index.html.</th>\n",
       "      <td>NaN</td>\n",
       "      <td>NaN</td>\n",
       "      <td>NaN</td>\n",
       "      <td>NaN</td>\n",
       "      <td>NaN</td>\n",
       "      <td>NaN</td>\n",
       "      <td>NaN</td>\n",
       "    </tr>\n",
       "    <tr>\n",
       "      <th>Suggested Citation:</th>\n",
       "      <td>NaN</td>\n",
       "      <td>NaN</td>\n",
       "      <td>NaN</td>\n",
       "      <td>NaN</td>\n",
       "      <td>NaN</td>\n",
       "      <td>NaN</td>\n",
       "      <td>NaN</td>\n",
       "    </tr>\n",
       "    <tr>\n",
       "      <th>Table 1. Annual Estimates of the Resident Population for the United States, Regions, States, and Puerto Rico: April 1, 2010 to July 1, 2014 (NST-EST2014-01)</th>\n",
       "      <td>NaN</td>\n",
       "      <td>NaN</td>\n",
       "      <td>NaN</td>\n",
       "      <td>NaN</td>\n",
       "      <td>NaN</td>\n",
       "      <td>NaN</td>\n",
       "      <td>NaN</td>\n",
       "    </tr>\n",
       "    <tr>\n",
       "      <th>Source: U.S. Census Bureau, Population Division</th>\n",
       "      <td>NaN</td>\n",
       "      <td>NaN</td>\n",
       "      <td>NaN</td>\n",
       "      <td>NaN</td>\n",
       "      <td>NaN</td>\n",
       "      <td>NaN</td>\n",
       "      <td>NaN</td>\n",
       "    </tr>\n",
       "    <tr>\n",
       "      <th>Release Date: December 2014</th>\n",
       "      <td>NaN</td>\n",
       "      <td>NaN</td>\n",
       "      <td>NaN</td>\n",
       "      <td>NaN</td>\n",
       "      <td>NaN</td>\n",
       "      <td>NaN</td>\n",
       "      <td>NaN</td>\n",
       "    </tr>\n",
       "  </tbody>\n",
       "</table>\n",
       "</div>"
      ],
      "text/plain": [
       "                                                       Census Estimates Base  \\\n",
       "State                                                                          \n",
       ".West Virginia                                      1,852,994      1,853,033   \n",
       ".Wisconsin                                          5,686,986      5,687,289   \n",
       ".Wyoming                                              563,626        563,767   \n",
       "NaN                                                       NaN            NaN   \n",
       "Puerto Rico                                         3,725,789      3,726,157   \n",
       "Note: The estimates are based on the 2010 Censu...        NaN            NaN   \n",
       "Suggested Citation:                                       NaN            NaN   \n",
       "Table 1. Annual Estimates of the Resident Popul...        NaN            NaN   \n",
       "Source: U.S. Census Bureau, Population Division           NaN            NaN   \n",
       "Release Date: December 2014                               NaN            NaN   \n",
       "\n",
       "                                                         2010       2011  \\\n",
       "State                                                                      \n",
       ".West Virginia                                      1,854,176  1,854,982   \n",
       ".Wisconsin                                          5,689,268  5,708,785   \n",
       ".Wyoming                                              564,358    567,631   \n",
       "NaN                                                       NaN        NaN   \n",
       "Puerto Rico                                         3,721,527  3,686,771   \n",
       "Note: The estimates are based on the 2010 Censu...        NaN        NaN   \n",
       "Suggested Citation:                                       NaN        NaN   \n",
       "Table 1. Annual Estimates of the Resident Popul...        NaN        NaN   \n",
       "Source: U.S. Census Bureau, Population Division           NaN        NaN   \n",
       "Release Date: December 2014                               NaN        NaN   \n",
       "\n",
       "                                                         2012       2013  \\\n",
       "State                                                                      \n",
       ".West Virginia                                      1,856,313  1,853,595   \n",
       ".Wisconsin                                          5,724,888  5,742,953   \n",
       ".Wyoming                                              576,893    583,223   \n",
       "NaN                                                       NaN        NaN   \n",
       "Puerto Rico                                         3,642,281  3,595,839   \n",
       "Note: The estimates are based on the 2010 Censu...        NaN        NaN   \n",
       "Suggested Citation:                                       NaN        NaN   \n",
       "Table 1. Annual Estimates of the Resident Popul...        NaN        NaN   \n",
       "Source: U.S. Census Bureau, Population Division           NaN        NaN   \n",
       "Release Date: December 2014                               NaN        NaN   \n",
       "\n",
       "                                                         2014  \n",
       "State                                                          \n",
       ".West Virginia                                      1,850,326  \n",
       ".Wisconsin                                          5,757,564  \n",
       ".Wyoming                                              584,153  \n",
       "NaN                                                       NaN  \n",
       "Puerto Rico                                         3,548,397  \n",
       "Note: The estimates are based on the 2010 Censu...        NaN  \n",
       "Suggested Citation:                                       NaN  \n",
       "Table 1. Annual Estimates of the Resident Popul...        NaN  \n",
       "Source: U.S. Census Bureau, Population Division           NaN  \n",
       "Release Date: December 2014                               NaN  "
      ]
     },
     "execution_count": 37,
     "metadata": {},
     "output_type": "execute_result"
    }
   ],
   "source": [
    "pop_data.tail(10)"
   ]
  },
  {
   "cell_type": "code",
   "execution_count": 38,
   "metadata": {
    "collapsed": false
   },
   "outputs": [],
   "source": [
    "pop_data = pop_data.iloc[0:-5]"
   ]
  },
  {
   "cell_type": "code",
   "execution_count": 39,
   "metadata": {
    "collapsed": false
   },
   "outputs": [
    {
     "data": {
      "text/html": [
       "<div>\n",
       "<table border=\"1\" class=\"dataframe\">\n",
       "  <thead>\n",
       "    <tr style=\"text-align: right;\">\n",
       "      <th></th>\n",
       "      <th>Census</th>\n",
       "      <th>Estimates Base</th>\n",
       "      <th>2010</th>\n",
       "      <th>2011</th>\n",
       "      <th>2012</th>\n",
       "      <th>2013</th>\n",
       "      <th>2014</th>\n",
       "    </tr>\n",
       "    <tr>\n",
       "      <th>State</th>\n",
       "      <th></th>\n",
       "      <th></th>\n",
       "      <th></th>\n",
       "      <th></th>\n",
       "      <th></th>\n",
       "      <th></th>\n",
       "      <th></th>\n",
       "    </tr>\n",
       "  </thead>\n",
       "  <tbody>\n",
       "    <tr>\n",
       "      <th>.West Virginia</th>\n",
       "      <td>1,852,994</td>\n",
       "      <td>1,853,033</td>\n",
       "      <td>1,854,176</td>\n",
       "      <td>1,854,982</td>\n",
       "      <td>1,856,313</td>\n",
       "      <td>1,853,595</td>\n",
       "      <td>1,850,326</td>\n",
       "    </tr>\n",
       "    <tr>\n",
       "      <th>.Wisconsin</th>\n",
       "      <td>5,686,986</td>\n",
       "      <td>5,687,289</td>\n",
       "      <td>5,689,268</td>\n",
       "      <td>5,708,785</td>\n",
       "      <td>5,724,888</td>\n",
       "      <td>5,742,953</td>\n",
       "      <td>5,757,564</td>\n",
       "    </tr>\n",
       "    <tr>\n",
       "      <th>.Wyoming</th>\n",
       "      <td>563,626</td>\n",
       "      <td>563,767</td>\n",
       "      <td>564,358</td>\n",
       "      <td>567,631</td>\n",
       "      <td>576,893</td>\n",
       "      <td>583,223</td>\n",
       "      <td>584,153</td>\n",
       "    </tr>\n",
       "    <tr>\n",
       "      <th>NaN</th>\n",
       "      <td>NaN</td>\n",
       "      <td>NaN</td>\n",
       "      <td>NaN</td>\n",
       "      <td>NaN</td>\n",
       "      <td>NaN</td>\n",
       "      <td>NaN</td>\n",
       "      <td>NaN</td>\n",
       "    </tr>\n",
       "    <tr>\n",
       "      <th>Puerto Rico</th>\n",
       "      <td>3,725,789</td>\n",
       "      <td>3,726,157</td>\n",
       "      <td>3,721,527</td>\n",
       "      <td>3,686,771</td>\n",
       "      <td>3,642,281</td>\n",
       "      <td>3,595,839</td>\n",
       "      <td>3,548,397</td>\n",
       "    </tr>\n",
       "  </tbody>\n",
       "</table>\n",
       "</div>"
      ],
      "text/plain": [
       "                   Census Estimates Base       2010       2011       2012  \\\n",
       "State                                                                       \n",
       ".West Virginia  1,852,994      1,853,033  1,854,176  1,854,982  1,856,313   \n",
       ".Wisconsin      5,686,986      5,687,289  5,689,268  5,708,785  5,724,888   \n",
       ".Wyoming          563,626        563,767    564,358    567,631    576,893   \n",
       "NaN                   NaN            NaN        NaN        NaN        NaN   \n",
       "Puerto Rico     3,725,789      3,726,157  3,721,527  3,686,771  3,642,281   \n",
       "\n",
       "                     2013       2014  \n",
       "State                                 \n",
       ".West Virginia  1,853,595  1,850,326  \n",
       ".Wisconsin      5,742,953  5,757,564  \n",
       ".Wyoming          583,223    584,153  \n",
       "NaN                   NaN        NaN  \n",
       "Puerto Rico     3,595,839  3,548,397  "
      ]
     },
     "execution_count": 39,
     "metadata": {},
     "output_type": "execute_result"
    }
   ],
   "source": [
    "pop_data.tail()"
   ]
  },
  {
   "cell_type": "markdown",
   "metadata": {},
   "source": [
    "WOOPS! There are is an empty row somehow.  Let's get rid of that one."
   ]
  },
  {
   "cell_type": "code",
   "execution_count": 40,
   "metadata": {
    "collapsed": false
   },
   "outputs": [],
   "source": [
    "pop_data = pop_data.dropna(how=\"all\")"
   ]
  },
  {
   "cell_type": "code",
   "execution_count": 41,
   "metadata": {
    "collapsed": false
   },
   "outputs": [
    {
     "data": {
      "text/html": [
       "<div>\n",
       "<table border=\"1\" class=\"dataframe\">\n",
       "  <thead>\n",
       "    <tr style=\"text-align: right;\">\n",
       "      <th></th>\n",
       "      <th>Census</th>\n",
       "      <th>Estimates Base</th>\n",
       "      <th>2010</th>\n",
       "      <th>2011</th>\n",
       "      <th>2012</th>\n",
       "      <th>2013</th>\n",
       "      <th>2014</th>\n",
       "    </tr>\n",
       "    <tr>\n",
       "      <th>State</th>\n",
       "      <th></th>\n",
       "      <th></th>\n",
       "      <th></th>\n",
       "      <th></th>\n",
       "      <th></th>\n",
       "      <th></th>\n",
       "      <th></th>\n",
       "    </tr>\n",
       "  </thead>\n",
       "  <tbody>\n",
       "    <tr>\n",
       "      <th>.Washington</th>\n",
       "      <td>6,724,540</td>\n",
       "      <td>6,724,543</td>\n",
       "      <td>6,741,911</td>\n",
       "      <td>6,822,112</td>\n",
       "      <td>6,896,325</td>\n",
       "      <td>6,973,742</td>\n",
       "      <td>7,061,530</td>\n",
       "    </tr>\n",
       "    <tr>\n",
       "      <th>.West Virginia</th>\n",
       "      <td>1,852,994</td>\n",
       "      <td>1,853,033</td>\n",
       "      <td>1,854,176</td>\n",
       "      <td>1,854,982</td>\n",
       "      <td>1,856,313</td>\n",
       "      <td>1,853,595</td>\n",
       "      <td>1,850,326</td>\n",
       "    </tr>\n",
       "    <tr>\n",
       "      <th>.Wisconsin</th>\n",
       "      <td>5,686,986</td>\n",
       "      <td>5,687,289</td>\n",
       "      <td>5,689,268</td>\n",
       "      <td>5,708,785</td>\n",
       "      <td>5,724,888</td>\n",
       "      <td>5,742,953</td>\n",
       "      <td>5,757,564</td>\n",
       "    </tr>\n",
       "    <tr>\n",
       "      <th>.Wyoming</th>\n",
       "      <td>563,626</td>\n",
       "      <td>563,767</td>\n",
       "      <td>564,358</td>\n",
       "      <td>567,631</td>\n",
       "      <td>576,893</td>\n",
       "      <td>583,223</td>\n",
       "      <td>584,153</td>\n",
       "    </tr>\n",
       "    <tr>\n",
       "      <th>Puerto Rico</th>\n",
       "      <td>3,725,789</td>\n",
       "      <td>3,726,157</td>\n",
       "      <td>3,721,527</td>\n",
       "      <td>3,686,771</td>\n",
       "      <td>3,642,281</td>\n",
       "      <td>3,595,839</td>\n",
       "      <td>3,548,397</td>\n",
       "    </tr>\n",
       "  </tbody>\n",
       "</table>\n",
       "</div>"
      ],
      "text/plain": [
       "                   Census Estimates Base       2010       2011       2012  \\\n",
       "State                                                                       \n",
       ".Washington     6,724,540      6,724,543  6,741,911  6,822,112  6,896,325   \n",
       ".West Virginia  1,852,994      1,853,033  1,854,176  1,854,982  1,856,313   \n",
       ".Wisconsin      5,686,986      5,687,289  5,689,268  5,708,785  5,724,888   \n",
       ".Wyoming          563,626        563,767    564,358    567,631    576,893   \n",
       "Puerto Rico     3,725,789      3,726,157  3,721,527  3,686,771  3,642,281   \n",
       "\n",
       "                     2013       2014  \n",
       "State                                 \n",
       ".Washington     6,973,742  7,061,530  \n",
       ".West Virginia  1,853,595  1,850,326  \n",
       ".Wisconsin      5,742,953  5,757,564  \n",
       ".Wyoming          583,223    584,153  \n",
       "Puerto Rico     3,595,839  3,548,397  "
      ]
     },
     "execution_count": 41,
     "metadata": {},
     "output_type": "execute_result"
    }
   ],
   "source": [
    "pop_data.tail()"
   ]
  },
  {
   "cell_type": "markdown",
   "metadata": {},
   "source": [
    "Say for some random reason we only want to count states not territories, so let's drop Puerto Rico.  Since we're dropping by cell value by row lets make sure we specificy `axis=0`."
   ]
  },
  {
   "cell_type": "code",
   "execution_count": 42,
   "metadata": {
    "collapsed": false
   },
   "outputs": [
    {
     "data": {
      "text/html": [
       "<div>\n",
       "<table border=\"1\" class=\"dataframe\">\n",
       "  <thead>\n",
       "    <tr style=\"text-align: right;\">\n",
       "      <th></th>\n",
       "      <th>Census</th>\n",
       "      <th>Estimates Base</th>\n",
       "      <th>2010</th>\n",
       "      <th>2011</th>\n",
       "      <th>2012</th>\n",
       "      <th>2013</th>\n",
       "      <th>2014</th>\n",
       "    </tr>\n",
       "    <tr>\n",
       "      <th>State</th>\n",
       "      <th></th>\n",
       "      <th></th>\n",
       "      <th></th>\n",
       "      <th></th>\n",
       "      <th></th>\n",
       "      <th></th>\n",
       "      <th></th>\n",
       "    </tr>\n",
       "  </thead>\n",
       "  <tbody>\n",
       "    <tr>\n",
       "      <th>.Virginia</th>\n",
       "      <td>8,001,024</td>\n",
       "      <td>8,001,023</td>\n",
       "      <td>8,025,376</td>\n",
       "      <td>8,110,188</td>\n",
       "      <td>8,193,422</td>\n",
       "      <td>8,270,345</td>\n",
       "      <td>8,326,289</td>\n",
       "    </tr>\n",
       "    <tr>\n",
       "      <th>.Washington</th>\n",
       "      <td>6,724,540</td>\n",
       "      <td>6,724,543</td>\n",
       "      <td>6,741,911</td>\n",
       "      <td>6,822,112</td>\n",
       "      <td>6,896,325</td>\n",
       "      <td>6,973,742</td>\n",
       "      <td>7,061,530</td>\n",
       "    </tr>\n",
       "    <tr>\n",
       "      <th>.West Virginia</th>\n",
       "      <td>1,852,994</td>\n",
       "      <td>1,853,033</td>\n",
       "      <td>1,854,176</td>\n",
       "      <td>1,854,982</td>\n",
       "      <td>1,856,313</td>\n",
       "      <td>1,853,595</td>\n",
       "      <td>1,850,326</td>\n",
       "    </tr>\n",
       "    <tr>\n",
       "      <th>.Wisconsin</th>\n",
       "      <td>5,686,986</td>\n",
       "      <td>5,687,289</td>\n",
       "      <td>5,689,268</td>\n",
       "      <td>5,708,785</td>\n",
       "      <td>5,724,888</td>\n",
       "      <td>5,742,953</td>\n",
       "      <td>5,757,564</td>\n",
       "    </tr>\n",
       "    <tr>\n",
       "      <th>.Wyoming</th>\n",
       "      <td>563,626</td>\n",
       "      <td>563,767</td>\n",
       "      <td>564,358</td>\n",
       "      <td>567,631</td>\n",
       "      <td>576,893</td>\n",
       "      <td>583,223</td>\n",
       "      <td>584,153</td>\n",
       "    </tr>\n",
       "  </tbody>\n",
       "</table>\n",
       "</div>"
      ],
      "text/plain": [
       "                   Census Estimates Base       2010       2011       2012  \\\n",
       "State                                                                       \n",
       ".Virginia       8,001,024      8,001,023  8,025,376  8,110,188  8,193,422   \n",
       ".Washington     6,724,540      6,724,543  6,741,911  6,822,112  6,896,325   \n",
       ".West Virginia  1,852,994      1,853,033  1,854,176  1,854,982  1,856,313   \n",
       ".Wisconsin      5,686,986      5,687,289  5,689,268  5,708,785  5,724,888   \n",
       ".Wyoming          563,626        563,767    564,358    567,631    576,893   \n",
       "\n",
       "                     2013       2014  \n",
       "State                                 \n",
       ".Virginia       8,270,345  8,326,289  \n",
       ".Washington     6,973,742  7,061,530  \n",
       ".West Virginia  1,853,595  1,850,326  \n",
       ".Wisconsin      5,742,953  5,757,564  \n",
       ".Wyoming          583,223    584,153  "
      ]
     },
     "execution_count": 42,
     "metadata": {},
     "output_type": "execute_result"
    }
   ],
   "source": [
    "pop_data.drop(\"Puerto Rico\", axis=0).tail()"
   ]
  },
  {
   "cell_type": "markdown",
   "metadata": {},
   "source": [
    "and if we want to drop an entire column we can drop it by name as long as we specify `axis=1`."
   ]
  },
  {
   "cell_type": "code",
   "execution_count": 43,
   "metadata": {
    "collapsed": false
   },
   "outputs": [
    {
     "data": {
      "text/html": [
       "<div>\n",
       "<table border=\"1\" class=\"dataframe\">\n",
       "  <thead>\n",
       "    <tr style=\"text-align: right;\">\n",
       "      <th></th>\n",
       "      <th>Estimates Base</th>\n",
       "      <th>2010</th>\n",
       "      <th>2011</th>\n",
       "      <th>2012</th>\n",
       "      <th>2013</th>\n",
       "      <th>2014</th>\n",
       "    </tr>\n",
       "    <tr>\n",
       "      <th>State</th>\n",
       "      <th></th>\n",
       "      <th></th>\n",
       "      <th></th>\n",
       "      <th></th>\n",
       "      <th></th>\n",
       "      <th></th>\n",
       "    </tr>\n",
       "  </thead>\n",
       "  <tbody>\n",
       "    <tr>\n",
       "      <th>.Washington</th>\n",
       "      <td>6,724,543</td>\n",
       "      <td>6,741,911</td>\n",
       "      <td>6,822,112</td>\n",
       "      <td>6,896,325</td>\n",
       "      <td>6,973,742</td>\n",
       "      <td>7,061,530</td>\n",
       "    </tr>\n",
       "    <tr>\n",
       "      <th>.West Virginia</th>\n",
       "      <td>1,853,033</td>\n",
       "      <td>1,854,176</td>\n",
       "      <td>1,854,982</td>\n",
       "      <td>1,856,313</td>\n",
       "      <td>1,853,595</td>\n",
       "      <td>1,850,326</td>\n",
       "    </tr>\n",
       "    <tr>\n",
       "      <th>.Wisconsin</th>\n",
       "      <td>5,687,289</td>\n",
       "      <td>5,689,268</td>\n",
       "      <td>5,708,785</td>\n",
       "      <td>5,724,888</td>\n",
       "      <td>5,742,953</td>\n",
       "      <td>5,757,564</td>\n",
       "    </tr>\n",
       "    <tr>\n",
       "      <th>.Wyoming</th>\n",
       "      <td>563,767</td>\n",
       "      <td>564,358</td>\n",
       "      <td>567,631</td>\n",
       "      <td>576,893</td>\n",
       "      <td>583,223</td>\n",
       "      <td>584,153</td>\n",
       "    </tr>\n",
       "    <tr>\n",
       "      <th>Puerto Rico</th>\n",
       "      <td>3,726,157</td>\n",
       "      <td>3,721,527</td>\n",
       "      <td>3,686,771</td>\n",
       "      <td>3,642,281</td>\n",
       "      <td>3,595,839</td>\n",
       "      <td>3,548,397</td>\n",
       "    </tr>\n",
       "  </tbody>\n",
       "</table>\n",
       "</div>"
      ],
      "text/plain": [
       "               Estimates Base       2010       2011       2012       2013  \\\n",
       "State                                                                       \n",
       ".Washington         6,724,543  6,741,911  6,822,112  6,896,325  6,973,742   \n",
       ".West Virginia      1,853,033  1,854,176  1,854,982  1,856,313  1,853,595   \n",
       ".Wisconsin          5,687,289  5,689,268  5,708,785  5,724,888  5,742,953   \n",
       ".Wyoming              563,767    564,358    567,631    576,893    583,223   \n",
       "Puerto Rico         3,726,157  3,721,527  3,686,771  3,642,281  3,595,839   \n",
       "\n",
       "                     2014  \n",
       "State                      \n",
       ".Washington     7,061,530  \n",
       ".West Virginia  1,850,326  \n",
       ".Wisconsin      5,757,564  \n",
       ".Wyoming          584,153  \n",
       "Puerto Rico     3,548,397  "
      ]
     },
     "execution_count": 43,
     "metadata": {},
     "output_type": "execute_result"
    }
   ],
   "source": [
    "pop_data.drop(\"Census\", axis=1).tail()"
   ]
  },
  {
   "cell_type": "markdown",
   "metadata": {},
   "source": [
    "Fortunately we don't really want to remove those pieces of data from our data right now - notice that they are left intact because we didn't reassign the DataFrame returned from the drop to any variable.  It just printed to Ipython notebook and was done."
   ]
  },
  {
   "cell_type": "code",
   "execution_count": 44,
   "metadata": {
    "collapsed": false
   },
   "outputs": [
    {
     "data": {
      "text/html": [
       "<div>\n",
       "<table border=\"1\" class=\"dataframe\">\n",
       "  <thead>\n",
       "    <tr style=\"text-align: right;\">\n",
       "      <th></th>\n",
       "      <th>Census</th>\n",
       "      <th>Estimates Base</th>\n",
       "      <th>2010</th>\n",
       "      <th>2011</th>\n",
       "      <th>2012</th>\n",
       "      <th>2013</th>\n",
       "      <th>2014</th>\n",
       "    </tr>\n",
       "    <tr>\n",
       "      <th>State</th>\n",
       "      <th></th>\n",
       "      <th></th>\n",
       "      <th></th>\n",
       "      <th></th>\n",
       "      <th></th>\n",
       "      <th></th>\n",
       "      <th></th>\n",
       "    </tr>\n",
       "  </thead>\n",
       "  <tbody>\n",
       "    <tr>\n",
       "      <th>.Washington</th>\n",
       "      <td>6,724,540</td>\n",
       "      <td>6,724,543</td>\n",
       "      <td>6,741,911</td>\n",
       "      <td>6,822,112</td>\n",
       "      <td>6,896,325</td>\n",
       "      <td>6,973,742</td>\n",
       "      <td>7,061,530</td>\n",
       "    </tr>\n",
       "    <tr>\n",
       "      <th>.West Virginia</th>\n",
       "      <td>1,852,994</td>\n",
       "      <td>1,853,033</td>\n",
       "      <td>1,854,176</td>\n",
       "      <td>1,854,982</td>\n",
       "      <td>1,856,313</td>\n",
       "      <td>1,853,595</td>\n",
       "      <td>1,850,326</td>\n",
       "    </tr>\n",
       "    <tr>\n",
       "      <th>.Wisconsin</th>\n",
       "      <td>5,686,986</td>\n",
       "      <td>5,687,289</td>\n",
       "      <td>5,689,268</td>\n",
       "      <td>5,708,785</td>\n",
       "      <td>5,724,888</td>\n",
       "      <td>5,742,953</td>\n",
       "      <td>5,757,564</td>\n",
       "    </tr>\n",
       "    <tr>\n",
       "      <th>.Wyoming</th>\n",
       "      <td>563,626</td>\n",
       "      <td>563,767</td>\n",
       "      <td>564,358</td>\n",
       "      <td>567,631</td>\n",
       "      <td>576,893</td>\n",
       "      <td>583,223</td>\n",
       "      <td>584,153</td>\n",
       "    </tr>\n",
       "    <tr>\n",
       "      <th>Puerto Rico</th>\n",
       "      <td>3,725,789</td>\n",
       "      <td>3,726,157</td>\n",
       "      <td>3,721,527</td>\n",
       "      <td>3,686,771</td>\n",
       "      <td>3,642,281</td>\n",
       "      <td>3,595,839</td>\n",
       "      <td>3,548,397</td>\n",
       "    </tr>\n",
       "  </tbody>\n",
       "</table>\n",
       "</div>"
      ],
      "text/plain": [
       "                   Census Estimates Base       2010       2011       2012  \\\n",
       "State                                                                       \n",
       ".Washington     6,724,540      6,724,543  6,741,911  6,822,112  6,896,325   \n",
       ".West Virginia  1,852,994      1,853,033  1,854,176  1,854,982  1,856,313   \n",
       ".Wisconsin      5,686,986      5,687,289  5,689,268  5,708,785  5,724,888   \n",
       ".Wyoming          563,626        563,767    564,358    567,631    576,893   \n",
       "Puerto Rico     3,725,789      3,726,157  3,721,527  3,686,771  3,642,281   \n",
       "\n",
       "                     2013       2014  \n",
       "State                                 \n",
       ".Washington     6,973,742  7,061,530  \n",
       ".West Virginia  1,853,595  1,850,326  \n",
       ".Wisconsin      5,742,953  5,757,564  \n",
       ".Wyoming          583,223    584,153  \n",
       "Puerto Rico     3,595,839  3,548,397  "
      ]
     },
     "execution_count": 44,
     "metadata": {},
     "output_type": "execute_result"
    }
   ],
   "source": [
    "pop_data.tail()"
   ]
  },
  {
   "cell_type": "markdown",
   "metadata": {},
   "source": [
    "Now we need to clean up our row indexes. Those state names are not clean at all!"
   ]
  },
  {
   "cell_type": "code",
   "execution_count": 45,
   "metadata": {
    "collapsed": false
   },
   "outputs": [
    {
     "data": {
      "text/plain": [
       "Index(['United States', 'Northeast', 'Midwest', 'South', 'West', '.Alabama',\n",
       "       '.Alaska', '.Arizona', '.Arkansas', '.California', '.Colorado',\n",
       "       '.Connecticut', '.Delaware', '.District of Columbia', '.Florida',\n",
       "       '.Georgia', '.Hawaii', '.Idaho', '.Illinois', '.Indiana', '.Iowa',\n",
       "       '.Kansas', '.Kentucky', '.Louisiana', '.Maine', '.Maryland',\n",
       "       '.Massachusetts', '.Michigan', '.Minnesota', '.Mississippi',\n",
       "       '.Missouri', '.Montana', '.Nebraska', '.Nevada', '.New Hampshire',\n",
       "       '.New Jersey', '.New Mexico', '.New York', '.North Carolina',\n",
       "       '.North Dakota', '.Ohio', '.Oklahoma', '.Oregon', '.Pennsylvania',\n",
       "       '.Rhode Island', '.South Carolina', '.South Dakota', '.Tennessee',\n",
       "       '.Texas', '.Utah', '.Vermont', '.Virginia', '.Washington',\n",
       "       '.West Virginia', '.Wisconsin', '.Wyoming', 'Puerto Rico'],\n",
       "      dtype='object', name='State')"
      ]
     },
     "execution_count": 45,
     "metadata": {},
     "output_type": "execute_result"
    }
   ],
   "source": [
    "pop_data.index"
   ]
  },
  {
   "cell_type": "markdown",
   "metadata": {},
   "source": [
    "The best way to clean them up is to just use regular expressions to find any string that starts with a `.` and replace that `.` with an empty string."
   ]
  },
  {
   "cell_type": "code",
   "execution_count": 46,
   "metadata": {
    "collapsed": false
   },
   "outputs": [],
   "source": [
    "pop_data.index = pop_data.index.to_series().str.replace(r\"^\\.\", \"\")"
   ]
  },
  {
   "cell_type": "markdown",
   "metadata": {},
   "source": [
    "Let's see how that cleaned it up."
   ]
  },
  {
   "cell_type": "code",
   "execution_count": 47,
   "metadata": {
    "collapsed": false
   },
   "outputs": [
    {
     "data": {
      "text/html": [
       "<div>\n",
       "<table border=\"1\" class=\"dataframe\">\n",
       "  <thead>\n",
       "    <tr style=\"text-align: right;\">\n",
       "      <th></th>\n",
       "      <th>Census</th>\n",
       "      <th>Estimates Base</th>\n",
       "      <th>2010</th>\n",
       "      <th>2011</th>\n",
       "      <th>2012</th>\n",
       "      <th>2013</th>\n",
       "      <th>2014</th>\n",
       "    </tr>\n",
       "    <tr>\n",
       "      <th>State</th>\n",
       "      <th></th>\n",
       "      <th></th>\n",
       "      <th></th>\n",
       "      <th></th>\n",
       "      <th></th>\n",
       "      <th></th>\n",
       "      <th></th>\n",
       "    </tr>\n",
       "  </thead>\n",
       "  <tbody>\n",
       "    <tr>\n",
       "      <th>United States</th>\n",
       "      <td>308,745,538</td>\n",
       "      <td>308,758,105</td>\n",
       "      <td>309,347,057</td>\n",
       "      <td>311,721,632</td>\n",
       "      <td>314,112,078</td>\n",
       "      <td>316,497,531</td>\n",
       "      <td>318,857,056</td>\n",
       "    </tr>\n",
       "    <tr>\n",
       "      <th>Northeast</th>\n",
       "      <td>55,317,240</td>\n",
       "      <td>55,318,348</td>\n",
       "      <td>55,381,690</td>\n",
       "      <td>55,635,670</td>\n",
       "      <td>55,832,038</td>\n",
       "      <td>56,028,220</td>\n",
       "      <td>56,152,333</td>\n",
       "    </tr>\n",
       "    <tr>\n",
       "      <th>Midwest</th>\n",
       "      <td>66,927,001</td>\n",
       "      <td>66,929,898</td>\n",
       "      <td>66,972,390</td>\n",
       "      <td>67,149,657</td>\n",
       "      <td>67,331,458</td>\n",
       "      <td>67,567,871</td>\n",
       "      <td>67,745,108</td>\n",
       "    </tr>\n",
       "    <tr>\n",
       "      <th>South</th>\n",
       "      <td>114,555,744</td>\n",
       "      <td>114,562,951</td>\n",
       "      <td>114,871,231</td>\n",
       "      <td>116,089,908</td>\n",
       "      <td>117,346,322</td>\n",
       "      <td>118,522,802</td>\n",
       "      <td>119,771,934</td>\n",
       "    </tr>\n",
       "    <tr>\n",
       "      <th>West</th>\n",
       "      <td>71,945,553</td>\n",
       "      <td>71,946,908</td>\n",
       "      <td>72,121,746</td>\n",
       "      <td>72,846,397</td>\n",
       "      <td>73,602,260</td>\n",
       "      <td>74,378,638</td>\n",
       "      <td>75,187,681</td>\n",
       "    </tr>\n",
       "    <tr>\n",
       "      <th>Alabama</th>\n",
       "      <td>4,779,736</td>\n",
       "      <td>4,780,127</td>\n",
       "      <td>4,785,822</td>\n",
       "      <td>4,801,695</td>\n",
       "      <td>4,817,484</td>\n",
       "      <td>4,833,996</td>\n",
       "      <td>4,849,377</td>\n",
       "    </tr>\n",
       "    <tr>\n",
       "      <th>Alaska</th>\n",
       "      <td>710,231</td>\n",
       "      <td>710,249</td>\n",
       "      <td>713,856</td>\n",
       "      <td>722,572</td>\n",
       "      <td>731,081</td>\n",
       "      <td>737,259</td>\n",
       "      <td>736,732</td>\n",
       "    </tr>\n",
       "    <tr>\n",
       "      <th>Arizona</th>\n",
       "      <td>6,392,017</td>\n",
       "      <td>6,392,310</td>\n",
       "      <td>6,411,999</td>\n",
       "      <td>6,472,867</td>\n",
       "      <td>6,556,236</td>\n",
       "      <td>6,634,997</td>\n",
       "      <td>6,731,484</td>\n",
       "    </tr>\n",
       "    <tr>\n",
       "      <th>Arkansas</th>\n",
       "      <td>2,915,918</td>\n",
       "      <td>2,915,958</td>\n",
       "      <td>2,922,297</td>\n",
       "      <td>2,938,430</td>\n",
       "      <td>2,949,300</td>\n",
       "      <td>2,958,765</td>\n",
       "      <td>2,966,369</td>\n",
       "    </tr>\n",
       "    <tr>\n",
       "      <th>California</th>\n",
       "      <td>37,253,956</td>\n",
       "      <td>37,254,503</td>\n",
       "      <td>37,336,011</td>\n",
       "      <td>37,701,901</td>\n",
       "      <td>38,062,780</td>\n",
       "      <td>38,431,393</td>\n",
       "      <td>38,802,500</td>\n",
       "    </tr>\n",
       "  </tbody>\n",
       "</table>\n",
       "</div>"
      ],
      "text/plain": [
       "                    Census Estimates Base         2010         2011  \\\n",
       "State                                                                 \n",
       "United States  308,745,538    308,758,105  309,347,057  311,721,632   \n",
       "Northeast       55,317,240     55,318,348   55,381,690   55,635,670   \n",
       "Midwest         66,927,001     66,929,898   66,972,390   67,149,657   \n",
       "South          114,555,744    114,562,951  114,871,231  116,089,908   \n",
       "West            71,945,553     71,946,908   72,121,746   72,846,397   \n",
       "Alabama          4,779,736      4,780,127    4,785,822    4,801,695   \n",
       "Alaska             710,231        710,249      713,856      722,572   \n",
       "Arizona          6,392,017      6,392,310    6,411,999    6,472,867   \n",
       "Arkansas         2,915,918      2,915,958    2,922,297    2,938,430   \n",
       "California      37,253,956     37,254,503   37,336,011   37,701,901   \n",
       "\n",
       "                      2012         2013         2014  \n",
       "State                                                 \n",
       "United States  314,112,078  316,497,531  318,857,056  \n",
       "Northeast       55,832,038   56,028,220   56,152,333  \n",
       "Midwest         67,331,458   67,567,871   67,745,108  \n",
       "South          117,346,322  118,522,802  119,771,934  \n",
       "West            73,602,260   74,378,638   75,187,681  \n",
       "Alabama          4,817,484    4,833,996    4,849,377  \n",
       "Alaska             731,081      737,259      736,732  \n",
       "Arizona          6,556,236    6,634,997    6,731,484  \n",
       "Arkansas         2,949,300    2,958,765    2,966,369  \n",
       "California      38,062,780   38,431,393   38,802,500  "
      ]
     },
     "execution_count": 47,
     "metadata": {},
     "output_type": "execute_result"
    }
   ],
   "source": [
    "pop_data.head(10)"
   ]
  },
  {
   "cell_type": "markdown",
   "metadata": {},
   "source": [
    "Since we only want state information lets drop the regions.  I can do a slice on the DataFrame to only get the 5th+ rows by doing a regular list style slice."
   ]
  },
  {
   "cell_type": "code",
   "execution_count": 48,
   "metadata": {
    "collapsed": false
   },
   "outputs": [],
   "source": [
    "pop_data = pop_data[5:]"
   ]
  },
  {
   "cell_type": "code",
   "execution_count": 49,
   "metadata": {
    "collapsed": false
   },
   "outputs": [
    {
     "data": {
      "text/html": [
       "<div>\n",
       "<table border=\"1\" class=\"dataframe\">\n",
       "  <thead>\n",
       "    <tr style=\"text-align: right;\">\n",
       "      <th></th>\n",
       "      <th>Census</th>\n",
       "      <th>Estimates Base</th>\n",
       "      <th>2010</th>\n",
       "      <th>2011</th>\n",
       "      <th>2012</th>\n",
       "      <th>2013</th>\n",
       "      <th>2014</th>\n",
       "    </tr>\n",
       "    <tr>\n",
       "      <th>State</th>\n",
       "      <th></th>\n",
       "      <th></th>\n",
       "      <th></th>\n",
       "      <th></th>\n",
       "      <th></th>\n",
       "      <th></th>\n",
       "      <th></th>\n",
       "    </tr>\n",
       "  </thead>\n",
       "  <tbody>\n",
       "    <tr>\n",
       "      <th>Alabama</th>\n",
       "      <td>4,779,736</td>\n",
       "      <td>4,780,127</td>\n",
       "      <td>4,785,822</td>\n",
       "      <td>4,801,695</td>\n",
       "      <td>4,817,484</td>\n",
       "      <td>4,833,996</td>\n",
       "      <td>4,849,377</td>\n",
       "    </tr>\n",
       "    <tr>\n",
       "      <th>Alaska</th>\n",
       "      <td>710,231</td>\n",
       "      <td>710,249</td>\n",
       "      <td>713,856</td>\n",
       "      <td>722,572</td>\n",
       "      <td>731,081</td>\n",
       "      <td>737,259</td>\n",
       "      <td>736,732</td>\n",
       "    </tr>\n",
       "    <tr>\n",
       "      <th>Arizona</th>\n",
       "      <td>6,392,017</td>\n",
       "      <td>6,392,310</td>\n",
       "      <td>6,411,999</td>\n",
       "      <td>6,472,867</td>\n",
       "      <td>6,556,236</td>\n",
       "      <td>6,634,997</td>\n",
       "      <td>6,731,484</td>\n",
       "    </tr>\n",
       "    <tr>\n",
       "      <th>Arkansas</th>\n",
       "      <td>2,915,918</td>\n",
       "      <td>2,915,958</td>\n",
       "      <td>2,922,297</td>\n",
       "      <td>2,938,430</td>\n",
       "      <td>2,949,300</td>\n",
       "      <td>2,958,765</td>\n",
       "      <td>2,966,369</td>\n",
       "    </tr>\n",
       "    <tr>\n",
       "      <th>California</th>\n",
       "      <td>37,253,956</td>\n",
       "      <td>37,254,503</td>\n",
       "      <td>37,336,011</td>\n",
       "      <td>37,701,901</td>\n",
       "      <td>38,062,780</td>\n",
       "      <td>38,431,393</td>\n",
       "      <td>38,802,500</td>\n",
       "    </tr>\n",
       "  </tbody>\n",
       "</table>\n",
       "</div>"
      ],
      "text/plain": [
       "                Census Estimates Base        2010        2011        2012  \\\n",
       "State                                                                       \n",
       "Alabama      4,779,736      4,780,127   4,785,822   4,801,695   4,817,484   \n",
       "Alaska         710,231        710,249     713,856     722,572     731,081   \n",
       "Arizona      6,392,017      6,392,310   6,411,999   6,472,867   6,556,236   \n",
       "Arkansas     2,915,918      2,915,958   2,922,297   2,938,430   2,949,300   \n",
       "California  37,253,956     37,254,503  37,336,011  37,701,901  38,062,780   \n",
       "\n",
       "                  2013        2014  \n",
       "State                               \n",
       "Alabama      4,833,996   4,849,377  \n",
       "Alaska         737,259     736,732  \n",
       "Arizona      6,634,997   6,731,484  \n",
       "Arkansas     2,958,765   2,966,369  \n",
       "California  38,431,393  38,802,500  "
      ]
     },
     "execution_count": 49,
     "metadata": {},
     "output_type": "execute_result"
    }
   ],
   "source": [
    "pop_data.head()"
   ]
  },
  {
   "cell_type": "markdown",
   "metadata": {},
   "source": [
    "## Converting Numbers\n",
    "\n",
    "Our next task is going to be converting the numbers to actual python recognized integers. Since these were likely entered by hand the commas were added and that will stand in our way from actually getting real numbers from our data."
   ]
  },
  {
   "cell_type": "code",
   "execution_count": 50,
   "metadata": {
    "collapsed": false
   },
   "outputs": [
    {
     "ename": "ValueError",
     "evalue": "invalid literal for int() with base 10: '1,000'",
     "output_type": "error",
     "traceback": [
      "\u001b[0;31m---------------------------------------------------------------------------\u001b[0m",
      "\u001b[0;31mValueError\u001b[0m                                Traceback (most recent call last)",
      "\u001b[0;32m<ipython-input-50-4f4a78b6998a>\u001b[0m in \u001b[0;36m<module>\u001b[0;34m()\u001b[0m\n\u001b[0;32m----> 1\u001b[0;31m \u001b[0mint\u001b[0m\u001b[0;34m(\u001b[0m\u001b[0;34m\"1,000\"\u001b[0m\u001b[0;34m)\u001b[0m\u001b[0;34m\u001b[0m\u001b[0m\n\u001b[0m",
      "\u001b[0;31mValueError\u001b[0m: invalid literal for int() with base 10: '1,000'"
     ]
    }
   ],
   "source": [
    "int(\"1,000\")"
   ]
  },
  {
   "cell_type": "markdown",
   "metadata": {},
   "source": [
    "Since we can't do math on a string that \"looks\" like a number we need to rip all of the commas out of the dataset.  We can do that with the `locale` module."
   ]
  },
  {
   "cell_type": "code",
   "execution_count": 51,
   "metadata": {
    "collapsed": false
   },
   "outputs": [],
   "source": [
    "import locale"
   ]
  },
  {
   "cell_type": "code",
   "execution_count": null,
   "metadata": {
    "collapsed": false
   },
   "outputs": [],
   "source": [
    "help(locale.atoi)"
   ]
  },
  {
   "cell_type": "markdown",
   "metadata": {},
   "source": [
    "The one piece of configuration will ensure that our numeric category in our python interpreters's locale will be the same as our system locale. Just do this to be safe."
   ]
  },
  {
   "cell_type": "code",
   "execution_count": 52,
   "metadata": {
    "collapsed": false
   },
   "outputs": [
    {
     "data": {
      "text/plain": [
       "1000"
      ]
     },
     "execution_count": 52,
     "metadata": {},
     "output_type": "execute_result"
    }
   ],
   "source": [
    "locale.setlocale(locale.LC_NUMERIC, '')\n",
    "locale.atoi(\"1,000\")"
   ]
  },
  {
   "cell_type": "markdown",
   "metadata": {},
   "source": [
    "Woah that removed the comma!  Lets map the `atoi` function to all of our cells."
   ]
  },
  {
   "cell_type": "code",
   "execution_count": 53,
   "metadata": {
    "collapsed": false
   },
   "outputs": [
    {
     "data": {
      "text/html": [
       "<div>\n",
       "<table border=\"1\" class=\"dataframe\">\n",
       "  <thead>\n",
       "    <tr style=\"text-align: right;\">\n",
       "      <th></th>\n",
       "      <th>Census</th>\n",
       "      <th>Estimates Base</th>\n",
       "      <th>2010</th>\n",
       "      <th>2011</th>\n",
       "      <th>2012</th>\n",
       "      <th>2013</th>\n",
       "      <th>2014</th>\n",
       "    </tr>\n",
       "    <tr>\n",
       "      <th>State</th>\n",
       "      <th></th>\n",
       "      <th></th>\n",
       "      <th></th>\n",
       "      <th></th>\n",
       "      <th></th>\n",
       "      <th></th>\n",
       "      <th></th>\n",
       "    </tr>\n",
       "  </thead>\n",
       "  <tbody>\n",
       "    <tr>\n",
       "      <th>Alabama</th>\n",
       "      <td>4779736</td>\n",
       "      <td>4780127</td>\n",
       "      <td>4785822</td>\n",
       "      <td>4801695</td>\n",
       "      <td>4817484</td>\n",
       "      <td>4833996</td>\n",
       "      <td>4849377</td>\n",
       "    </tr>\n",
       "    <tr>\n",
       "      <th>Alaska</th>\n",
       "      <td>710231</td>\n",
       "      <td>710249</td>\n",
       "      <td>713856</td>\n",
       "      <td>722572</td>\n",
       "      <td>731081</td>\n",
       "      <td>737259</td>\n",
       "      <td>736732</td>\n",
       "    </tr>\n",
       "    <tr>\n",
       "      <th>Arizona</th>\n",
       "      <td>6392017</td>\n",
       "      <td>6392310</td>\n",
       "      <td>6411999</td>\n",
       "      <td>6472867</td>\n",
       "      <td>6556236</td>\n",
       "      <td>6634997</td>\n",
       "      <td>6731484</td>\n",
       "    </tr>\n",
       "    <tr>\n",
       "      <th>Arkansas</th>\n",
       "      <td>2915918</td>\n",
       "      <td>2915958</td>\n",
       "      <td>2922297</td>\n",
       "      <td>2938430</td>\n",
       "      <td>2949300</td>\n",
       "      <td>2958765</td>\n",
       "      <td>2966369</td>\n",
       "    </tr>\n",
       "    <tr>\n",
       "      <th>California</th>\n",
       "      <td>37253956</td>\n",
       "      <td>37254503</td>\n",
       "      <td>37336011</td>\n",
       "      <td>37701901</td>\n",
       "      <td>38062780</td>\n",
       "      <td>38431393</td>\n",
       "      <td>38802500</td>\n",
       "    </tr>\n",
       "  </tbody>\n",
       "</table>\n",
       "</div>"
      ],
      "text/plain": [
       "              Census  Estimates Base      2010      2011      2012      2013  \\\n",
       "State                                                                          \n",
       "Alabama      4779736         4780127   4785822   4801695   4817484   4833996   \n",
       "Alaska        710231          710249    713856    722572    731081    737259   \n",
       "Arizona      6392017         6392310   6411999   6472867   6556236   6634997   \n",
       "Arkansas     2915918         2915958   2922297   2938430   2949300   2958765   \n",
       "California  37253956        37254503  37336011  37701901  38062780  38431393   \n",
       "\n",
       "                2014  \n",
       "State                 \n",
       "Alabama      4849377  \n",
       "Alaska        736732  \n",
       "Arizona      6731484  \n",
       "Arkansas     2966369  \n",
       "California  38802500  "
      ]
     },
     "execution_count": 53,
     "metadata": {},
     "output_type": "execute_result"
    }
   ],
   "source": [
    "pop_data.applymap(locale.atoi).head()"
   ]
  },
  {
   "cell_type": "markdown",
   "metadata": {},
   "source": [
    "That basically took the function `atoi` and ran it against every value in the dataset - and since all of our cells are numeric (don't worry about our indexes) it ran without error.\n",
    "\n",
    "Apply map is awesome!"
   ]
  },
  {
   "cell_type": "code",
   "execution_count": 54,
   "metadata": {
    "collapsed": false
   },
   "outputs": [
    {
     "name": "stdout",
     "output_type": "stream",
     "text": [
      "Help on method applymap in module pandas.core.frame:\n",
      "\n",
      "applymap(func) method of pandas.core.frame.DataFrame instance\n",
      "    Apply a function to a DataFrame that is intended to operate\n",
      "    elementwise, i.e. like doing map(func, series) for each series in the\n",
      "    DataFrame\n",
      "    \n",
      "    Parameters\n",
      "    ----------\n",
      "    func : function\n",
      "        Python function, returns a single value from a single value\n",
      "    \n",
      "    Returns\n",
      "    -------\n",
      "    applied : DataFrame\n",
      "    \n",
      "    See also\n",
      "    --------\n",
      "    DataFrame.apply : For operations on rows/columns\n",
      "\n"
     ]
    }
   ],
   "source": [
    "help(pop_data.applymap)"
   ]
  },
  {
   "cell_type": "markdown",
   "metadata": {},
   "source": [
    "of course remember we need to reassign this DataFrame back to a variable, in our case we can just overwrite our existing DataFrame"
   ]
  },
  {
   "cell_type": "code",
   "execution_count": 55,
   "metadata": {
    "collapsed": false
   },
   "outputs": [],
   "source": [
    "pop_data = pop_data.applymap(locale.atoi)"
   ]
  },
  {
   "cell_type": "code",
   "execution_count": 56,
   "metadata": {
    "collapsed": false
   },
   "outputs": [
    {
     "data": {
      "text/html": [
       "<div>\n",
       "<table border=\"1\" class=\"dataframe\">\n",
       "  <thead>\n",
       "    <tr style=\"text-align: right;\">\n",
       "      <th></th>\n",
       "      <th>Census</th>\n",
       "      <th>Estimates Base</th>\n",
       "      <th>2010</th>\n",
       "      <th>2011</th>\n",
       "      <th>2012</th>\n",
       "      <th>2013</th>\n",
       "      <th>2014</th>\n",
       "    </tr>\n",
       "    <tr>\n",
       "      <th>State</th>\n",
       "      <th></th>\n",
       "      <th></th>\n",
       "      <th></th>\n",
       "      <th></th>\n",
       "      <th></th>\n",
       "      <th></th>\n",
       "      <th></th>\n",
       "    </tr>\n",
       "  </thead>\n",
       "  <tbody>\n",
       "    <tr>\n",
       "      <th>Alabama</th>\n",
       "      <td>4779736</td>\n",
       "      <td>4780127</td>\n",
       "      <td>4785822</td>\n",
       "      <td>4801695</td>\n",
       "      <td>4817484</td>\n",
       "      <td>4833996</td>\n",
       "      <td>4849377</td>\n",
       "    </tr>\n",
       "    <tr>\n",
       "      <th>Alaska</th>\n",
       "      <td>710231</td>\n",
       "      <td>710249</td>\n",
       "      <td>713856</td>\n",
       "      <td>722572</td>\n",
       "      <td>731081</td>\n",
       "      <td>737259</td>\n",
       "      <td>736732</td>\n",
       "    </tr>\n",
       "    <tr>\n",
       "      <th>Arizona</th>\n",
       "      <td>6392017</td>\n",
       "      <td>6392310</td>\n",
       "      <td>6411999</td>\n",
       "      <td>6472867</td>\n",
       "      <td>6556236</td>\n",
       "      <td>6634997</td>\n",
       "      <td>6731484</td>\n",
       "    </tr>\n",
       "    <tr>\n",
       "      <th>Arkansas</th>\n",
       "      <td>2915918</td>\n",
       "      <td>2915958</td>\n",
       "      <td>2922297</td>\n",
       "      <td>2938430</td>\n",
       "      <td>2949300</td>\n",
       "      <td>2958765</td>\n",
       "      <td>2966369</td>\n",
       "    </tr>\n",
       "    <tr>\n",
       "      <th>California</th>\n",
       "      <td>37253956</td>\n",
       "      <td>37254503</td>\n",
       "      <td>37336011</td>\n",
       "      <td>37701901</td>\n",
       "      <td>38062780</td>\n",
       "      <td>38431393</td>\n",
       "      <td>38802500</td>\n",
       "    </tr>\n",
       "  </tbody>\n",
       "</table>\n",
       "</div>"
      ],
      "text/plain": [
       "              Census  Estimates Base      2010      2011      2012      2013  \\\n",
       "State                                                                          \n",
       "Alabama      4779736         4780127   4785822   4801695   4817484   4833996   \n",
       "Alaska        710231          710249    713856    722572    731081    737259   \n",
       "Arizona      6392017         6392310   6411999   6472867   6556236   6634997   \n",
       "Arkansas     2915918         2915958   2922297   2938430   2949300   2958765   \n",
       "California  37253956        37254503  37336011  37701901  38062780  38431393   \n",
       "\n",
       "                2014  \n",
       "State                 \n",
       "Alabama      4849377  \n",
       "Alaska        736732  \n",
       "Arizona      6731484  \n",
       "Arkansas     2966369  \n",
       "California  38802500  "
      ]
     },
     "execution_count": 56,
     "metadata": {},
     "output_type": "execute_result"
    }
   ],
   "source": [
    "pop_data.head()"
   ]
  },
  {
   "cell_type": "markdown",
   "metadata": {
    "collapsed": false
   },
   "source": [
    "What kind of plots can you make with this kind of data?"
   ]
  },
  {
   "cell_type": "code",
   "execution_count": 57,
   "metadata": {
    "collapsed": false
   },
   "outputs": [],
   "source": [
    "from matplotlib.pyplot as plt"
   ]
  },
  {
   "cell_type": "code",
   "execution_count": 58,
   "metadata": {
    "collapsed": true
   },
   "outputs": [],
   "source": [
    "%matplotlib inline"
   ]
  },
  {
   "cell_type": "code",
   "execution_count": 94,
   "metadata": {
    "collapsed": false
   },
   "outputs": [
    {
     "data": {
      "text/plain": [
       "<matplotlib.axes._subplots.AxesSubplot at 0x116b19a58>"
      ]
     },
     "execution_count": 94,
     "metadata": {},
     "output_type": "execute_result"
    },
    {
     "data": {
      "image/png": "[encoded data removed]",
      "text/plain": [
       "<matplotlib.figure.Figure at 0x116e0c6a0>"
      ]
     },
     "metadata": {},
     "output_type": "display_data"
    }
   ],
   "source": [
    "pop_data[[\"2010\", \"2011\"]].loc[[\"Wyoming\", \"Alaska\"]].plot(kind='bar', figsize=(20, 10))"
   ]
  },
  {
   "cell_type": "code",
   "execution_count": 82,
   "metadata": {
    "collapsed": false
   },
   "outputs": [
    {
     "data": {
      "text/html": [
       "<div>\n",
       "<table border=\"1\" class=\"dataframe\">\n",
       "  <thead>\n",
       "    <tr style=\"text-align: right;\">\n",
       "      <th></th>\n",
       "      <th>2010</th>\n",
       "    </tr>\n",
       "    <tr>\n",
       "      <th>State</th>\n",
       "      <th></th>\n",
       "    </tr>\n",
       "  </thead>\n",
       "  <tbody>\n",
       "    <tr>\n",
       "      <th>Alaska</th>\n",
       "      <td>713856</td>\n",
       "    </tr>\n",
       "    <tr>\n",
       "      <th>South Carolina</th>\n",
       "      <td>4636290</td>\n",
       "    </tr>\n",
       "  </tbody>\n",
       "</table>\n",
       "</div>"
      ],
      "text/plain": [
       "                   2010\n",
       "State                  \n",
       "Alaska           713856\n",
       "South Carolina  4636290"
      ]
     },
     "execution_count": 82,
     "metadata": {},
     "output_type": "execute_result"
    }
   ],
   "source": [
    "pop_data[[\"2010\"]].loc[[\"Alaska\", \"South Carolina\"]]"
   ]
  },
  {
   "cell_type": "code",
   "execution_count": 81,
   "metadata": {
    "collapsed": false
   },
   "outputs": [
    {
     "name": "stdout",
     "output_type": "stream",
     "text": [
      "Help on _LocIndexer in module pandas.core.indexing object:\n",
      "\n",
      "class _LocIndexer(_LocationIndexer)\n",
      " |  Purely label-location based indexer for selection by label.\n",
      " |  \n",
      " |  ``.loc[]`` is primarily label based, but may also be used with a\n",
      " |  boolean array.\n",
      " |  \n",
      " |  Allowed inputs are:\n",
      " |  \n",
      " |  - A single label, e.g. ``5`` or ``'a'``, (note that ``5`` is\n",
      " |    interpreted as a *label* of the index, and **never** as an\n",
      " |    integer position along the index).\n",
      " |  - A list or array of labels, e.g. ``['a', 'b', 'c']``.\n",
      " |  - A slice object with labels, e.g. ``'a':'f'`` (note that contrary\n",
      " |    to usual python slices, **both** the start and the stop are included!).\n",
      " |  - A boolean array.\n",
      " |  \n",
      " |  ``.loc`` will raise a ``KeyError`` when the items are not found.\n",
      " |  \n",
      " |  See more at :ref:`Selection by Label <indexing.label>`\n",
      " |  \n",
      " |  Method resolution order:\n",
      " |      _LocIndexer\n",
      " |      _LocationIndexer\n",
      " |      _NDFrameIndexer\n",
      " |      builtins.object\n",
      " |  \n",
      " |  Methods inherited from _LocationIndexer:\n",
      " |  \n",
      " |  __getitem__(self, key)\n",
      " |  \n",
      " |  ----------------------------------------------------------------------\n",
      " |  Methods inherited from _NDFrameIndexer:\n",
      " |  \n",
      " |  __call__(self, *args, **kwargs)\n",
      " |      Call self as a function.\n",
      " |  \n",
      " |  __init__(self, obj, name)\n",
      " |      Initialize self.  See help(type(self)) for accurate signature.\n",
      " |  \n",
      " |  __iter__(self)\n",
      " |  \n",
      " |  __setitem__(self, key, value)\n",
      " |  \n",
      " |  ----------------------------------------------------------------------\n",
      " |  Data descriptors inherited from _NDFrameIndexer:\n",
      " |  \n",
      " |  __dict__\n",
      " |      dictionary for instance variables (if defined)\n",
      " |  \n",
      " |  __weakref__\n",
      " |      list of weak references to the object (if defined)\n",
      "\n"
     ]
    }
   ],
   "source": [
    "help(pop_data[[\"2010\"]].loc)"
   ]
  },
  {
   "cell_type": "code",
   "execution_count": null,
   "metadata": {
    "collapsed": true
   },
   "outputs": [],
   "source": []
  }
 ],
 "metadata": {
  "kernelspec": {
   "display_name": "Python 3",
   "language": "python",
   "name": "python3"
  },
  "language_info": {
   "codemirror_mode": {
    "name": "ipython",
    "version": 3
   },
   "file_extension": ".py",
   "mimetype": "text/x-python",
   "name": "python",
   "nbconvert_exporter": "python",
   "pygments_lexer": "ipython3",
   "version": "3.5.0"
  }
 },
 "nbformat": 4,
 "nbformat_minor": 0
}
