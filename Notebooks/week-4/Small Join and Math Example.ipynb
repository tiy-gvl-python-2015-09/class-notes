{
 "cells": [
  {
   "cell_type": "code",
   "execution_count": 1,
   "metadata": {
    "collapsed": true
   },
   "outputs": [],
   "source": [
    "import pandas as pd"
   ]
  },
  {
   "cell_type": "code",
   "execution_count": 24,
   "metadata": {
    "collapsed": true
   },
   "outputs": [],
   "source": [
    "%matplotlib inline"
   ]
  },
  {
   "cell_type": "code",
   "execution_count": 2,
   "metadata": {
    "collapsed": true
   },
   "outputs": [],
   "source": [
    "user_1 = {\"id\": \"JOEL01\", \"name\": \"joel\", \"hair\": \"blondish\"}\n",
    "user_2 = {\"id\": \"ZACH71\", \"name\": \"Zach\", \"hair\": \"brown\"}\n",
    "user_3 = {\"id\": \"MATT92\", \"name\": \"Matt b.\", \"hair\": \"red\"}\n",
    "user_4 = {\"id\": \"TRAV00\", \"name\": \"Travis\", \"hair\": \"brownish\"}"
   ]
  },
  {
   "cell_type": "code",
   "execution_count": 9,
   "metadata": {
    "collapsed": false
   },
   "outputs": [],
   "source": [
    "user_data = pd.DataFrame([user_1, user_2, user_3, user_4]).set_index([\"id\"])"
   ]
  },
  {
   "cell_type": "code",
   "execution_count": 65,
   "metadata": {
    "collapsed": false
   },
   "outputs": [],
   "source": [
    "zach_foods = {\"mushrooms\": 5, \"avocados\": 0, \"captain crunch\": 5, \"id\": \"ZACH71\"}\n",
    "joel_foods = {\"mushrooms\": 0, \"avocados\": 2, \"captain crunch\": 3, \"id\": \"JOEL01\"}\n",
    "matt_foods = {\"mushrooms\": 2, \"avocados\": 3, \"captain crunch\": 4, \"id\": \"MATT92\"}\n",
    "sarah_foods = {\"mushrooms\": 1, \"avocados\": 5, \"captain crunch\": 0, \"id\": \"SARH00\"}"
   ]
  },
  {
   "cell_type": "code",
   "execution_count": 66,
   "metadata": {
    "collapsed": false
   },
   "outputs": [],
   "source": [
    "user_foods = pd.DataFrame([zach_foods, joel_foods, matt_foods, sarah_foods])"
   ]
  },
  {
   "cell_type": "code",
   "execution_count": 39,
   "metadata": {
    "collapsed": false
   },
   "outputs": [
    {
     "data": {
      "text/html": [
       "<div>\n",
       "<table border=\"1\" class=\"dataframe\">\n",
       "  <thead>\n",
       "    <tr style=\"text-align: right;\">\n",
       "      <th></th>\n",
       "      <th>hair</th>\n",
       "      <th>name</th>\n",
       "    </tr>\n",
       "    <tr>\n",
       "      <th>id</th>\n",
       "      <th></th>\n",
       "      <th></th>\n",
       "    </tr>\n",
       "  </thead>\n",
       "  <tbody>\n",
       "    <tr>\n",
       "      <th>JOEL01</th>\n",
       "      <td>blondish</td>\n",
       "      <td>joel</td>\n",
       "    </tr>\n",
       "    <tr>\n",
       "      <th>ZACH71</th>\n",
       "      <td>brown</td>\n",
       "      <td>Zach</td>\n",
       "    </tr>\n",
       "    <tr>\n",
       "      <th>MATT92</th>\n",
       "      <td>red</td>\n",
       "      <td>Matt b.</td>\n",
       "    </tr>\n",
       "    <tr>\n",
       "      <th>TRAV00</th>\n",
       "      <td>brownish</td>\n",
       "      <td>Travis</td>\n",
       "    </tr>\n",
       "  </tbody>\n",
       "</table>\n",
       "</div>"
      ],
      "text/plain": [
       "            hair     name\n",
       "id                       \n",
       "JOEL01  blondish     joel\n",
       "ZACH71     brown     Zach\n",
       "MATT92       red  Matt b.\n",
       "TRAV00  brownish   Travis"
      ]
     },
     "execution_count": 39,
     "metadata": {},
     "output_type": "execute_result"
    }
   ],
   "source": [
    "user_data"
   ]
  },
  {
   "cell_type": "code",
   "execution_count": 40,
   "metadata": {
    "collapsed": false
   },
   "outputs": [
    {
     "data": {
      "text/html": [
       "<div>\n",
       "<table border=\"1\" class=\"dataframe\">\n",
       "  <thead>\n",
       "    <tr style=\"text-align: right;\">\n",
       "      <th></th>\n",
       "      <th>avocados</th>\n",
       "      <th>captain crunch</th>\n",
       "      <th>id</th>\n",
       "      <th>mushrooms</th>\n",
       "    </tr>\n",
       "  </thead>\n",
       "  <tbody>\n",
       "    <tr>\n",
       "      <th>0</th>\n",
       "      <td>0</td>\n",
       "      <td>1</td>\n",
       "      <td>ZACH71</td>\n",
       "      <td>1</td>\n",
       "    </tr>\n",
       "    <tr>\n",
       "      <th>1</th>\n",
       "      <td>1</td>\n",
       "      <td>1</td>\n",
       "      <td>JOEL01</td>\n",
       "      <td>0</td>\n",
       "    </tr>\n",
       "    <tr>\n",
       "      <th>2</th>\n",
       "      <td>1</td>\n",
       "      <td>1</td>\n",
       "      <td>MATT92</td>\n",
       "      <td>1</td>\n",
       "    </tr>\n",
       "    <tr>\n",
       "      <th>3</th>\n",
       "      <td>1</td>\n",
       "      <td>0</td>\n",
       "      <td>SARH00</td>\n",
       "      <td>1</td>\n",
       "    </tr>\n",
       "  </tbody>\n",
       "</table>\n",
       "</div>"
      ],
      "text/plain": [
       "   avocados  captain crunch      id  mushrooms\n",
       "0         0               1  ZACH71          1\n",
       "1         1               1  JOEL01          0\n",
       "2         1               1  MATT92          1\n",
       "3         1               0  SARH00          1"
      ]
     },
     "execution_count": 40,
     "metadata": {},
     "output_type": "execute_result"
    }
   ],
   "source": [
    "user_foods"
   ]
  },
  {
   "cell_type": "code",
   "execution_count": 19,
   "metadata": {
    "collapsed": false
   },
   "outputs": [],
   "source": [
    "#help(pd.merge)"
   ]
  },
  {
   "cell_type": "code",
   "execution_count": 78,
   "metadata": {
    "collapsed": false
   },
   "outputs": [],
   "source": [
    "joined_df = pd.merge(user_data, user_foods, how=\"outer\", right_on=\"id\", left_index=True).set_index(\"id\")"
   ]
  },
  {
   "cell_type": "code",
   "execution_count": 79,
   "metadata": {
    "collapsed": false
   },
   "outputs": [
    {
     "data": {
      "text/html": [
       "<div>\n",
       "<table border=\"1\" class=\"dataframe\">\n",
       "  <thead>\n",
       "    <tr style=\"text-align: right;\">\n",
       "      <th></th>\n",
       "      <th>hair</th>\n",
       "      <th>name</th>\n",
       "      <th>avocados</th>\n",
       "      <th>captain crunch</th>\n",
       "      <th>mushrooms</th>\n",
       "      <th>picky_val</th>\n",
       "    </tr>\n",
       "    <tr>\n",
       "      <th>id</th>\n",
       "      <th></th>\n",
       "      <th></th>\n",
       "      <th></th>\n",
       "      <th></th>\n",
       "      <th></th>\n",
       "      <th></th>\n",
       "    </tr>\n",
       "  </thead>\n",
       "  <tbody>\n",
       "    <tr>\n",
       "      <th>JOEL01</th>\n",
       "      <td>blondish</td>\n",
       "      <td>joel</td>\n",
       "      <td>2</td>\n",
       "      <td>3</td>\n",
       "      <td>0</td>\n",
       "      <td>1.666667</td>\n",
       "    </tr>\n",
       "    <tr>\n",
       "      <th>ZACH71</th>\n",
       "      <td>brown</td>\n",
       "      <td>Zach</td>\n",
       "      <td>0</td>\n",
       "      <td>5</td>\n",
       "      <td>5</td>\n",
       "      <td>4.000000</td>\n",
       "    </tr>\n",
       "    <tr>\n",
       "      <th>MATT92</th>\n",
       "      <td>red</td>\n",
       "      <td>Matt b.</td>\n",
       "      <td>3</td>\n",
       "      <td>4</td>\n",
       "      <td>2</td>\n",
       "      <td>3.266667</td>\n",
       "    </tr>\n",
       "    <tr>\n",
       "      <th>TRAV00</th>\n",
       "      <td>brownish</td>\n",
       "      <td>Travis</td>\n",
       "      <td>NaN</td>\n",
       "      <td>NaN</td>\n",
       "      <td>NaN</td>\n",
       "      <td>NaN</td>\n",
       "    </tr>\n",
       "    <tr>\n",
       "      <th>SARH00</th>\n",
       "      <td>NaN</td>\n",
       "      <td>NaN</td>\n",
       "      <td>5</td>\n",
       "      <td>0</td>\n",
       "      <td>1</td>\n",
       "      <td>2.133333</td>\n",
       "    </tr>\n",
       "  </tbody>\n",
       "</table>\n",
       "</div>"
      ],
      "text/plain": [
       "            hair     name  avocados  captain crunch  mushrooms  picky_val\n",
       "id                                                                       \n",
       "JOEL01  blondish     joel         2               3          0   1.666667\n",
       "ZACH71     brown     Zach         0               5          5   4.000000\n",
       "MATT92       red  Matt b.         3               4          2   3.266667\n",
       "TRAV00  brownish   Travis       NaN             NaN        NaN        NaN\n",
       "SARH00       NaN      NaN         5               0          1   2.133333"
      ]
     },
     "execution_count": 79,
     "metadata": {},
     "output_type": "execute_result"
    }
   ],
   "source": [
    "joined_df"
   ]
  },
  {
   "cell_type": "code",
   "execution_count": 48,
   "metadata": {
    "collapsed": false
   },
   "outputs": [],
   "source": [
    "indexed_foods = user_foods.set_index(\"id\")"
   ]
  },
  {
   "cell_type": "code",
   "execution_count": 49,
   "metadata": {
    "collapsed": false
   },
   "outputs": [
    {
     "data": {
      "text/html": [
       "<div>\n",
       "<table border=\"1\" class=\"dataframe\">\n",
       "  <thead>\n",
       "    <tr style=\"text-align: right;\">\n",
       "      <th></th>\n",
       "      <th>avocados</th>\n",
       "      <th>captain crunch</th>\n",
       "      <th>mushrooms</th>\n",
       "    </tr>\n",
       "    <tr>\n",
       "      <th>id</th>\n",
       "      <th></th>\n",
       "      <th></th>\n",
       "      <th></th>\n",
       "    </tr>\n",
       "  </thead>\n",
       "  <tbody>\n",
       "    <tr>\n",
       "      <th>ZACH71</th>\n",
       "      <td>0</td>\n",
       "      <td>1</td>\n",
       "      <td>1</td>\n",
       "    </tr>\n",
       "    <tr>\n",
       "      <th>JOEL01</th>\n",
       "      <td>1</td>\n",
       "      <td>1</td>\n",
       "      <td>0</td>\n",
       "    </tr>\n",
       "    <tr>\n",
       "      <th>MATT92</th>\n",
       "      <td>1</td>\n",
       "      <td>1</td>\n",
       "      <td>1</td>\n",
       "    </tr>\n",
       "    <tr>\n",
       "      <th>SARH00</th>\n",
       "      <td>1</td>\n",
       "      <td>0</td>\n",
       "      <td>1</td>\n",
       "    </tr>\n",
       "  </tbody>\n",
       "</table>\n",
       "</div>"
      ],
      "text/plain": [
       "        avocados  captain crunch  mushrooms\n",
       "id                                         \n",
       "ZACH71         0               1          1\n",
       "JOEL01         1               1          0\n",
       "MATT92         1               1          1\n",
       "SARH00         1               0          1"
      ]
     },
     "execution_count": 49,
     "metadata": {},
     "output_type": "execute_result"
    }
   ],
   "source": [
    "indexed_foods"
   ]
  },
  {
   "cell_type": "code",
   "execution_count": 50,
   "metadata": {
    "collapsed": false
   },
   "outputs": [
    {
     "data": {
      "text/html": [
       "<div>\n",
       "<table border=\"1\" class=\"dataframe\">\n",
       "  <thead>\n",
       "    <tr style=\"text-align: right;\">\n",
       "      <th></th>\n",
       "      <th>hair</th>\n",
       "      <th>name</th>\n",
       "    </tr>\n",
       "    <tr>\n",
       "      <th>id</th>\n",
       "      <th></th>\n",
       "      <th></th>\n",
       "    </tr>\n",
       "  </thead>\n",
       "  <tbody>\n",
       "    <tr>\n",
       "      <th>JOEL01</th>\n",
       "      <td>blondish</td>\n",
       "      <td>joel</td>\n",
       "    </tr>\n",
       "    <tr>\n",
       "      <th>ZACH71</th>\n",
       "      <td>brown</td>\n",
       "      <td>Zach</td>\n",
       "    </tr>\n",
       "    <tr>\n",
       "      <th>MATT92</th>\n",
       "      <td>red</td>\n",
       "      <td>Matt b.</td>\n",
       "    </tr>\n",
       "    <tr>\n",
       "      <th>TRAV00</th>\n",
       "      <td>brownish</td>\n",
       "      <td>Travis</td>\n",
       "    </tr>\n",
       "  </tbody>\n",
       "</table>\n",
       "</div>"
      ],
      "text/plain": [
       "            hair     name\n",
       "id                       \n",
       "JOEL01  blondish     joel\n",
       "ZACH71     brown     Zach\n",
       "MATT92       red  Matt b.\n",
       "TRAV00  brownish   Travis"
      ]
     },
     "execution_count": 50,
     "metadata": {},
     "output_type": "execute_result"
    }
   ],
   "source": [
    "user_data"
   ]
  },
  {
   "cell_type": "code",
   "execution_count": 52,
   "metadata": {
    "collapsed": false
   },
   "outputs": [
    {
     "data": {
      "text/html": [
       "<div>\n",
       "<table border=\"1\" class=\"dataframe\">\n",
       "  <thead>\n",
       "    <tr style=\"text-align: right;\">\n",
       "      <th></th>\n",
       "      <th>hair</th>\n",
       "      <th>name</th>\n",
       "      <th>avocados</th>\n",
       "      <th>captain crunch</th>\n",
       "      <th>mushrooms</th>\n",
       "    </tr>\n",
       "    <tr>\n",
       "      <th>id</th>\n",
       "      <th></th>\n",
       "      <th></th>\n",
       "      <th></th>\n",
       "      <th></th>\n",
       "      <th></th>\n",
       "    </tr>\n",
       "  </thead>\n",
       "  <tbody>\n",
       "    <tr>\n",
       "      <th>ZACH71</th>\n",
       "      <td>brown</td>\n",
       "      <td>Zach</td>\n",
       "      <td>0</td>\n",
       "      <td>1</td>\n",
       "      <td>1</td>\n",
       "    </tr>\n",
       "    <tr>\n",
       "      <th>JOEL01</th>\n",
       "      <td>blondish</td>\n",
       "      <td>joel</td>\n",
       "      <td>1</td>\n",
       "      <td>1</td>\n",
       "      <td>0</td>\n",
       "    </tr>\n",
       "    <tr>\n",
       "      <th>MATT92</th>\n",
       "      <td>red</td>\n",
       "      <td>Matt b.</td>\n",
       "      <td>1</td>\n",
       "      <td>1</td>\n",
       "      <td>1</td>\n",
       "    </tr>\n",
       "  </tbody>\n",
       "</table>\n",
       "</div>"
      ],
      "text/plain": [
       "            hair     name  avocados  captain crunch  mushrooms\n",
       "id                                                            \n",
       "ZACH71     brown     Zach         0               1          1\n",
       "JOEL01  blondish     joel         1               1          0\n",
       "MATT92       red  Matt b.         1               1          1"
      ]
     },
     "execution_count": 52,
     "metadata": {},
     "output_type": "execute_result"
    }
   ],
   "source": [
    "pd.merge(user_data, indexed_foods, left_index=True, right_index=True)"
   ]
  },
  {
   "cell_type": "code",
   "execution_count": 57,
   "metadata": {
    "collapsed": false
   },
   "outputs": [
    {
     "data": {
      "text/html": [
       "<div>\n",
       "<table border=\"1\" class=\"dataframe\">\n",
       "  <thead>\n",
       "    <tr style=\"text-align: right;\">\n",
       "      <th></th>\n",
       "      <th>hair</th>\n",
       "      <th>name</th>\n",
       "      <th>avocados</th>\n",
       "      <th>captain crunch</th>\n",
       "      <th>mushrooms</th>\n",
       "    </tr>\n",
       "    <tr>\n",
       "      <th>id</th>\n",
       "      <th></th>\n",
       "      <th></th>\n",
       "      <th></th>\n",
       "      <th></th>\n",
       "      <th></th>\n",
       "    </tr>\n",
       "  </thead>\n",
       "  <tbody>\n",
       "    <tr>\n",
       "      <th>JOEL01</th>\n",
       "      <td>blondish</td>\n",
       "      <td>joel</td>\n",
       "      <td>1</td>\n",
       "      <td>1</td>\n",
       "      <td>0</td>\n",
       "    </tr>\n",
       "    <tr>\n",
       "      <th>ZACH71</th>\n",
       "      <td>brown</td>\n",
       "      <td>Zach</td>\n",
       "      <td>0</td>\n",
       "      <td>1</td>\n",
       "      <td>1</td>\n",
       "    </tr>\n",
       "    <tr>\n",
       "      <th>MATT92</th>\n",
       "      <td>red</td>\n",
       "      <td>Matt b.</td>\n",
       "      <td>1</td>\n",
       "      <td>1</td>\n",
       "      <td>1</td>\n",
       "    </tr>\n",
       "    <tr>\n",
       "      <th>TRAV00</th>\n",
       "      <td>brownish</td>\n",
       "      <td>Travis</td>\n",
       "      <td>NaN</td>\n",
       "      <td>NaN</td>\n",
       "      <td>NaN</td>\n",
       "    </tr>\n",
       "  </tbody>\n",
       "</table>\n",
       "</div>"
      ],
      "text/plain": [
       "            hair     name  avocados  captain crunch  mushrooms\n",
       "id                                                            \n",
       "JOEL01  blondish     joel         1               1          0\n",
       "ZACH71     brown     Zach         0               1          1\n",
       "MATT92       red  Matt b.         1               1          1\n",
       "TRAV00  brownish   Travis       NaN             NaN        NaN"
      ]
     },
     "execution_count": 57,
     "metadata": {},
     "output_type": "execute_result"
    }
   ],
   "source": [
    "user_data.join(indexed_foods)"
   ]
  },
  {
   "cell_type": "code",
   "execution_count": 58,
   "metadata": {
    "collapsed": false
   },
   "outputs": [
    {
     "data": {
      "text/html": [
       "<div>\n",
       "<table border=\"1\" class=\"dataframe\">\n",
       "  <thead>\n",
       "    <tr style=\"text-align: right;\">\n",
       "      <th></th>\n",
       "      <th>avocados</th>\n",
       "      <th>captain crunch</th>\n",
       "      <th>mushrooms</th>\n",
       "      <th>hair</th>\n",
       "      <th>name</th>\n",
       "    </tr>\n",
       "    <tr>\n",
       "      <th>id</th>\n",
       "      <th></th>\n",
       "      <th></th>\n",
       "      <th></th>\n",
       "      <th></th>\n",
       "      <th></th>\n",
       "    </tr>\n",
       "  </thead>\n",
       "  <tbody>\n",
       "    <tr>\n",
       "      <th>ZACH71</th>\n",
       "      <td>0</td>\n",
       "      <td>1</td>\n",
       "      <td>1</td>\n",
       "      <td>brown</td>\n",
       "      <td>Zach</td>\n",
       "    </tr>\n",
       "    <tr>\n",
       "      <th>JOEL01</th>\n",
       "      <td>1</td>\n",
       "      <td>1</td>\n",
       "      <td>0</td>\n",
       "      <td>blondish</td>\n",
       "      <td>joel</td>\n",
       "    </tr>\n",
       "    <tr>\n",
       "      <th>MATT92</th>\n",
       "      <td>1</td>\n",
       "      <td>1</td>\n",
       "      <td>1</td>\n",
       "      <td>red</td>\n",
       "      <td>Matt b.</td>\n",
       "    </tr>\n",
       "    <tr>\n",
       "      <th>SARH00</th>\n",
       "      <td>1</td>\n",
       "      <td>0</td>\n",
       "      <td>1</td>\n",
       "      <td>NaN</td>\n",
       "      <td>NaN</td>\n",
       "    </tr>\n",
       "  </tbody>\n",
       "</table>\n",
       "</div>"
      ],
      "text/plain": [
       "        avocados  captain crunch  mushrooms      hair     name\n",
       "id                                                            \n",
       "ZACH71         0               1          1     brown     Zach\n",
       "JOEL01         1               1          0  blondish     joel\n",
       "MATT92         1               1          1       red  Matt b.\n",
       "SARH00         1               0          1       NaN      NaN"
      ]
     },
     "execution_count": 58,
     "metadata": {},
     "output_type": "execute_result"
    }
   ],
   "source": [
    "indexed_foods.join(user_data)"
   ]
  },
  {
   "cell_type": "code",
   "execution_count": 64,
   "metadata": {
    "collapsed": false
   },
   "outputs": [
    {
     "data": {
      "text/html": [
       "<div>\n",
       "<table border=\"1\" class=\"dataframe\">\n",
       "  <thead>\n",
       "    <tr style=\"text-align: right;\">\n",
       "      <th></th>\n",
       "      <th>avocados</th>\n",
       "      <th>captain crunch</th>\n",
       "      <th>id</th>\n",
       "      <th>mushrooms</th>\n",
       "      <th>hair</th>\n",
       "      <th>name</th>\n",
       "    </tr>\n",
       "  </thead>\n",
       "  <tbody>\n",
       "    <tr>\n",
       "      <th>0</th>\n",
       "      <td>0</td>\n",
       "      <td>1</td>\n",
       "      <td>ZACH71</td>\n",
       "      <td>1</td>\n",
       "      <td>brown</td>\n",
       "      <td>Zach</td>\n",
       "    </tr>\n",
       "    <tr>\n",
       "      <th>1</th>\n",
       "      <td>1</td>\n",
       "      <td>1</td>\n",
       "      <td>JOEL01</td>\n",
       "      <td>0</td>\n",
       "      <td>blondish</td>\n",
       "      <td>joel</td>\n",
       "    </tr>\n",
       "    <tr>\n",
       "      <th>2</th>\n",
       "      <td>1</td>\n",
       "      <td>1</td>\n",
       "      <td>MATT92</td>\n",
       "      <td>1</td>\n",
       "      <td>red</td>\n",
       "      <td>Matt b.</td>\n",
       "    </tr>\n",
       "    <tr>\n",
       "      <th>3</th>\n",
       "      <td>1</td>\n",
       "      <td>0</td>\n",
       "      <td>SARH00</td>\n",
       "      <td>1</td>\n",
       "      <td>NaN</td>\n",
       "      <td>NaN</td>\n",
       "    </tr>\n",
       "  </tbody>\n",
       "</table>\n",
       "</div>"
      ],
      "text/plain": [
       "   avocados  captain crunch      id  mushrooms      hair     name\n",
       "0         0               1  ZACH71          1     brown     Zach\n",
       "1         1               1  JOEL01          0  blondish     joel\n",
       "2         1               1  MATT92          1       red  Matt b.\n",
       "3         1               0  SARH00          1       NaN      NaN"
      ]
     },
     "execution_count": 64,
     "metadata": {},
     "output_type": "execute_result"
    }
   ],
   "source": [
    "user_foods.join(user_data, on=\"id\")"
   ]
  },
  {
   "cell_type": "code",
   "execution_count": 62,
   "metadata": {
    "collapsed": false
   },
   "outputs": [
    {
     "name": "stdout",
     "output_type": "stream",
     "text": [
      "Help on method join in module pandas.core.frame:\n",
      "\n",
      "join(other, on=None, how='left', lsuffix='', rsuffix='', sort=False) method of pandas.core.frame.DataFrame instance\n",
      "    Join columns with other DataFrame either on index or on a key\n",
      "    column. Efficiently Join multiple DataFrame objects by index at once by\n",
      "    passing a list.\n",
      "    \n",
      "    Parameters\n",
      "    ----------\n",
      "    other : DataFrame, Series with name field set, or list of DataFrame\n",
      "        Index should be similar to one of the columns in this one. If a\n",
      "        Series is passed, its name attribute must be set, and that will be\n",
      "        used as the column name in the resulting joined DataFrame\n",
      "    on : column name, tuple/list of column names, or array-like\n",
      "        Column(s) to use for joining, otherwise join on index. If multiples\n",
      "        columns given, the passed DataFrame must have a MultiIndex. Can\n",
      "        pass an array as the join key if not already contained in the\n",
      "        calling DataFrame. Like an Excel VLOOKUP operation\n",
      "    how : {'left', 'right', 'outer', 'inner'}\n",
      "        How to handle indexes of the two objects. Default: 'left'\n",
      "        for joining on index, None otherwise\n",
      "    \n",
      "        * left: use calling frame's index\n",
      "        * right: use input frame's index\n",
      "        * outer: form union of indexes\n",
      "        * inner: use intersection of indexes\n",
      "    lsuffix : string\n",
      "        Suffix to use from left frame's overlapping columns\n",
      "    rsuffix : string\n",
      "        Suffix to use from right frame's overlapping columns\n",
      "    sort : boolean, default False\n",
      "        Order result DataFrame lexicographically by the join key. If False,\n",
      "        preserves the index order of the calling (left) DataFrame\n",
      "    \n",
      "    Notes\n",
      "    -----\n",
      "    on, lsuffix, and rsuffix options are not supported when passing a list\n",
      "    of DataFrame objects\n",
      "    \n",
      "    Returns\n",
      "    -------\n",
      "    joined : DataFrame\n",
      "\n"
     ]
    }
   ],
   "source": [
    "help(user_data.join)"
   ]
  },
  {
   "cell_type": "code",
   "execution_count": null,
   "metadata": {
    "collapsed": true
   },
   "outputs": [],
   "source": []
  },
  {
   "cell_type": "code",
   "execution_count": 67,
   "metadata": {
    "collapsed": false
   },
   "outputs": [
    {
     "data": {
      "text/html": [
       "<div>\n",
       "<table border=\"1\" class=\"dataframe\">\n",
       "  <thead>\n",
       "    <tr style=\"text-align: right;\">\n",
       "      <th></th>\n",
       "      <th>avocados</th>\n",
       "      <th>captain crunch</th>\n",
       "      <th>id</th>\n",
       "      <th>mushrooms</th>\n",
       "    </tr>\n",
       "  </thead>\n",
       "  <tbody>\n",
       "    <tr>\n",
       "      <th>0</th>\n",
       "      <td>0</td>\n",
       "      <td>5</td>\n",
       "      <td>ZACH71</td>\n",
       "      <td>5</td>\n",
       "    </tr>\n",
       "    <tr>\n",
       "      <th>1</th>\n",
       "      <td>2</td>\n",
       "      <td>3</td>\n",
       "      <td>JOEL01</td>\n",
       "      <td>0</td>\n",
       "    </tr>\n",
       "    <tr>\n",
       "      <th>2</th>\n",
       "      <td>3</td>\n",
       "      <td>4</td>\n",
       "      <td>MATT92</td>\n",
       "      <td>2</td>\n",
       "    </tr>\n",
       "    <tr>\n",
       "      <th>3</th>\n",
       "      <td>5</td>\n",
       "      <td>0</td>\n",
       "      <td>SARH00</td>\n",
       "      <td>1</td>\n",
       "    </tr>\n",
       "  </tbody>\n",
       "</table>\n",
       "</div>"
      ],
      "text/plain": [
       "   avocados  captain crunch      id  mushrooms\n",
       "0         0               5  ZACH71          5\n",
       "1         2               3  JOEL01          0\n",
       "2         3               4  MATT92          2\n",
       "3         5               0  SARH00          1"
      ]
     },
     "execution_count": 67,
     "metadata": {},
     "output_type": "execute_result"
    }
   ],
   "source": [
    "user_foods"
   ]
  },
  {
   "cell_type": "code",
   "execution_count": 74,
   "metadata": {
    "collapsed": true
   },
   "outputs": [],
   "source": [
    "user_foods[\"picky_val\"] = (user_foods.avocados + user_foods['captain crunch'] + (user_foods.mushrooms * 1.4)) / 3"
   ]
  },
  {
   "cell_type": "code",
   "execution_count": 75,
   "metadata": {
    "collapsed": false
   },
   "outputs": [
    {
     "data": {
      "text/html": [
       "<div>\n",
       "<table border=\"1\" class=\"dataframe\">\n",
       "  <thead>\n",
       "    <tr style=\"text-align: right;\">\n",
       "      <th></th>\n",
       "      <th>avocados</th>\n",
       "      <th>captain crunch</th>\n",
       "      <th>id</th>\n",
       "      <th>mushrooms</th>\n",
       "      <th>picky_val</th>\n",
       "    </tr>\n",
       "  </thead>\n",
       "  <tbody>\n",
       "    <tr>\n",
       "      <th>0</th>\n",
       "      <td>0</td>\n",
       "      <td>5</td>\n",
       "      <td>ZACH71</td>\n",
       "      <td>5</td>\n",
       "      <td>4.000000</td>\n",
       "    </tr>\n",
       "    <tr>\n",
       "      <th>1</th>\n",
       "      <td>2</td>\n",
       "      <td>3</td>\n",
       "      <td>JOEL01</td>\n",
       "      <td>0</td>\n",
       "      <td>1.666667</td>\n",
       "    </tr>\n",
       "    <tr>\n",
       "      <th>2</th>\n",
       "      <td>3</td>\n",
       "      <td>4</td>\n",
       "      <td>MATT92</td>\n",
       "      <td>2</td>\n",
       "      <td>3.266667</td>\n",
       "    </tr>\n",
       "    <tr>\n",
       "      <th>3</th>\n",
       "      <td>5</td>\n",
       "      <td>0</td>\n",
       "      <td>SARH00</td>\n",
       "      <td>1</td>\n",
       "      <td>2.133333</td>\n",
       "    </tr>\n",
       "  </tbody>\n",
       "</table>\n",
       "</div>"
      ],
      "text/plain": [
       "   avocados  captain crunch      id  mushrooms  picky_val\n",
       "0         0               5  ZACH71          5   4.000000\n",
       "1         2               3  JOEL01          0   1.666667\n",
       "2         3               4  MATT92          2   3.266667\n",
       "3         5               0  SARH00          1   2.133333"
      ]
     },
     "execution_count": 75,
     "metadata": {},
     "output_type": "execute_result"
    }
   ],
   "source": [
    "user_foods"
   ]
  },
  {
   "cell_type": "code",
   "execution_count": null,
   "metadata": {
    "collapsed": true
   },
   "outputs": [],
   "source": []
  }
 ],
 "metadata": {
  "kernelspec": {
   "display_name": "Python 3",
   "language": "python",
   "name": "python3"
  },
  "language_info": {
   "codemirror_mode": {
    "name": "ipython",
    "version": 3
   },
   "file_extension": ".py",
   "mimetype": "text/x-python",
   "name": "python",
   "nbconvert_exporter": "python",
   "pygments_lexer": "ipython3",
   "version": "3.5.0"
  }
 },
 "nbformat": 4,
 "nbformat_minor": 0
}
