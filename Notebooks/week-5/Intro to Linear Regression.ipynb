{
 "cells": [
  {
   "cell_type": "code",
   "execution_count": 2,
   "metadata": {
    "collapsed": false
   },
   "outputs": [
    {
     "name": "stderr",
     "output_type": "stream",
     "text": [
      "/Users/taddeimania/python-curriculum/.direnv/python-3.5.0/lib/python3.5/site-packages/sklearn/utils/fixes.py:64: DeprecationWarning: inspect.getargspec() is deprecated, use inspect.signature() instead\n",
      "  if 'order' in inspect.getargspec(np.copy)[0]:\n"
     ]
    }
   ],
   "source": [
    "import pandas as pd\n",
    "import matplotlib.pyplot as plt\n",
    "import numpy as np\n",
    "import seaborn as sns\n",
    "from sklearn import linear_model\n",
    "sns.set_style(\"whitegrid\")"
   ]
  },
  {
   "cell_type": "code",
   "execution_count": 3,
   "metadata": {
    "collapsed": true
   },
   "outputs": [],
   "source": [
    "%matplotlib inline"
   ]
  },
  {
   "cell_type": "markdown",
   "metadata": {},
   "source": [
    "Before we get started on learning about Linear Regression let's load in our ATUS data so we've got a starting point."
   ]
  },
  {
   "cell_type": "code",
   "execution_count": 4,
   "metadata": {
    "collapsed": false
   },
   "outputs": [
    {
     "name": "stdout",
     "output_type": "stream",
     "text": [
      "<class 'pandas.core.frame.DataFrame'>\n",
      "Int64Index: 11385 entries, 0 to 11384\n",
      "Columns: 413 entries, tucaseid to t500107\n",
      "dtypes: float64(1), int64(412)\n",
      "memory usage: 36.0 MB\n"
     ]
    }
   ],
   "source": [
    "summary = pd.read_csv(\"atussum_2013.dat\")\n",
    "summary.info()"
   ]
  },
  {
   "cell_type": "markdown",
   "metadata": {},
   "source": [
    "Here is a handy function to give us back a `dataFrame` containing ages with mean minutes for any given category."
   ]
  },
  {
   "cell_type": "code",
   "execution_count": 5,
   "metadata": {
    "collapsed": true
   },
   "outputs": [],
   "source": [
    "def activity_by_age(df, activity_code, subsample=True):\n",
    "    activity_col = \"t{}\".format(activity_code)\n",
    "    df = df[['TUFINLWGT', 'TEAGE', activity_col]]\n",
    "    df = df.rename(columns={\"TUFINLWGT\": \"weight\", \"TEAGE\": \"age\", activity_col: \"minutes\"})\n",
    "    if subsample:\n",
    "        df = df[df.age % 5 == 0]\n",
    "    df['weighted_minutes'] = df.weight * df.minutes\n",
    "    df = df.groupby(\"age\").sum()\n",
    "    df['mean_minutes'] = df.weighted_minutes / df.weight\n",
    "    df = df[['mean_minutes']]\n",
    "    return df"
   ]
  },
  {
   "cell_type": "markdown",
   "metadata": {},
   "source": [
    "Lets get a `dataFrame` from our summary containing \"Medical Care\" data.\n",
    "\n",
    "The code for Medical Care is `080401`.\n",
    "\n",
    "Also do a scatter plot with the `medical_care.index` as the x, and the `medical_care.mean_minutes` as the y.\n",
    "\n",
    "<!---\n",
    "medical_care = activity_by_age(summary, \"080401\", subsample=False)\n",
    "plt.scatter(medical_care.index, medical_care.mean_minutes)\n",
    "--->"
   ]
  },
  {
   "cell_type": "code",
   "execution_count": 54,
   "metadata": {
    "collapsed": false
   },
   "outputs": [],
   "source": [
    "summary = summary[summary.TEAGE <= 50]"
   ]
  },
  {
   "cell_type": "code",
   "execution_count": 55,
   "metadata": {
    "collapsed": false
   },
   "outputs": [
    {
     "data": {
      "text/plain": [
       "<matplotlib.collections.PathCollection at 0x10ccf3668>"
      ]
     },
     "execution_count": 55,
     "metadata": {},
     "output_type": "execute_result"
    },
    {
     "data": {
      "image/png": "[encoded data removed]",
      "text/plain": [
       "<matplotlib.figure.Figure at 0x10ce0a2e8>"
      ]
     },
     "metadata": {},
     "output_type": "display_data"
    }
   ],
   "source": [
    "medical_care = activity_by_age(summary, \"080401\")\n",
    "plt.scatter(medical_care.index, medical_care.mean_minutes)"
   ]
  },
  {
   "cell_type": "markdown",
   "metadata": {
    "collapsed": false
   },
   "source": [
    "## Linear Regression\n",
    "\n",
    "Linear regression is a way of modeling a relationship between two features in a way that given 2 variables, 1 known, and 1 unknown we can give a close approximation of what our unknown value may equate to.\n",
    "\n",
    "Or as wikipedia says:\n",
    "> In linear regression, data are modeled using linear predictor functions, and unknown model parameters are estimated from the data \n",
    "\n",
    "Without getting too in depth with how to calculate the predictor function (our line) our goal is going to be to get the minimum (closest to the mean) of our data along an axis.  If our prediction is too aggressive (steep) we will not get an accurate function.  If our prediction is too conservative (shallow) we will also not get an accurate function.  You ultimately want your line to visibly bisect your distribution of data."
   ]
  },
  {
   "cell_type": "markdown",
   "metadata": {},
   "source": [
    "The function below will apply a regression function across a dataframe and square the differences in each cell from the mean.  Finally it will divide the sum of differences by 2 times the amount of differences we find."
   ]
  },
  {
   "cell_type": "code",
   "execution_count": 56,
   "metadata": {
    "collapsed": true
   },
   "outputs": [],
   "source": [
    "def linear_least_squares(df, fn):\n",
    "    values = df.index.map(fn)\n",
    "    diffs = df.mean_minutes - values\n",
    "    diffs_squared = diffs ** 2\n",
    "    return diffs_squared.sum() / (2 * len(diffs)) "
   ]
  },
  {
   "cell_type": "markdown",
   "metadata": {},
   "source": [
    "In order to use our `linear_least_squares` function we need to pass it a function.  This function will act as our \"line prediction\" in which we are attempting to correctly bisect our data.\n",
    "\n",
    "This is the code to plot a line with a slope of `1/4`:\n",
    ">`lambda x: 0 + 0.25 * x`\n",
    "\n",
    "Should I explain linear slope?  Remember - I used to have to calculate roof slope for a living.\n",
    "\n",
    "Pass the `medical_care` frame to the `linear_least_squares` along with the function above and print your findings.\n",
    "\n",
    "Also create a scatter plot of your data as well as your regression line prediction.\n",
    "\n",
    "<!---\n",
    "fn1 = lambda x: 0 + 0.25 * x\n",
    "print(linear_least_squares(medical_care, fn1))\n",
    "plt.scatter(medical_care.index, medical_care.mean_minutes)\n",
    "xmin, xmax = plt.xlim()\n",
    "xs = np.array([xmin, xmax])\n",
    "plt.plot(xs, fn1(xs))\n",
    "--->"
   ]
  },
  {
   "cell_type": "code",
   "execution_count": 57,
   "metadata": {
    "collapsed": false
   },
   "outputs": [
    {
     "name": "stdout",
     "output_type": "stream",
     "text": [
      "25.8808217143\n"
     ]
    },
    {
     "data": {
      "text/plain": [
       "[<matplotlib.lines.Line2D at 0x10c9b7cc0>]"
      ]
     },
     "execution_count": 57,
     "metadata": {},
     "output_type": "execute_result"
    },
    {
     "data": {
      "image/png": "[encoded data removed]",
      "text/plain": [
       "<matplotlib.figure.Figure at 0x10c9b7be0>"
      ]
     },
     "metadata": {},
     "output_type": "display_data"
    }
   ],
   "source": [
    "fn1 = lambda x: 0 + 0.25 * x\n",
    "print(linear_least_squares(medical_care, fn1))\n",
    "\n",
    "plt.scatter(medical_care.index, medical_care.mean_minutes)\n",
    "plt.plot(medical_care.index, fn1(medical_care.index))"
   ]
  },
  {
   "cell_type": "markdown",
   "metadata": {},
   "source": [
    "Try the same but this time with the following linear function:\n",
    "\n",
    ">`lambda x: 0 + 0.15 * x`\n",
    "\n",
    "Overlay your original line with an alpha of `0.3`\n",
    "\n",
    "<!---\n",
    "fn2 = lambda x: 0 + 0.15 * x\n",
    "print(linear_least_squares(medical_care, fn2))\n",
    "plt.scatter(medical_care.index, medical_care.mean_minutes)\n",
    "xmin, xmax = plt.xlim()\n",
    "xs = np.array([xmin, xmax])\n",
    "plt.plot(xs, fn1(xs), alpha=0.3)\n",
    "plt.plot(xs, fn2(xs))\n",
    "--->"
   ]
  },
  {
   "cell_type": "code",
   "execution_count": 58,
   "metadata": {
    "collapsed": false
   },
   "outputs": [
    {
     "name": "stdout",
     "output_type": "stream",
     "text": [
      "7.07445210661\n"
     ]
    },
    {
     "data": {
      "text/plain": [
       "[<matplotlib.lines.Line2D at 0x10e3e2ef0>]"
      ]
     },
     "execution_count": 58,
     "metadata": {},
     "output_type": "execute_result"
    },
    {
     "data": {
      "image/png": "[encoded data removed]",
      "text/plain": [
       "<matplotlib.figure.Figure at 0x10e4529e8>"
      ]
     },
     "metadata": {},
     "output_type": "display_data"
    }
   ],
   "source": [
    "fn2 = lambda x: 0 + 0.15 * x\n",
    "print(linear_least_squares(medical_care, fn2))\n",
    "\n",
    "plt.scatter(medical_care.index, medical_care.mean_minutes)\n",
    "plt.plot(medical_care.index, fn2(medical_care.index))\n",
    "plt.plot(medical_care.index, fn1(medical_care.index), alpha=0.3)"
   ]
  },
  {
   "cell_type": "markdown",
   "metadata": {},
   "source": [
    "Finally lets try with the following function:\n",
    "\n",
    ">`lambda x: 0 + 0.1 * x`\n",
    "\n",
    "Overlay previous lines with an alpha of `0.3`\n",
    "\n",
    "<!---\n",
    "fn3 = lambda x: 0 + 0.1 * x\n",
    "print(linear_least_squares(medical_care, fn3))\n",
    "plt.scatter(medical_care.index, medical_care.mean_minutes)\n",
    "xmin, xmax = plt.xlim()\n",
    "xs = np.linspace(xmin, xmax, 100)\n",
    "plt.plot(xs, fn1(xs), alpha=0.3)\n",
    "plt.plot(xs, fn2(xs), alpha=0.3)\n",
    "plt.plot(xs, fn3(xs))\n",
    "--->"
   ]
  },
  {
   "cell_type": "code",
   "execution_count": 59,
   "metadata": {
    "collapsed": false
   },
   "outputs": [
    {
     "name": "stdout",
     "output_type": "stream",
     "text": [
      "2.12439230278\n",
      "7.07445210661\n",
      "25.8808217143\n"
     ]
    },
    {
     "data": {
      "text/plain": [
       "[<matplotlib.lines.Line2D at 0x104abe908>]"
      ]
     },
     "execution_count": 59,
     "metadata": {},
     "output_type": "execute_result"
    },
    {
     "data": {
      "image/png": "[encoded data removed]",
      "text/plain": [
       "<matplotlib.figure.Figure at 0x10e3f7f60>"
      ]
     },
     "metadata": {},
     "output_type": "display_data"
    }
   ],
   "source": [
    "fn3 = lambda x: 0 + 0.1 * x\n",
    "print(linear_least_squares(medical_care, fn3))\n",
    "print(linear_least_squares(medical_care, fn2))\n",
    "print(linear_least_squares(medical_care, fn1))\n",
    "\n",
    "xs = medical_care.index\n",
    "plt.scatter(medical_care.index, medical_care.mean_minutes)\n",
    "plt.plot(medical_care.index, fn3(medical_care.index))\n",
    "plt.plot(xs, fn2(xs), alpha=0.3)\n",
    "plt.plot(xs, fn1(xs), alpha=0.3)"
   ]
  },
  {
   "cell_type": "code",
   "execution_count": 67,
   "metadata": {
    "collapsed": false
   },
   "outputs": [
    {
     "name": "stdout",
     "output_type": "stream",
     "text": [
      "0.0 1.13052269513\n",
      "0.0122222222222 0.614997190383\n",
      "0.0244444444444 0.276863660948\n",
      "0.0366666666667 0.116122106822\n",
      "0.0488888888889 0.132772528004\n",
      "0.0611111111111 0.326814924495\n",
      "0.0733333333333 0.698249296295\n",
      "0.0855555555556 1.2470756434\n",
      "0.0977777777778 1.97329396582\n",
      "0.11 2.87690426355\n"
     ]
    }
   ],
   "source": [
    "for num in np.linspace(.0, .11, 10):\n",
    "    print(num, linear_least_squares(medical_care, lambda x: 0 + num * x))"
   ]
  },
  {
   "cell_type": "code",
   "execution_count": 61,
   "metadata": {
    "collapsed": false
   },
   "outputs": [
    {
     "name": "stdout",
     "output_type": "stream",
     "text": [
      "12.0116530875\n",
      "2.12439230278\n",
      "7.07445210661\n"
     ]
    },
    {
     "data": {
      "text/plain": [
       "[<matplotlib.lines.Line2D at 0x10641c0b8>]"
      ]
     },
     "execution_count": 61,
     "metadata": {},
     "output_type": "execute_result"
    },
    {
     "data": {
      "image/png": "[encoded data removed]",
      "text/plain": [
       "<matplotlib.figure.Figure at 0x104a2fa58>"
      ]
     },
     "metadata": {},
     "output_type": "display_data"
    }
   ],
   "source": [
    "fn4 = lambda x: 0 + -0.1 * x\n",
    "print(linear_least_squares(medical_care, fn4))\n",
    "\n",
    "print(linear_least_squares(medical_care, fn3))\n",
    "print(linear_least_squares(medical_care, fn2))\n",
    "\n",
    "plt.scatter(medical_care.index, medical_care.mean_minutes)\n",
    "plt.plot(medical_care.index, fn4(medical_care.index))\n",
    "plt.plot(xs, fn3(xs), alpha=0.3)\n",
    "\n",
    "plt.plot(xs, fn2(xs), alpha=0.3)\n",
    "plt.plot(xs, fn1(xs), alpha=0.3)"
   ]
  },
  {
   "cell_type": "markdown",
   "metadata": {},
   "source": [
    "Neat! But this isn't really a realistic way to figure out a regression line. Better yet we should use a library to predict our line for us given our data!  We can do this by creating a `LinearRegression()` model and calling it's `fit` method with our data.\n",
    "\n",
    "<!---\n",
    "regression = linear_model.LinearRegression()\n",
    "transposed_index = np.array(medical_care.index.values).reshape((-1, 1))\n",
    "regression.fit(transposed_index, medical_care.mean_minutes.values)\n",
    "--->"
   ]
  },
  {
   "cell_type": "code",
   "execution_count": 62,
   "metadata": {
    "collapsed": false
   },
   "outputs": [
    {
     "name": "stderr",
     "output_type": "stream",
     "text": [
      "/Users/taddeimania/python-curriculum/.direnv/python-3.5.0/lib/python3.5/site-packages/sklearn/base.py:175: DeprecationWarning: inspect.getargspec() is deprecated, use inspect.signature() instead\n",
      "  args, varargs, kw, default = inspect.getargspec(init)\n"
     ]
    },
    {
     "data": {
      "text/plain": [
       "LinearRegression(copy_X=True, fit_intercept=True, n_jobs=1, normalize=False)"
      ]
     },
     "execution_count": 62,
     "metadata": {},
     "output_type": "execute_result"
    }
   ],
   "source": [
    "regression = linear_model.LinearRegression()\n",
    "transposed_index = np.array(medical_care.index.values).reshape((-1, 1))\n",
    "\n",
    "regression.fit(transposed_index, medical_care.mean_minutes.values)"
   ]
  },
  {
   "cell_type": "markdown",
   "metadata": {},
   "source": [
    "Now that we have fit our prediction model to our data lets do cool stuff to it."
   ]
  },
  {
   "cell_type": "code",
   "execution_count": 68,
   "metadata": {
    "collapsed": false
   },
   "outputs": [
    {
     "data": {
      "text/plain": [
       "1.4380965624411801"
      ]
     },
     "execution_count": 68,
     "metadata": {},
     "output_type": "execute_result"
    }
   ],
   "source": [
    "regression.predict(35)[0]"
   ]
  },
  {
   "cell_type": "code",
   "execution_count": 64,
   "metadata": {
    "collapsed": false
   },
   "outputs": [
    {
     "name": "stdout",
     "output_type": "stream",
     "text": [
      "[ 0.05396331] -0.450619388444\n"
     ]
    }
   ],
   "source": [
    "print(regression.coef_, regression.intercept_)"
   ]
  },
  {
   "cell_type": "markdown",
   "metadata": {},
   "source": [
    "--- define score"
   ]
  },
  {
   "cell_type": "code",
   "execution_count": 69,
   "metadata": {
    "collapsed": false
   },
   "outputs": [
    {
     "data": {
      "text/plain": [
       "0.67917913745664604"
      ]
     },
     "execution_count": 69,
     "metadata": {},
     "output_type": "execute_result"
    }
   ],
   "source": [
    "regression.score(transposed_index, medical_care.mean_minutes.values)"
   ]
  },
  {
   "cell_type": "code",
   "execution_count": 70,
   "metadata": {
    "collapsed": false
   },
   "outputs": [
    {
     "name": "stdout",
     "output_type": "stream",
     "text": [
      "0.0902702798736\n"
     ]
    },
    {
     "data": {
      "text/plain": [
       "[<matplotlib.lines.Line2D at 0x110c8ff28>]"
      ]
     },
     "execution_count": 70,
     "metadata": {},
     "output_type": "execute_result"
    },
    {
     "data": {
      "image/png": "[encoded data removed]",
      "text/plain": [
       "<matplotlib.figure.Figure at 0x110c8f898>"
      ]
     },
     "metadata": {},
     "output_type": "display_data"
    }
   ],
   "source": [
    "fn = lambda x: regression.predict(x)[0]\n",
    "print(linear_least_squares(medical_care, fn))\n",
    "plt.scatter(medical_care.index, medical_care.mean_minutes)\n",
    "xmin, xmax = plt.xlim()\n",
    "xs = np.linspace(xmin, xmax, 100)\n",
    "plt.plot(xs, [fn(x) for x in xs])"
   ]
  },
  {
   "cell_type": "code",
   "execution_count": null,
   "metadata": {
    "collapsed": true
   },
   "outputs": [],
   "source": []
  }
 ],
 "metadata": {
  "kernelspec": {
   "display_name": "Python 3",
   "language": "python",
   "name": "python3"
  },
  "language_info": {
   "codemirror_mode": {
    "name": "ipython",
    "version": 3
   },
   "file_extension": ".py",
   "mimetype": "text/x-python",
   "name": "python",
   "nbconvert_exporter": "python",
   "pygments_lexer": "ipython3",
   "version": "3.5.0"
  }
 },
 "nbformat": 4,
 "nbformat_minor": 0
}
