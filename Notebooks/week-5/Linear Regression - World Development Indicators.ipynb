{
 "cells": [
  {
   "cell_type": "code",
   "execution_count": 3,
   "metadata": {
    "collapsed": true
   },
   "outputs": [],
   "source": [
    "import pandas as pd\n",
    "import numpy as np\n",
    "import matplotlib.pyplot as plt"
   ]
  },
  {
   "cell_type": "code",
   "execution_count": 4,
   "metadata": {
    "collapsed": true
   },
   "outputs": [],
   "source": [
    "%matplotlib inline"
   ]
  },
  {
   "cell_type": "markdown",
   "metadata": {},
   "source": [
    "## Scikit-Learn & Linear Regression\n",
    "\n",
    "The dataset we will be using for this exercise is to indicate %'s of world development indicators.  These can be a positive indicator or a negative indicator.  What we ultimately want to learn is can we predict any columns based on values from other columns (aka. finding correlation in the data).\n",
    "\n",
    "Let's read in some data first"
   ]
  },
  {
   "cell_type": "code",
   "execution_count": 5,
   "metadata": {
    "collapsed": false
   },
   "outputs": [
    {
     "name": "stdout",
     "output_type": "stream",
     "text": [
      "<class 'pandas.core.frame.DataFrame'>\n",
      "Int64Index: 1070 entries, 0 to 1069\n",
      "Data columns (total 6 columns):\n",
      "Country Name     1070 non-null object\n",
      "Country Code     1070 non-null object\n",
      "Series Name      1070 non-null object\n",
      "Series Code      1070 non-null object\n",
      "2000 [YR2000]    928 non-null float64\n",
      "2013 [YR2013]    445 non-null float64\n",
      "dtypes: float64(2), object(4)\n",
      "memory usage: 58.5+ KB\n"
     ]
    }
   ],
   "source": [
    "country_data = pd.read_csv(\"world_data.csv\") \\\n",
    "                .rename(columns={'\\ufeffCountry Name': \"Country Name\"}) \\\n",
    "                .dropna(thresh=2)\n",
    "country_data.info()"
   ]
  },
  {
   "cell_type": "code",
   "execution_count": 6,
   "metadata": {
    "collapsed": false
   },
   "outputs": [
    {
     "data": {
      "text/html": [
       "<div>\n",
       "<table border=\"1\" class=\"dataframe\">\n",
       "  <thead>\n",
       "    <tr style=\"text-align: right;\">\n",
       "      <th></th>\n",
       "      <th>Country Name</th>\n",
       "      <th>Country Code</th>\n",
       "      <th>Series Name</th>\n",
       "      <th>Series Code</th>\n",
       "      <th>2000 [YR2000]</th>\n",
       "      <th>2013 [YR2013]</th>\n",
       "    </tr>\n",
       "  </thead>\n",
       "  <tbody>\n",
       "    <tr>\n",
       "      <th>0</th>\n",
       "      <td>Afghanistan</td>\n",
       "      <td>AFG</td>\n",
       "      <td>School enrollment, secondary (% gross)</td>\n",
       "      <td>SE.SEC.ENRR</td>\n",
       "      <td>NaN</td>\n",
       "      <td>54.310841</td>\n",
       "    </tr>\n",
       "    <tr>\n",
       "      <th>1</th>\n",
       "      <td>Afghanistan</td>\n",
       "      <td>AFG</td>\n",
       "      <td>Life expectancy at birth, total (years)</td>\n",
       "      <td>SP.DYN.LE00.IN</td>\n",
       "      <td>54.848561</td>\n",
       "      <td>60.931415</td>\n",
       "    </tr>\n",
       "    <tr>\n",
       "      <th>2</th>\n",
       "      <td>Afghanistan</td>\n",
       "      <td>AFG</td>\n",
       "      <td>Improved sanitation facilities (% of populatio...</td>\n",
       "      <td>SH.STA.ACSN</td>\n",
       "      <td>23.200000</td>\n",
       "      <td>NaN</td>\n",
       "    </tr>\n",
       "    <tr>\n",
       "      <th>3</th>\n",
       "      <td>Afghanistan</td>\n",
       "      <td>AFG</td>\n",
       "      <td>Improved water source (% of population with ac...</td>\n",
       "      <td>SH.H2O.SAFE.ZS</td>\n",
       "      <td>22.100000</td>\n",
       "      <td>NaN</td>\n",
       "    </tr>\n",
       "    <tr>\n",
       "      <th>4</th>\n",
       "      <td>Afghanistan</td>\n",
       "      <td>AFG</td>\n",
       "      <td>Immunization, measles (% of children ages 12-2...</td>\n",
       "      <td>SH.IMM.MEAS</td>\n",
       "      <td>27.000000</td>\n",
       "      <td>75.000000</td>\n",
       "    </tr>\n",
       "  </tbody>\n",
       "</table>\n",
       "</div>"
      ],
      "text/plain": [
       "  Country Name Country Code  \\\n",
       "0  Afghanistan          AFG   \n",
       "1  Afghanistan          AFG   \n",
       "2  Afghanistan          AFG   \n",
       "3  Afghanistan          AFG   \n",
       "4  Afghanistan          AFG   \n",
       "\n",
       "                                         Series Name     Series Code  \\\n",
       "0             School enrollment, secondary (% gross)     SE.SEC.ENRR   \n",
       "1            Life expectancy at birth, total (years)  SP.DYN.LE00.IN   \n",
       "2  Improved sanitation facilities (% of populatio...     SH.STA.ACSN   \n",
       "3  Improved water source (% of population with ac...  SH.H2O.SAFE.ZS   \n",
       "4  Immunization, measles (% of children ages 12-2...     SH.IMM.MEAS   \n",
       "\n",
       "   2000 [YR2000]  2013 [YR2013]  \n",
       "0            NaN      54.310841  \n",
       "1      54.848561      60.931415  \n",
       "2      23.200000            NaN  \n",
       "3      22.100000            NaN  \n",
       "4      27.000000      75.000000  "
      ]
     },
     "execution_count": 6,
     "metadata": {},
     "output_type": "execute_result"
    }
   ],
   "source": [
    "country_data.head()"
   ]
  },
  {
   "cell_type": "markdown",
   "metadata": {},
   "source": [
    "Pivot the table to group countries over to the index while setting the columns from the `Series Name` with the values from the Y2k"
   ]
  },
  {
   "cell_type": "code",
   "execution_count": 7,
   "metadata": {
    "collapsed": false
   },
   "outputs": [
    {
     "data": {
      "text/html": [
       "<div>\n",
       "<table border=\"1\" class=\"dataframe\">\n",
       "  <thead>\n",
       "    <tr style=\"text-align: right;\">\n",
       "      <th>Series Name</th>\n",
       "      <th>Immunization, measles (% of children ages 12-23 months)</th>\n",
       "      <th>Improved sanitation facilities (% of population with access)</th>\n",
       "      <th>Improved water source (% of population with access)</th>\n",
       "      <th>Life expectancy at birth, total (years)</th>\n",
       "      <th>School enrollment, secondary (% gross)</th>\n",
       "    </tr>\n",
       "    <tr>\n",
       "      <th>Country Name</th>\n",
       "      <th></th>\n",
       "      <th></th>\n",
       "      <th></th>\n",
       "      <th></th>\n",
       "      <th></th>\n",
       "    </tr>\n",
       "  </thead>\n",
       "  <tbody>\n",
       "    <tr>\n",
       "      <th>Afghanistan</th>\n",
       "      <td>27</td>\n",
       "      <td>23.2</td>\n",
       "      <td>22.1</td>\n",
       "      <td>54.848561</td>\n",
       "      <td>NaN</td>\n",
       "    </tr>\n",
       "    <tr>\n",
       "      <th>Albania</th>\n",
       "      <td>95</td>\n",
       "      <td>83.8</td>\n",
       "      <td>96.5</td>\n",
       "      <td>74.272073</td>\n",
       "      <td>66.67894</td>\n",
       "    </tr>\n",
       "    <tr>\n",
       "      <th>Algeria</th>\n",
       "      <td>80</td>\n",
       "      <td>92.2</td>\n",
       "      <td>89.4</td>\n",
       "      <td>68.930195</td>\n",
       "      <td>61.92001</td>\n",
       "    </tr>\n",
       "    <tr>\n",
       "      <th>American Samoa</th>\n",
       "      <td>NaN</td>\n",
       "      <td>61.5</td>\n",
       "      <td>97.8</td>\n",
       "      <td>NaN</td>\n",
       "      <td>NaN</td>\n",
       "    </tr>\n",
       "    <tr>\n",
       "      <th>Andorra</th>\n",
       "      <td>97</td>\n",
       "      <td>100.0</td>\n",
       "      <td>100.0</td>\n",
       "      <td>NaN</td>\n",
       "      <td>NaN</td>\n",
       "    </tr>\n",
       "  </tbody>\n",
       "</table>\n",
       "</div>"
      ],
      "text/plain": [
       "Series Name     Immunization, measles (% of children ages 12-23 months)  \\\n",
       "Country Name                                                              \n",
       "Afghanistan                                                    27         \n",
       "Albania                                                        95         \n",
       "Algeria                                                        80         \n",
       "American Samoa                                                NaN         \n",
       "Andorra                                                        97         \n",
       "\n",
       "Series Name     Improved sanitation facilities (% of population with access)  \\\n",
       "Country Name                                                                   \n",
       "Afghanistan                                                  23.2              \n",
       "Albania                                                      83.8              \n",
       "Algeria                                                      92.2              \n",
       "American Samoa                                               61.5              \n",
       "Andorra                                                     100.0              \n",
       "\n",
       "Series Name     Improved water source (% of population with access)  \\\n",
       "Country Name                                                          \n",
       "Afghanistan                                                  22.1     \n",
       "Albania                                                      96.5     \n",
       "Algeria                                                      89.4     \n",
       "American Samoa                                               97.8     \n",
       "Andorra                                                     100.0     \n",
       "\n",
       "Series Name     Life expectancy at birth, total (years)  \\\n",
       "Country Name                                              \n",
       "Afghanistan                                   54.848561   \n",
       "Albania                                       74.272073   \n",
       "Algeria                                       68.930195   \n",
       "American Samoa                                      NaN   \n",
       "Andorra                                             NaN   \n",
       "\n",
       "Series Name     School enrollment, secondary (% gross)  \n",
       "Country Name                                            \n",
       "Afghanistan                                        NaN  \n",
       "Albania                                       66.67894  \n",
       "Algeria                                       61.92001  \n",
       "American Samoa                                     NaN  \n",
       "Andorra                                            NaN  "
      ]
     },
     "execution_count": 7,
     "metadata": {},
     "output_type": "execute_result"
    }
   ],
   "source": [
    "indicators = country_data.pivot_table(index=\"Country Name\", \n",
    "                                      columns=\"Series Name\", \n",
    "                                      values=\"2000 [YR2000]\")\n",
    "indicators.head()"
   ]
  },
  {
   "cell_type": "markdown",
   "metadata": {},
   "source": [
    "For now we want to narrow our scope down to just a single X and a single Y.  This should make it easy to visualize."
   ]
  },
  {
   "cell_type": "code",
   "execution_count": 8,
   "metadata": {
    "collapsed": false
   },
   "outputs": [
    {
     "data": {
      "text/html": [
       "<div>\n",
       "<table border=\"1\" class=\"dataframe\">\n",
       "  <thead>\n",
       "    <tr style=\"text-align: right;\">\n",
       "      <th>Series Name</th>\n",
       "      <th>School enrollment, secondary (% gross)</th>\n",
       "      <th>Life expectancy at birth, total (years)</th>\n",
       "    </tr>\n",
       "    <tr>\n",
       "      <th>Country Name</th>\n",
       "      <th></th>\n",
       "      <th></th>\n",
       "    </tr>\n",
       "  </thead>\n",
       "  <tbody>\n",
       "    <tr>\n",
       "      <th>Albania</th>\n",
       "      <td>66.678940</td>\n",
       "      <td>74.272073</td>\n",
       "    </tr>\n",
       "    <tr>\n",
       "      <th>Algeria</th>\n",
       "      <td>61.920010</td>\n",
       "      <td>68.930195</td>\n",
       "    </tr>\n",
       "    <tr>\n",
       "      <th>Angola</th>\n",
       "      <td>14.858310</td>\n",
       "      <td>45.204780</td>\n",
       "    </tr>\n",
       "    <tr>\n",
       "      <th>Antigua and Barbuda</th>\n",
       "      <td>77.874542</td>\n",
       "      <td>73.397293</td>\n",
       "    </tr>\n",
       "    <tr>\n",
       "      <th>Argentina</th>\n",
       "      <td>86.550858</td>\n",
       "      <td>73.745659</td>\n",
       "    </tr>\n",
       "  </tbody>\n",
       "</table>\n",
       "</div>"
      ],
      "text/plain": [
       "Series Name          School enrollment, secondary (% gross)  \\\n",
       "Country Name                                                  \n",
       "Albania                                           66.678940   \n",
       "Algeria                                           61.920010   \n",
       "Angola                                            14.858310   \n",
       "Antigua and Barbuda                               77.874542   \n",
       "Argentina                                         86.550858   \n",
       "\n",
       "Series Name          Life expectancy at birth, total (years)  \n",
       "Country Name                                                  \n",
       "Albania                                            74.272073  \n",
       "Algeria                                            68.930195  \n",
       "Angola                                             45.204780  \n",
       "Antigua and Barbuda                                73.397293  \n",
       "Argentina                                          73.745659  "
      ]
     },
     "execution_count": 8,
     "metadata": {},
     "output_type": "execute_result"
    }
   ],
   "source": [
    "indicators[['School enrollment, secondary (% gross)',\n",
    "            'Life expectancy at birth, total (years)']].dropna(thresh=2).head()"
   ]
  },
  {
   "cell_type": "code",
   "execution_count": 9,
   "metadata": {
    "collapsed": false
   },
   "outputs": [
    {
     "data": {
      "text/plain": [
       "<matplotlib.axes._subplots.AxesSubplot at 0x110a4d710>"
      ]
     },
     "execution_count": 9,
     "metadata": {},
     "output_type": "execute_result"
    },
    {
     "name": "stderr",
     "output_type": "stream",
     "text": [
      "/Users/taddeimania/Developer/class-notes/Notebooks/week-5/.direnv/python-3.5.0/lib/python3.5/site-packages/matplotlib/collections.py:590: FutureWarning: elementwise comparison failed; returning scalar instead, but in the future will perform elementwise comparison\n",
      "  if self._edgecolors == str('face'):\n"
     ]
    },
    {
     "data": {
      "image/png": "[encoded data removed]",
      "text/plain": [
       "<matplotlib.figure.Figure at 0x110a4d9b0>"
      ]
     },
     "metadata": {},
     "output_type": "display_data"
    }
   ],
   "source": [
    "indicators.plot(kind=\"scatter\", \n",
    "                x=\"School enrollment, secondary (% gross)\", \n",
    "                y=\"Life expectancy at birth, total (years)\")"
   ]
  },
  {
   "cell_type": "markdown",
   "metadata": {
    "collapsed": false
   },
   "source": [
    "Now how about a little scikit-learn!?"
   ]
  },
  {
   "cell_type": "code",
   "execution_count": 10,
   "metadata": {
    "collapsed": false
   },
   "outputs": [],
   "source": [
    "from sklearn import linear_model"
   ]
  },
  {
   "cell_type": "markdown",
   "metadata": {},
   "source": [
    "Lets get our X and Y\n",
    "\n",
    " - X -> School Enrollment in secondary level education\n",
    " - Y -> Life Expectancy at birth"
   ]
  },
  {
   "cell_type": "code",
   "execution_count": 14,
   "metadata": {
    "collapsed": false
   },
   "outputs": [],
   "source": [
    "df = indicators.loc[:, ['School enrollment, secondary (% gross)', \n",
    "                        'Life expectancy at birth, total (years)']]\n",
    "df.dropna(inplace=True)\n",
    "input_data = df[['School enrollment, secondary (% gross)']]\n",
    "life_expectancy = df['Life expectancy at birth, total (years)']"
   ]
  },
  {
   "cell_type": "markdown",
   "metadata": {},
   "source": [
    "Create a new `LinearRegression` classifier and fit our data (from above) into our model.\n",
    "\n",
    "We can print relevant data to this model once our model has been fit."
   ]
  },
  {
   "cell_type": "code",
   "execution_count": 18,
   "metadata": {
    "collapsed": false
   },
   "outputs": [
    {
     "name": "stdout",
     "output_type": "stream",
     "text": [
      "Coefficients: \n",
      " [ 0.24258833]\n",
      "Residual sum of squares: 33.66\n",
      "Variance Score: 0.65\n"
     ]
    }
   ],
   "source": [
    "regr1 = linear_model.LinearRegression()\n",
    "\n",
    "regr1.fit(input_data, life_expectancy)\n",
    "print('Coefficients: \\n', regr1.coef_)\n",
    "# The mean square error\n",
    "print(\"Residual sum of squares: %.2f\"\n",
    "      % np.mean((regr1.predict(input_data) - life_expectancy) ** 2))\n",
    "# Explained variance score: 1 is perfect prediction\n",
    "print('Variance Score: %.2f' % regr1.score(input_data, life_expectancy))\n"
   ]
  },
  {
   "cell_type": "markdown",
   "metadata": {},
   "source": [
    "# Plotting\n",
    "\n",
    "Lets create a plot figure of just our scatter plot and overlay our regression line that our model has created based on our data."
   ]
  },
  {
   "cell_type": "code",
   "execution_count": 21,
   "metadata": {
    "collapsed": false
   },
   "outputs": [
    {
     "data": {
      "text/plain": [
       "[<matplotlib.lines.Line2D at 0x110b728d0>]"
      ]
     },
     "execution_count": 21,
     "metadata": {},
     "output_type": "execute_result"
    },
    {
     "name": "stderr",
     "output_type": "stream",
     "text": [
      "/Users/taddeimania/Developer/class-notes/Notebooks/week-5/.direnv/python-3.5.0/lib/python3.5/site-packages/matplotlib/collections.py:590: FutureWarning: elementwise comparison failed; returning scalar instead, but in the future will perform elementwise comparison\n",
      "  if self._edgecolors == str('face'):\n"
     ]
    },
    {
     "data": {
      "image/png": "[encoded data removed]",
      "text/plain": [
       "<matplotlib.figure.Figure at 0x110b72828>"
      ]
     },
     "metadata": {},
     "output_type": "display_data"
    }
   ],
   "source": [
    "plt.scatter(input_data, life_expectancy,  color='black')\n",
    "plt.plot(input_data, regr1.predict(input_data), color='blue', linewidth=3)"
   ]
  },
  {
   "cell_type": "markdown",
   "metadata": {},
   "source": [
    "This is how we can predict specific values on our model:"
   ]
  },
  {
   "cell_type": "code",
   "execution_count": 23,
   "metadata": {
    "collapsed": false
   },
   "outputs": [
    {
     "name": "stdout",
     "output_type": "stream",
     "text": [
      "Predicted Life Expectancy for School Enrollment % of 80%:  70.1586891515\n"
     ]
    }
   ],
   "source": [
    "school_enrollment_percentage = 80\n",
    "\n",
    "print(\"Predicted Life Expectancy for School Enrollment % of {}%: \".format(school_enrollment_percentage),\n",
    "      regr1.predict(school_enrollment_percentage)[0])"
   ]
  },
  {
   "cell_type": "markdown",
   "metadata": {},
   "source": [
    "A single X and Y are fun and and simple - BUT BORING!  We can create a new DF and create a new X and Y that contain multiple feature vectors.\n",
    "\n",
    "In the case below we will fit Sanitation Facilities & Access to Water sources with the Life Expectancy. Cool stuff eh?"
   ]
  },
  {
   "cell_type": "code",
   "execution_count": 24,
   "metadata": {
    "collapsed": false
   },
   "outputs": [],
   "source": [
    "df = indicators.loc[:, ['Improved sanitation facilities (% of population with access)',\n",
    "                        'Improved water source (% of population with access)',\n",
    "                        'Life expectancy at birth, total (years)']]\n",
    "df.dropna(inplace=True)\n",
    "input_data = df[['Improved sanitation facilities (% of population with access)',\n",
    "                 'Improved water source (% of population with access)']]\n",
    "life_expectancy = df['Life expectancy at birth, total (years)']"
   ]
  },
  {
   "cell_type": "markdown",
   "metadata": {},
   "source": [
    "Taking our `input_data` and `life_expectancy` from above we can fit a new `LinearRegression` model to our new data and get relevant information about it."
   ]
  },
  {
   "cell_type": "code",
   "execution_count": 25,
   "metadata": {
    "collapsed": false
   },
   "outputs": [
    {
     "name": "stdout",
     "output_type": "stream",
     "text": [
      "Coefficients: \n",
      " [ 0.18063297  0.17222788]\n",
      "0.727755785254\n"
     ]
    }
   ],
   "source": [
    "regr2 = linear_model.LinearRegression()\n",
    "#indicators.loc[:, ['Improved sanitation facilities (% of population with access)']]\n",
    "fit = regr2.fit(input_data, life_expectancy)\n",
    "print('Coefficients: \\n', regr2.coef_)\n",
    "print(regr2.score(input_data, life_expectancy))"
   ]
  },
  {
   "cell_type": "markdown",
   "metadata": {},
   "source": [
    "Since we are fitting on multiple dimensions we can even do a 3d plot. 3d Plots don't tell an incredible amount of information to the lay-man but they sure look cool."
   ]
  },
  {
   "cell_type": "code",
   "execution_count": 26,
   "metadata": {
    "collapsed": false
   },
   "outputs": [
    {
     "name": "stderr",
     "output_type": "stream",
     "text": [
      "/Users/taddeimania/Developer/class-notes/Notebooks/week-5/.direnv/python-3.5.0/lib/python3.5/site-packages/matplotlib/collections.py:590: FutureWarning: elementwise comparison failed; returning scalar instead, but in the future will perform elementwise comparison\n",
      "  if self._edgecolors == str('face'):\n"
     ]
    },
    {
     "data": {
      "text/plain": [
       "<mpl_toolkits.mplot3d.art3d.Path3DCollection at 0x110df49e8>"
      ]
     },
     "execution_count": 26,
     "metadata": {},
     "output_type": "execute_result"
    },
    {
     "data": {
      "image/png": "[encoded data removed]",
      "text/plain": [
       "<matplotlib.figure.Figure at 0x110a8c5f8>"
      ]
     },
     "metadata": {},
     "output_type": "display_data"
    }
   ],
   "source": [
    "from mpl_toolkits.mplot3d import Axes3D\n",
    "fig = plt.figure()\n",
    "ax = fig.add_subplot(111, projection='3d')\n",
    "xx = input_data['Improved sanitation facilities (% of population with access)']\n",
    "yy = input_data['Improved water source (% of population with access)']\n",
    "zz = life_expectancy\n",
    "predict = regr2.predict(input_data)\n",
    "x_surf, y_surf = np.meshgrid(xx, yy)\n",
    "ax.plot_surface(x_surf, y_surf, predict, color=\"red\", alpha=0.1)\n",
    "ax.scatter(xx, yy, zz)"
   ]
  },
  {
   "cell_type": "markdown",
   "metadata": {},
   "source": [
    "### Predicting with multiple input variables\n",
    "\n",
    "With multiple X's how do we predict on those?  Easy! Pass a feature vector representing %'s of their respective category and our model will predict the life expectancy based on those values."
   ]
  },
  {
   "cell_type": "code",
   "execution_count": 27,
   "metadata": {
    "collapsed": false
   },
   "outputs": [
    {
     "name": "stdout",
     "output_type": "stream",
     "text": [
      "[ 68.24205914]\n",
      "[ 69.14522398]\n",
      "[ 69.10319853]\n",
      "[ 69.12421125]\n"
     ]
    }
   ],
   "source": [
    "# ['Improved sanitation facilities (% of population with access)', \n",
    "#  'Improved water source (% of population with access)']  as a %\n",
    "\n",
    "print(regr2.predict([80, 80]))\n",
    "print(regr2.predict([85, 80]))\n",
    "print(regr2.predict([80, 85]))\n",
    "print(regr2.predict([82.5, 82.5]))"
   ]
  },
  {
   "cell_type": "markdown",
   "metadata": {},
   "source": [
    "Notice we just multiply the vectors together to get the `xx` variable.  Our `yy` remains as the life expectancy."
   ]
  },
  {
   "cell_type": "code",
   "execution_count": 28,
   "metadata": {
    "collapsed": false
   },
   "outputs": [
    {
     "data": {
      "text/plain": [
       "[<matplotlib.lines.Line2D at 0x110df4588>]"
      ]
     },
     "execution_count": 28,
     "metadata": {},
     "output_type": "execute_result"
    },
    {
     "name": "stderr",
     "output_type": "stream",
     "text": [
      "/Users/taddeimania/Developer/class-notes/Notebooks/week-5/.direnv/python-3.5.0/lib/python3.5/site-packages/matplotlib/collections.py:590: FutureWarning: elementwise comparison failed; returning scalar instead, but in the future will perform elementwise comparison\n",
      "  if self._edgecolors == str('face'):\n"
     ]
    },
    {
     "data": {
      "image/png": "[encoded data removed]",
      "text/plain": [
       "<matplotlib.figure.Figure at 0x110df4a90>"
      ]
     },
     "metadata": {},
     "output_type": "display_data"
    }
   ],
   "source": [
    "x1 = input_data['Improved sanitation facilities (% of population with access)']\n",
    "x2 = input_data['Improved water source (% of population with access)']\n",
    "yy = life_expectancy\n",
    "predict = regr2.predict(input_data)\n",
    "xx = x1 * x2\n",
    "plt.scatter(xx, yy,  color='black')\n",
    "plt.plot((min(xx), max(xx)), (min(predict), max(predict)), color='blue', linewidth=3)"
   ]
  },
  {
   "cell_type": "markdown",
   "metadata": {},
   "source": [
    "Adding another dimension is as easy too!  Lets add our school enrollment back in and see how that affects things."
   ]
  },
  {
   "cell_type": "code",
   "execution_count": 30,
   "metadata": {
    "collapsed": true
   },
   "outputs": [],
   "source": [
    "df = indicators.loc[:, ['School enrollment, secondary (% gross)',\n",
    "                        'Improved sanitation facilities (% of population with access)',\n",
    "                        'Improved water source (% of population with access)',\n",
    "                        'Life expectancy at birth, total (years)']]\n",
    "df.dropna(inplace=True)\n",
    "input_data = df[['School enrollment, secondary (% gross)', \n",
    "                 'Improved sanitation facilities (% of population with access)',\n",
    "                 'Improved water source (% of population with access)']]\n",
    "life_expectancy = df['Life expectancy at birth, total (years)']"
   ]
  },
  {
   "cell_type": "code",
   "execution_count": 31,
   "metadata": {
    "collapsed": false
   },
   "outputs": [
    {
     "name": "stdout",
     "output_type": "stream",
     "text": [
      "0.754177780417\n"
     ]
    }
   ],
   "source": [
    "regr3 = linear_model.LinearRegression()\n",
    "fit = regr3.fit(input_data, life_expectancy)\n",
    "print(regr3.score(input_data, life_expectancy))"
   ]
  },
  {
   "cell_type": "markdown",
   "metadata": {},
   "source": [
    "What can we precict with this new model?"
   ]
  },
  {
   "cell_type": "code",
   "execution_count": 32,
   "metadata": {
    "collapsed": false
   },
   "outputs": [
    {
     "name": "stdout",
     "output_type": "stream",
     "text": [
      "School Enrollment: 10 [ 69.46838844]\n",
      "Sanitation Access: 10 [ 65.91890932]\n",
      "Water Access: 10 [ 59.22903565]\n",
      "-----\n",
      "\n",
      "School Enrollment: 20 [ 70.18725068]\n",
      "Sanitation Access: 20 [ 67.03215813]\n",
      "Water Access: 20 [ 61.08560376]\n",
      "-----\n",
      "\n",
      "School Enrollment: 30 [ 70.90611292]\n",
      "Sanitation Access: 30 [ 68.14540694]\n",
      "Water Access: 30 [ 62.94217187]\n",
      "-----\n",
      "\n",
      "School Enrollment: 40 [ 71.62497516]\n",
      "Sanitation Access: 40 [ 69.25865576]\n",
      "Water Access: 40 [ 64.79873998]\n",
      "-----\n",
      "\n",
      "School Enrollment: 50 [ 72.34383741]\n",
      "Sanitation Access: 50 [ 70.37190457]\n",
      "Water Access: 50 [ 66.65530808]\n",
      "-----\n",
      "\n",
      "School Enrollment: 60 [ 73.06269965]\n",
      "Sanitation Access: 60 [ 71.48515338]\n",
      "Water Access: 60 [ 68.51187619]\n",
      "-----\n",
      "\n",
      "School Enrollment: 70 [ 73.78156189]\n",
      "Sanitation Access: 70 [ 72.59840219]\n",
      "Water Access: 70 [ 70.3684443]\n",
      "-----\n",
      "\n",
      "School Enrollment: 80 [ 74.50042413]\n",
      "Sanitation Access: 80 [ 73.711651]\n",
      "Water Access: 80 [ 72.22501241]\n",
      "-----\n",
      "\n",
      "School Enrollment: 90 [ 75.21928638]\n",
      "Sanitation Access: 90 [ 74.82489981]\n",
      "Water Access: 90 [ 74.08158051]\n",
      "-----\n",
      "\n",
      "School Enrollment: 100 [ 75.93814862]\n",
      "Sanitation Access: 100 [ 75.93814862]\n",
      "Water Access: 100 [ 75.93814862]\n",
      "-----\n",
      "\n"
     ]
    }
   ],
   "source": [
    "for i in range(1, 11):\n",
    "    print(\"School Enrollment: {}\".format(i*10), regr3.predict([i * 10, 100, 100]))\n",
    "    print(\"Sanitation Access: {}\".format(i*10), regr3.predict([100, i * 10, 100]))\n",
    "    print(\"Water Access: {}\".format(i*10), regr3.predict([100, 100, i * 10]))\n",
    "    print(\"-----\\n\")"
   ]
  },
  {
   "cell_type": "code",
   "execution_count": 33,
   "metadata": {
    "collapsed": false
   },
   "outputs": [
    {
     "name": "stdout",
     "output_type": "stream",
     "text": [
      "0.757823778859\n"
     ]
    }
   ],
   "source": [
    "df = indicators.loc[:, ['School enrollment, secondary (% gross)',\n",
    "                        'Immunization, measles (% of children ages 12-23 months)',\n",
    "                        'Improved sanitation facilities (% of population with access)',\n",
    "                        'Improved water source (% of population with access)',\n",
    "                        'Life expectancy at birth, total (years)']]\n",
    "df.dropna(inplace=True)\n",
    "input_data = df[['School enrollment, secondary (% gross)', \n",
    "                 'Immunization, measles (% of children ages 12-23 months)',\n",
    "                 'Improved sanitation facilities (% of population with access)',\n",
    "                 'Improved water source (% of population with access)']]\n",
    "life_expectancy = df['Life expectancy at birth, total (years)']\n",
    "regr4 = linear_model.LinearRegression()\n",
    "fit = regr4.fit(input_data, life_expectancy)\n",
    "print(regr4.score(input_data, life_expectancy))"
   ]
  },
  {
   "cell_type": "code",
   "execution_count": 34,
   "metadata": {
    "collapsed": false
   },
   "outputs": [
    {
     "name": "stdout",
     "output_type": "stream",
     "text": [
      "0.487682103559\n"
     ]
    }
   ],
   "source": [
    "df = indicators.loc[:, ['Immunization, measles (% of children ages 12-23 months)',\n",
    "                        'Life expectancy at birth, total (years)']]\n",
    "df.dropna(inplace=True)\n",
    "input_data = df[['Immunization, measles (% of children ages 12-23 months)']]\n",
    "life_expectancy = df['Life expectancy at birth, total (years)']\n",
    "regr4 = linear_model.LinearRegression()\n",
    "fit = regr4.fit(input_data, life_expectancy)\n",
    "print(regr4.score(input_data, life_expectancy))"
   ]
  },
  {
   "cell_type": "markdown",
   "metadata": {},
   "source": [
    "## Automating picking the best features"
   ]
  },
  {
   "cell_type": "code",
   "execution_count": 35,
   "metadata": {
    "collapsed": false
   },
   "outputs": [],
   "source": [
    "import itertools\n",
    "dependent_vars = list(indicators.columns)\n",
    "dependent_vars.remove('Life expectancy at birth, total (years)')\n",
    "combos = list(itertools.combinations(dependent_vars, 2))"
   ]
  },
  {
   "cell_type": "code",
   "execution_count": 36,
   "metadata": {
    "collapsed": false
   },
   "outputs": [
    {
     "data": {
      "text/plain": [
       "[('Immunization, measles (% of children ages 12-23 months)',\n",
       "  'Improved sanitation facilities (% of population with access)'),\n",
       " ('Immunization, measles (% of children ages 12-23 months)',\n",
       "  'Improved water source (% of population with access)'),\n",
       " ('Immunization, measles (% of children ages 12-23 months)',\n",
       "  'School enrollment, secondary (% gross)'),\n",
       " ('Improved sanitation facilities (% of population with access)',\n",
       "  'Improved water source (% of population with access)'),\n",
       " ('Improved sanitation facilities (% of population with access)',\n",
       "  'School enrollment, secondary (% gross)'),\n",
       " ('Improved water source (% of population with access)',\n",
       "  'School enrollment, secondary (% gross)')]"
      ]
     },
     "execution_count": 36,
     "metadata": {},
     "output_type": "execute_result"
    }
   ],
   "source": [
    "combos"
   ]
  },
  {
   "cell_type": "code",
   "execution_count": 37,
   "metadata": {
    "collapsed": false
   },
   "outputs": [
    {
     "name": "stdout",
     "output_type": "stream",
     "text": [
      "(('Improved water source (% of population with access)', 'School enrollment, secondary (% gross)'), 0.73064421436970339)\n",
      "[ 0.28184565  0.11643609] 35.7634019124\n"
     ]
    }
   ],
   "source": [
    "choices = []\n",
    "\n",
    "def regression_for(combo):\n",
    "    combo = list(combo)\n",
    "    df = indicators.loc[:, combo + ['Life expectancy at birth, total (years)']]\n",
    "    df.dropna(inplace=True)\n",
    "    input_data = df[combo]\n",
    "    life_expectancy = df['Life expectancy at birth, total (years)']\n",
    "    regr = linear_model.LinearRegression()\n",
    "    regr.fit(input_data, life_expectancy)\n",
    "    return regr, regr.score(input_data, life_expectancy)\n",
    "\n",
    "for combo in combos:\n",
    "    regr, score = regression_for(combo)\n",
    "    choices.append((combo, score))\n",
    "                   \n",
    "best = sorted(choices, key=lambda x: x[1])[-1]\n",
    "print(best)\n",
    "regr, score = regression_for(best[0])\n",
    "print(regr.coef_, regr.intercept_)"
   ]
  },
  {
   "cell_type": "code",
   "execution_count": null,
   "metadata": {
    "collapsed": true
   },
   "outputs": [],
   "source": []
  }
 ],
 "metadata": {
  "kernelspec": {
   "display_name": "Python 3",
   "language": "python",
   "name": "python3"
  },
  "language_info": {
   "codemirror_mode": {
    "name": "ipython",
    "version": 3
   },
   "file_extension": ".py",
   "mimetype": "text/x-python",
   "name": "python",
   "nbconvert_exporter": "python",
   "pygments_lexer": "ipython3",
   "version": "3.5.0"
  }
 },
 "nbformat": 4,
 "nbformat_minor": 0
}
