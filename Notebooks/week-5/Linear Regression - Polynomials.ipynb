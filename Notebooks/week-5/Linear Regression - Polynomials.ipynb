{
 "cells": [
  {
   "cell_type": "code",
   "execution_count": 2,
   "metadata": {
    "collapsed": false
   },
   "outputs": [
    {
     "name": "stderr",
     "output_type": "stream",
     "text": [
      "/Users/taddeimania/Developer/class-notes/Notebooks/week-5/.direnv/python-3.5.0/lib/python3.5/site-packages/sklearn/utils/fixes.py:64: DeprecationWarning: inspect.getargspec() is deprecated, use inspect.signature() instead\n",
      "  if 'order' in inspect.getargspec(np.copy)[0]:\n"
     ]
    }
   ],
   "source": [
    "import pandas as pd\n",
    "import matplotlib.pyplot as plt\n",
    "import numpy as np\n",
    "import seaborn as sns\n",
    "from sklearn import linear_model\n",
    "sns.set_style(\"whitegrid\")"
   ]
  },
  {
   "cell_type": "code",
   "execution_count": 3,
   "metadata": {
    "collapsed": false
   },
   "outputs": [],
   "source": [
    "%matplotlib inline"
   ]
  },
  {
   "cell_type": "markdown",
   "metadata": {},
   "source": [
    "# Data in all directions\n",
    "\n",
    "If our exposure to Linear Regression has taught us one thing it's that if our data appears to follow a linear trend (ascending or descending in a straight line) we can find an optimal linear function $y = mx + b$ to fit to our data.  Unfortunately data is not always so friendly.\n",
    "\n",
    "### Example:\n",
    "\n",
    "Let's say our X axis represents a discrete distribution of age groups 12-99 and our Y axis represents average minutes spent sleeping per day.  Our intuition tells us that this is not a uniform or linear distribution. Depending on the samples it could take on any shape. Perhaps age groups that aren't heavily in the workforce yet show more minutes per day sleeping?  That would say ages 12-18 & 65+ would have higher Y values than the ages in between - giving us the shape of a U."
   ]
  },
  {
   "cell_type": "code",
   "execution_count": 4,
   "metadata": {
    "collapsed": false
   },
   "outputs": [
    {
     "name": "stdout",
     "output_type": "stream",
     "text": [
      "<class 'pandas.core.frame.DataFrame'>\n",
      "Int64Index: 11385 entries, 0 to 11384\n",
      "Columns: 413 entries, tucaseid to t500107\n",
      "dtypes: float64(1), int64(412)\n",
      "memory usage: 36.0 MB\n"
     ]
    }
   ],
   "source": [
    "summary = pd.read_csv(\"atussum_2013.dat\")\n",
    "summary.info()"
   ]
  },
  {
   "cell_type": "markdown",
   "metadata": {},
   "source": [
    "### Preparing the data\n",
    "\n",
    "As usual we need to prepare our data.  Since our minutes are unweighted minutes we need to adjust them based on the respondents weight."
   ]
  },
  {
   "cell_type": "code",
   "execution_count": 5,
   "metadata": {
    "collapsed": false
   },
   "outputs": [
    {
     "name": "stdout",
     "output_type": "stream",
     "text": [
      "<class 'pandas.core.frame.DataFrame'>\n",
      "Int64Index: 11385 entries, 0 to 11384\n",
      "Data columns (total 5 columns):\n",
      "weight              11385 non-null float64\n",
      "age                 11385 non-null int64\n",
      "sex                 11385 non-null int64\n",
      "minutes             11385 non-null int64\n",
      "weighted_minutes    11385 non-null float64\n",
      "dtypes: float64(2), int64(3)\n",
      "memory usage: 533.7 KB\n"
     ]
    }
   ],
   "source": [
    "sleep_data = summary[['TUFINLWGT', 'TEAGE', 'TESEX', 't010101']]\n",
    "sleep_data = sleep_data.rename(columns={\"TUFINLWGT\": \"weight\", \"TEAGE\": \"age\", \"TESEX\": \"sex\", \"t010101\": \"minutes\"})\n",
    "sleep_data['weighted_minutes'] = sleep_data.weight * sleep_data.minutes\n",
    "sleep_data.info()"
   ]
  },
  {
   "cell_type": "markdown",
   "metadata": {},
   "source": [
    "We can get our information grouped by calling the `groupby` function on the dataframe. The groupby does not return a dataframe by itself so we need to call a function on the groupby object in order to get a new dataframe.  In our case lets add all of the grouped columns with the `sum` function."
   ]
  },
  {
   "cell_type": "code",
   "execution_count": 6,
   "metadata": {
    "collapsed": false
   },
   "outputs": [
    {
     "data": {
      "text/html": [
       "<div>\n",
       "<table border=\"1\" class=\"dataframe\">\n",
       "  <thead>\n",
       "    <tr style=\"text-align: right;\">\n",
       "      <th></th>\n",
       "      <th>weight</th>\n",
       "      <th>sex</th>\n",
       "      <th>minutes</th>\n",
       "      <th>weighted_minutes</th>\n",
       "    </tr>\n",
       "    <tr>\n",
       "      <th>age</th>\n",
       "      <th></th>\n",
       "      <th></th>\n",
       "      <th></th>\n",
       "      <th></th>\n",
       "    </tr>\n",
       "  </thead>\n",
       "  <tbody>\n",
       "    <tr>\n",
       "      <th>15</th>\n",
       "      <td>1.168895e+09</td>\n",
       "      <td>159</td>\n",
       "      <td>62992</td>\n",
       "      <td>6.645155e+11</td>\n",
       "    </tr>\n",
       "    <tr>\n",
       "      <th>16</th>\n",
       "      <td>1.807565e+09</td>\n",
       "      <td>243</td>\n",
       "      <td>96196</td>\n",
       "      <td>1.013404e+12</td>\n",
       "    </tr>\n",
       "    <tr>\n",
       "      <th>17</th>\n",
       "      <td>1.929189e+09</td>\n",
       "      <td>246</td>\n",
       "      <td>96861</td>\n",
       "      <td>1.094304e+12</td>\n",
       "    </tr>\n",
       "    <tr>\n",
       "      <th>18</th>\n",
       "      <td>1.419704e+09</td>\n",
       "      <td>165</td>\n",
       "      <td>64722</td>\n",
       "      <td>8.498931e+11</td>\n",
       "    </tr>\n",
       "    <tr>\n",
       "      <th>19</th>\n",
       "      <td>1.307960e+09</td>\n",
       "      <td>130</td>\n",
       "      <td>50557</td>\n",
       "      <td>7.508169e+11</td>\n",
       "    </tr>\n",
       "  </tbody>\n",
       "</table>\n",
       "</div>"
      ],
      "text/plain": [
       "           weight  sex  minutes  weighted_minutes\n",
       "age                                              \n",
       "15   1.168895e+09  159    62992      6.645155e+11\n",
       "16   1.807565e+09  243    96196      1.013404e+12\n",
       "17   1.929189e+09  246    96861      1.094304e+12\n",
       "18   1.419704e+09  165    64722      8.498931e+11\n",
       "19   1.307960e+09  130    50557      7.508169e+11"
      ]
     },
     "execution_count": 6,
     "metadata": {},
     "output_type": "execute_result"
    }
   ],
   "source": [
    "sleep_by_age = sleep_data.groupby(\"age\").sum()\n",
    "sleep_by_age.head()"
   ]
  },
  {
   "cell_type": "markdown",
   "metadata": {},
   "source": [
    "With all of our weighted minutes we can get the mean amount of minutes per age group by dividing the weight column by the weighted minutes column.\n",
    "\n",
    "If this is not immediately clear why this works - it's because we added up every column - including the weight column.  So dividing the weighted minutes by the weight will give us the average weighted minutes per age group."
   ]
  },
  {
   "cell_type": "code",
   "execution_count": 9,
   "metadata": {
    "collapsed": false
   },
   "outputs": [
    {
     "data": {
      "text/html": [
       "<div>\n",
       "<table border=\"1\" class=\"dataframe\">\n",
       "  <thead>\n",
       "    <tr style=\"text-align: right;\">\n",
       "      <th></th>\n",
       "      <th>weight</th>\n",
       "      <th>sex</th>\n",
       "      <th>minutes</th>\n",
       "      <th>weighted_minutes</th>\n",
       "      <th>mean_minutes</th>\n",
       "    </tr>\n",
       "    <tr>\n",
       "      <th>age</th>\n",
       "      <th></th>\n",
       "      <th></th>\n",
       "      <th></th>\n",
       "      <th></th>\n",
       "      <th></th>\n",
       "    </tr>\n",
       "  </thead>\n",
       "  <tbody>\n",
       "    <tr>\n",
       "      <th>15</th>\n",
       "      <td>1.168895e+09</td>\n",
       "      <td>159</td>\n",
       "      <td>62992</td>\n",
       "      <td>6.645155e+11</td>\n",
       "      <td>568.498993</td>\n",
       "    </tr>\n",
       "    <tr>\n",
       "      <th>16</th>\n",
       "      <td>1.807565e+09</td>\n",
       "      <td>243</td>\n",
       "      <td>96196</td>\n",
       "      <td>1.013404e+12</td>\n",
       "      <td>560.646005</td>\n",
       "    </tr>\n",
       "    <tr>\n",
       "      <th>17</th>\n",
       "      <td>1.929189e+09</td>\n",
       "      <td>246</td>\n",
       "      <td>96861</td>\n",
       "      <td>1.094304e+12</td>\n",
       "      <td>567.235373</td>\n",
       "    </tr>\n",
       "    <tr>\n",
       "      <th>18</th>\n",
       "      <td>1.419704e+09</td>\n",
       "      <td>165</td>\n",
       "      <td>64722</td>\n",
       "      <td>8.498931e+11</td>\n",
       "      <td>598.641088</td>\n",
       "    </tr>\n",
       "    <tr>\n",
       "      <th>19</th>\n",
       "      <td>1.307960e+09</td>\n",
       "      <td>130</td>\n",
       "      <td>50557</td>\n",
       "      <td>7.508169e+11</td>\n",
       "      <td>574.036484</td>\n",
       "    </tr>\n",
       "  </tbody>\n",
       "</table>\n",
       "</div>"
      ],
      "text/plain": [
       "           weight  sex  minutes  weighted_minutes  mean_minutes\n",
       "age                                                            \n",
       "15   1.168895e+09  159    62992      6.645155e+11    568.498993\n",
       "16   1.807565e+09  243    96196      1.013404e+12    560.646005\n",
       "17   1.929189e+09  246    96861      1.094304e+12    567.235373\n",
       "18   1.419704e+09  165    64722      8.498931e+11    598.641088\n",
       "19   1.307960e+09  130    50557      7.508169e+11    574.036484"
      ]
     },
     "execution_count": 9,
     "metadata": {},
     "output_type": "execute_result"
    }
   ],
   "source": [
    "sleep_by_age['mean_minutes'] = sleep_by_age.weighted_minutes / sleep_by_age.weight\n",
    "sleep_by_age.head()"
   ]
  },
  {
   "cell_type": "markdown",
   "metadata": {},
   "source": [
    "Since we know these are minutes we can easily convert to hours by dividing by how many minutes there are in an hour. (60)  The cell below shows us how many hours on average a 38 year old gets per night."
   ]
  },
  {
   "cell_type": "code",
   "execution_count": 10,
   "metadata": {
    "collapsed": false
   },
   "outputs": [
    {
     "data": {
      "text/plain": [
       "8.5302245832886427"
      ]
     },
     "execution_count": 10,
     "metadata": {},
     "output_type": "execute_result"
    }
   ],
   "source": [
    "sleep_by_age.loc[38].mean_minutes / 60"
   ]
  },
  {
   "cell_type": "markdown",
   "metadata": {},
   "source": [
    "We can visualize this on a scatter plot with the help of matplotlib. We want our X axis to represent age groups and our Y axis to represent minutes."
   ]
  },
  {
   "cell_type": "code",
   "execution_count": 11,
   "metadata": {
    "collapsed": false
   },
   "outputs": [
    {
     "data": {
      "text/plain": [
       "<matplotlib.collections.PathCollection at 0x1154a9358>"
      ]
     },
     "execution_count": 11,
     "metadata": {},
     "output_type": "execute_result"
    },
    {
     "name": "stderr",
     "output_type": "stream",
     "text": [
      "/Users/taddeimania/Developer/class-notes/Notebooks/week-5/.direnv/python-3.5.0/lib/python3.5/site-packages/matplotlib/collections.py:590: FutureWarning: elementwise comparison failed; returning scalar instead, but in the future will perform elementwise comparison\n",
      "  if self._edgecolors == str('face'):\n"
     ]
    },
    {
     "data": {
      "image/png": "[encoded data removed]",
      "text/plain": [
       "<matplotlib.figure.Figure at 0x115408860>"
      ]
     },
     "metadata": {},
     "output_type": "display_data"
    }
   ],
   "source": [
    "plt.scatter(sleep_by_age.index, sleep_by_age.mean_minutes)"
   ]
  },
  {
   "cell_type": "markdown",
   "metadata": {},
   "source": [
    "### Linear Regression w/ Scikit-learn\n",
    "\n",
    "We need to take one more step in data preparation to create a useful regression model.  Our sleep values need to be restructured. Why? Because if we pull the series from the dataframe and ask for the values we will be given a vector of numbers as:\n",
    "$$\n",
    "\\begin{align}\n",
    "\\begin{bmatrix}1 & 2 & 3 & 4 & 5\\end{bmatrix} \\\\\n",
    "\\end{align}\n",
    "$$\n",
    "\n",
    "Where we want them as a `n x 1` dimension matrix as:\n",
    "$$\n",
    "\\begin{align}\n",
    "\\begin{bmatrix}1 \\\\ 2 \\\\ 3 \\\\ 4 \\\\ 5\\end{bmatrix} \\\\\n",
    "\\end{align}\n",
    "$$\n",
    "\n",
    "We can do this by calling `.reshape((-1, 1))` on our values from the index."
   ]
  },
  {
   "cell_type": "code",
   "execution_count": 13,
   "metadata": {
    "collapsed": false
   },
   "outputs": [
    {
     "name": "stderr",
     "output_type": "stream",
     "text": [
      "/Users/taddeimania/Developer/class-notes/Notebooks/week-5/.direnv/python-3.5.0/lib/python3.5/site-packages/sklearn/base.py:175: DeprecationWarning: inspect.getargspec() is deprecated, use inspect.signature() instead\n",
      "  args, varargs, kw, default = inspect.getargspec(init)\n"
     ]
    },
    {
     "data": {
      "text/plain": [
       "LinearRegression(copy_X=True, fit_intercept=True, n_jobs=1, normalize=False)"
      ]
     },
     "execution_count": 13,
     "metadata": {},
     "output_type": "execute_result"
    }
   ],
   "source": [
    "regression = linear_model.LinearRegression()\n",
    "reshaped_sleep_values = sleep_by_age.index.values.reshape((-1, 1))\n",
    "regression.fit(reshaped_sleep_values, sleep_by_age.mean_minutes.values)"
   ]
  },
  {
   "cell_type": "markdown",
   "metadata": {},
   "source": [
    "### Y-Intercept and Slope\n",
    "\n",
    "We can even get the Y-Intercept and the slope of our fit regression model."
   ]
  },
  {
   "cell_type": "code",
   "execution_count": 14,
   "metadata": {
    "collapsed": false
   },
   "outputs": [
    {
     "name": "stdout",
     "output_type": "stream",
     "text": [
      "Slope:  [-0.3727603]\n",
      "Y-Intercept:  538.764180347\n"
     ]
    }
   ],
   "source": [
    "print(\"Slope: \", regression.coef_)\n",
    "print(\"Y-Intercept: \", regression.intercept_)"
   ]
  },
  {
   "cell_type": "markdown",
   "metadata": {},
   "source": [
    "Before we go any further i'm going to make my life easier by creating a function that will display a scatter plot of my data while overlaying a linear function (our prediction line)."
   ]
  },
  {
   "cell_type": "code",
   "execution_count": 15,
   "metadata": {
    "collapsed": true
   },
   "outputs": [],
   "source": [
    "def plot_regression(fn):\n",
    "    # scatter plot first\n",
    "    plt.scatter(sleep_by_age.index, sleep_by_age.mean_minutes)\n",
    "    xmin, xmax = plt.xlim()\n",
    "    xs = np.linspace(xmin, xmax, 100)\n",
    "    # fn is our (y = mx + b) expression\n",
    "    plt.ylim(ymax=620, ymin=460)\n",
    "    plt.plot(xs, [fn(x) for x in xs])"
   ]
  },
  {
   "cell_type": "markdown",
   "metadata": {},
   "source": [
    "Thanks to Scikit-learn we have very little trial and error in finding minimum slope and y-intercept. It's already figured it out for us.\n",
    "\n",
    "So let's create a function to return a predicted `Y` value for a given `X` value. Or in plain english - \"For a given age, let's predict an amount of sleep they probably had\""
   ]
  },
  {
   "cell_type": "code",
   "execution_count": 16,
   "metadata": {
    "collapsed": false
   },
   "outputs": [
    {
     "name": "stderr",
     "output_type": "stream",
     "text": [
      "/Users/taddeimania/Developer/class-notes/Notebooks/week-5/.direnv/python-3.5.0/lib/python3.5/site-packages/matplotlib/collections.py:590: FutureWarning: elementwise comparison failed; returning scalar instead, but in the future will perform elementwise comparison\n",
      "  if self._edgecolors == str('face'):\n"
     ]
    },
    {
     "data": {
      "image/png": "[encoded data removed]",
      "text/plain": [
       "<matplotlib.figure.Figure at 0x115633630>"
      ]
     },
     "metadata": {},
     "output_type": "display_data"
    }
   ],
   "source": [
    "fn = lambda x: regression.predict(x)[0]\n",
    "plot_regression(fn)"
   ]
  },
  {
   "cell_type": "code",
   "execution_count": 21,
   "metadata": {
    "collapsed": false
   },
   "outputs": [
    {
     "data": {
      "text/plain": [
       "0.086941602635587478"
      ]
     },
     "execution_count": 21,
     "metadata": {},
     "output_type": "execute_result"
    }
   ],
   "source": [
    "regression.score(reshaped_sleep_values, sleep_by_age.mean_minutes)"
   ]
  },
  {
   "cell_type": "markdown",
   "metadata": {},
   "source": [
    "# Multiple Steps Made Easy w/ Pipeline\n",
    "\n",
    "If you need to perform multiple operations on your model during the fit process - for example, giving it the instructions to fit the Regression model with Polynomial features to an nth degree, you can create a data processing pipeline and describe each of the steps by passing the function and name of the step as a tuple in a list.\n",
    "\n",
    "It sounds confusing but it's really just taking a multi step operation and allowing you to perform it in one step."
   ]
  },
  {
   "cell_type": "code",
   "execution_count": 22,
   "metadata": {
    "collapsed": false
   },
   "outputs": [],
   "source": [
    "from sklearn.preprocessing import PolynomialFeatures\n",
    "from sklearn.linear_model import LinearRegression\n",
    "from sklearn.pipeline import Pipeline"
   ]
  },
  {
   "cell_type": "code",
   "execution_count": 26,
   "metadata": {
    "collapsed": false
   },
   "outputs": [
    {
     "name": "stdout",
     "output_type": "stream",
     "text": [
      "[ 520.84943152]\n",
      "0.0\n",
      "Variance Score: 0.00\n"
     ]
    },
    {
     "name": "stderr",
     "output_type": "stream",
     "text": [
      "/Users/taddeimania/Developer/class-notes/Notebooks/week-5/.direnv/python-3.5.0/lib/python3.5/site-packages/matplotlib/collections.py:590: FutureWarning: elementwise comparison failed; returning scalar instead, but in the future will perform elementwise comparison\n",
      "  if self._edgecolors == str('face'):\n"
     ]
    },
    {
     "data": {
      "image/png": "[encoded data removed]",
      "text/plain": [
       "<matplotlib.figure.Figure at 0x1157b5160>"
      ]
     },
     "metadata": {},
     "output_type": "display_data"
    }
   ],
   "source": [
    "model = Pipeline([('poly', PolynomialFeatures(degree=0)),\n",
    "                  ('linear', LinearRegression(fit_intercept=False))])\n",
    "model.fit(reshaped_sleep_values, sleep_by_age.mean_minutes.values)\n",
    "\n",
    "# The slope and intercept appear to be flipped?\n",
    "print(model.named_steps['linear'].coef_)\n",
    "print(model.named_steps['linear'].intercept_)\n",
    "print('Variance Score: %.2f' % model.score(reshaped_sleep_values, sleep_by_age.mean_minutes.values))\n",
    "\n",
    "fn = lambda x: model.predict(x)[0]\n",
    "plot_regression(fn)"
   ]
  },
  {
   "cell_type": "markdown",
   "metadata": {},
   "source": [
    "Predicting a value on this model which has been fit to the 0th degree means that it will give the same value for any input. Not ideal!  Although I guess it does provide a mean of all age groups. /shrug"
   ]
  },
  {
   "cell_type": "code",
   "execution_count": 83,
   "metadata": {
    "collapsed": false
   },
   "outputs": [
    {
     "name": "stdout",
     "output_type": "stream",
     "text": [
      "[ 8.68082386]\n",
      "[ 8.68082386]\n"
     ]
    }
   ],
   "source": [
    "print(model.predict(32) / 60)\n",
    "print(model.predict(50) / 60)"
   ]
  },
  {
   "cell_type": "code",
   "execution_count": 27,
   "metadata": {
    "collapsed": false
   },
   "outputs": [
    {
     "name": "stdout",
     "output_type": "stream",
     "text": [
      "[ 0.        -0.3727603]\n",
      "538.764180347\n",
      "Variance Score: 0.09\n"
     ]
    },
    {
     "name": "stderr",
     "output_type": "stream",
     "text": [
      "/Users/taddeimania/Developer/class-notes/Notebooks/week-5/.direnv/python-3.5.0/lib/python3.5/site-packages/matplotlib/collections.py:590: FutureWarning: elementwise comparison failed; returning scalar instead, but in the future will perform elementwise comparison\n",
      "  if self._edgecolors == str('face'):\n"
     ]
    },
    {
     "data": {
      "image/png": "[encoded data removed]",
      "text/plain": [
       "<matplotlib.figure.Figure at 0x1196d1198>"
      ]
     },
     "metadata": {},
     "output_type": "display_data"
    }
   ],
   "source": [
    "model = Pipeline([('poly', PolynomialFeatures(degree=1)),\n",
    "                  ('linear', LinearRegression(fit_intercept=True))])\n",
    "model.fit(reshaped_sleep_values, sleep_by_age.mean_minutes.values)\n",
    "\n",
    "print(model.named_steps['linear'].coef_)\n",
    "print(model.named_steps['linear'].intercept_)\n",
    "print('Variance Score: %.2f' % model.score(reshaped_sleep_values, sleep_by_age.mean_minutes.values))\n",
    "\n",
    "fn = lambda x: model.predict(x)[0]\n",
    "\n",
    "plot_regression(fn)"
   ]
  },
  {
   "cell_type": "markdown",
   "metadata": {},
   "source": [
    "Predictions are still not great but they are at least trending downward. We can see that with our negative slope.  This matches our intuition... kind of."
   ]
  },
  {
   "cell_type": "code",
   "execution_count": 85,
   "metadata": {
    "collapsed": false
   },
   "outputs": [
    {
     "name": "stdout",
     "output_type": "stream",
     "text": [
      "[ 8.78059751]\n",
      "[ 8.66876942]\n"
     ]
    }
   ],
   "source": [
    "print(model.predict(32) / 60)\n",
    "print(model.predict(50) / 60)"
   ]
  },
  {
   "cell_type": "markdown",
   "metadata": {},
   "source": [
    "Let's alter our pipeline to include more degrees of direction.  If we give it a 2nd degree our regression line becomes parabolic!"
   ]
  },
  {
   "cell_type": "code",
   "execution_count": 28,
   "metadata": {
    "collapsed": false
   },
   "outputs": [
    {
     "name": "stdout",
     "output_type": "stream",
     "text": [
      "[  6.45733647e+02  -5.66518847e+00   5.48318311e-02]\n",
      "0.0\n",
      "Variance Score: 0.68\n"
     ]
    },
    {
     "name": "stderr",
     "output_type": "stream",
     "text": [
      "/Users/taddeimania/Developer/class-notes/Notebooks/week-5/.direnv/python-3.5.0/lib/python3.5/site-packages/matplotlib/collections.py:590: FutureWarning: elementwise comparison failed; returning scalar instead, but in the future will perform elementwise comparison\n",
      "  if self._edgecolors == str('face'):\n"
     ]
    },
    {
     "data": {
      "image/png": "[encoded data removed]",
      "text/plain": [
       "<matplotlib.figure.Figure at 0x11976f780>"
      ]
     },
     "metadata": {},
     "output_type": "display_data"
    }
   ],
   "source": [
    "model = Pipeline([('poly', PolynomialFeatures(degree=2)),\n",
    "                  ('linear', LinearRegression(fit_intercept=False))])\n",
    "model.fit(reshaped_sleep_values, sleep_by_age.mean_minutes.values)\n",
    "\n",
    "print(model.named_steps['linear'].coef_)\n",
    "print(model.named_steps['linear'].intercept_)\n",
    "print('Variance Score: %.2f' % model.score(reshaped_sleep_values, sleep_by_age.mean_minutes.values))\n",
    "\n",
    "fn = lambda x: model.predict(x)[0]\n",
    "plot_regression(fn)"
   ]
  },
  {
   "cell_type": "markdown",
   "metadata": {},
   "source": [
    "### Bonus question\n",
    "\n",
    "What happened to our Y-Intercept?\n",
    "\n",
    "------\n",
    "If we increase the degree a few notches you can see the curved regression line attempts to get a little tighter on the scatter points. It may appear that we are getting a better fit to our data."
   ]
  },
  {
   "cell_type": "code",
   "execution_count": 29,
   "metadata": {
    "collapsed": false
   },
   "outputs": [
    {
     "name": "stdout",
     "output_type": "stream",
     "text": [
      "[  0.00000000e+00  -1.96775534e+01   4.95578215e-01  -4.70230260e-03\n",
      "  -1.15898708e-06   1.87993805e-07]\n",
      "Variance Score: 0.73\n"
     ]
    },
    {
     "name": "stderr",
     "output_type": "stream",
     "text": [
      "/Users/taddeimania/Developer/class-notes/Notebooks/week-5/.direnv/python-3.5.0/lib/python3.5/site-packages/matplotlib/collections.py:590: FutureWarning: elementwise comparison failed; returning scalar instead, but in the future will perform elementwise comparison\n",
      "  if self._edgecolors == str('face'):\n"
     ]
    },
    {
     "data": {
      "image/png": "[encoded data removed]",
      "text/plain": [
       "<matplotlib.figure.Figure at 0x11976f860>"
      ]
     },
     "metadata": {},
     "output_type": "display_data"
    }
   ],
   "source": [
    "model = Pipeline([('poly', PolynomialFeatures(degree=5)),\n",
    "                  ('linear', LinearRegression())])\n",
    "model.fit(reshaped_sleep_values, sleep_by_age.mean_minutes.values)\n",
    "\n",
    "print(model.named_steps['linear'].coef_)\n",
    "print('Variance Score: %.2f' % model.score(reshaped_sleep_values, sleep_by_age.mean_minutes.values))\n",
    "fn = lambda x: model.predict(x)[0]\n",
    "\n",
    "plot_regression(fn)"
   ]
  },
  {
   "cell_type": "markdown",
   "metadata": {},
   "source": [
    "Lets crank the degree way up (to 10) and see how our fit looks."
   ]
  },
  {
   "cell_type": "code",
   "execution_count": 37,
   "metadata": {
    "collapsed": false
   },
   "outputs": [
    {
     "name": "stdout",
     "output_type": "stream",
     "text": [
      "[  7.73673164e-08  -2.57187831e-08  -1.19020353e-07  -1.23842327e-07\n",
      "  -2.01755822e-06  -2.28237979e-05   1.16889969e-06  -2.16404602e-08\n",
      "   1.69284961e-10  -4.61072810e-13  -7.27499114e-18  -4.65006925e-18\n",
      "   1.39039192e-17  -9.66040382e-18   5.05896164e-18  -3.55299425e-18\n",
      "  -5.74754883e-19  -5.75620737e-18   9.90971599e-18   5.62468758e-18\n",
      "  -2.40613741e-17  -2.76086409e-18  -1.95272862e-17  -4.87688365e-19\n",
      "  -1.04486442e-17  -1.82362066e-18   6.60075605e-18  -9.85707299e-18\n",
      "  -2.08823441e-17  -1.25586095e-17  -5.59100533e-18   2.95523673e-18\n",
      "  -1.37214252e-17  -2.19009997e-17  -8.67458981e-19   2.97150760e-18\n",
      "   1.09552981e-17  -8.33060174e-18  -1.76374394e-17  -2.53000582e-18\n",
      "   2.63305206e-17  -8.71415126e-18  -4.39345617e-18  -9.18656431e-18\n",
      "  -3.40721177e-18  -1.31206355e-17  -2.08348973e-17   1.05958846e-18\n",
      "  -1.97938232e-17   6.30990059e-18   1.50650141e-17  -5.97888972e-18\n",
      "  -2.28274812e-17  -2.48021491e-17  -1.71948994e-17   6.31867231e-18\n",
      "  -2.17230670e-17   2.20947815e-18   5.26785357e-18   1.32114003e-17\n",
      "   1.48739469e-17  -1.19568762e-17   9.38907658e-18   1.01869492e-17\n",
      "   2.24846682e-17  -4.59877515e-18   1.18083496e-17  -3.32855318e-17\n",
      "  -1.62049879e-17  -3.38603005e-17  -4.68931064e-18]\n",
      "Variance Score: 1.00\n"
     ]
    }
   ],
   "source": [
    "model = Pipeline([('poly', PolynomialFeatures(degree=70)),\n",
    "                  ('linear', LinearRegression())])\n",
    "model.fit(reshaped_sleep_values, sleep_by_age.mean_minutes.values)\n",
    "\n",
    "print(model.named_steps['linear'].coef_)\n",
    "fn = lambda x: model.predict(x)[0]\n",
    "\n",
    "print('Variance Score: %.2f' % model.score(reshaped_sleep_values, sleep_by_age.mean_minutes.values))\n",
    "\n",
    "\n",
    "#plot_regression(fn)"
   ]
  },
  {
   "cell_type": "code",
   "execution_count": 40,
   "metadata": {
    "collapsed": false
   },
   "outputs": [
    {
     "data": {
      "text/plain": [
       "array([ -1.01139212e+96])"
      ]
     },
     "execution_count": 40,
     "metadata": {},
     "output_type": "execute_result"
    }
   ],
   "source": [
    "model.predict(41.5)"
   ]
  },
  {
   "cell_type": "markdown",
   "metadata": {},
   "source": [
    "Just as we suspected, the line looks almost perfectly fit except on the boundaries where it goes haywire. Also our variance score has only increased by 2 percentage points but we've increased the degree by 5. We're starting to see dimishing returns with the complexity of our model."
   ]
  }
 ],
 "metadata": {
  "kernelspec": {
   "display_name": "Python 3",
   "language": "python",
   "name": "python3"
  },
  "language_info": {
   "codemirror_mode": {
    "name": "ipython",
    "version": 3
   },
   "file_extension": ".py",
   "mimetype": "text/x-python",
   "name": "python",
   "nbconvert_exporter": "python",
   "pygments_lexer": "ipython3",
   "version": "3.5.0"
  }
 },
 "nbformat": 4,
 "nbformat_minor": 0
}
