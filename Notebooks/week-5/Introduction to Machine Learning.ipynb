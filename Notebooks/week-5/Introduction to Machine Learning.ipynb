{
 "cells": [
  {
   "cell_type": "code",
   "execution_count": 1,
   "metadata": {
    "collapsed": false
   },
   "outputs": [],
   "source": [
    "import pandas as pd\n",
    "import numpy as np\n",
    "import matplotlib.pyplot as plt\n",
    "import seaborn as sbs\n",
    "import math"
   ]
  },
  {
   "cell_type": "code",
   "execution_count": 2,
   "metadata": {
    "collapsed": false
   },
   "outputs": [],
   "source": [
    "%matplotlib inline"
   ]
  },
  {
   "cell_type": "markdown",
   "metadata": {},
   "source": [
    "Machine learning is a very large topic, and we're covering it for the one week, so this will be a survey."
   ]
  },
  {
   "cell_type": "markdown",
   "metadata": {},
   "source": [
    "## scikit-learn\n",
    "\n",
    "The Python package we will be using for most everything this week is `scikit-learn`.\n",
    "\n",
    "Download it: `pip install scikit-learn`.\n",
    "\n",
    "Learn about it: http://scikit-learn.org/"
   ]
  },
  {
   "cell_type": "markdown",
   "metadata": {},
   "source": [
    "## What is machine learning?"
   ]
  },
  {
   "cell_type": "markdown",
   "metadata": {},
   "source": [
    "Lots of definitions. A simple one: \"a field of study that gives computers the ability to learn without being explicitly programmed.\" (Arthur Samuel)\n",
    "\n",
    "Different types:\n",
    "\n",
    "* supervised learning: prediction/regression, classification\n",
    "* unsupervised learning: clustering, organizing\n",
    "\n",
    "Machine learning \"involves observing a set of examples that represent incomplete information about some statistical phenomenon, and then attempting to infer something about the process that generated those examples.\" (John Gottag, _Introduction to Programming and Computation with Python_)\n",
    "\n",
    "(A large amount of what comes below comes from _Introduction to Programming and Computation with Python._)\n",
    "\n",
    "Machine learning is at its core about representation and generalization.\n",
    "\n",
    "* __representation__ is extracting structure from data\n",
    "* __generalization__ is making predictions from data"
   ]
  },
  {
   "cell_type": "markdown",
   "metadata": {},
   "source": [
    "## Feature vectors"
   ]
  },
  {
   "cell_type": "code",
   "execution_count": 8,
   "metadata": {
    "collapsed": false
   },
   "outputs": [],
   "source": [
    "dog_breeds = {\"Alaskan Malamute\": {\"height\": 24, \"weight\": 80, \"energy\": 4},\n",
    "              \"Bichon Frise\": {\"height\": 10, \"weight\": 9.5, \"energy\": 4},\n",
    "              \"Irish Wolfhound\": {\"height\": 32, \"weight\": 120, \"energy\": 2},\n",
    "              \"Basset Hound\": {\"height\": 14, \"weight\": 50, \"energy\": 2}}\n",
    "\n",
    "set_a = {\"Alaskan Malamute\", \"Irish Wolfhound\"}\n",
    "set_b = {\"Bichon Frise\", \"Basset Hound\"}"
   ]
  },
  {
   "cell_type": "markdown",
   "metadata": {},
   "source": [
    "_How were the above separated?_\n",
    "\n",
    "The information being used here is called a _feature vector_. Each element of the vector describes some feature of the example. _What other feature vectors might we have here? Which ones are more useful than others?_\n",
    "\n",
    "In __supervised learning__, we have the labels we want to apply to our data and the feature vectors of our data, like we do above. Classification, a supervised learning technique, could take the data above and then given a new example, place it in the right set based on its height. This is used for many applications: detecting spam or fraud, labeling documents, recommending products.\n",
    "\n",
    "In __unsupervised learning__, we have our feature vectors, but no labels. Unsupervised learning looks for structure in our feature vectors that we do not yet know. Given the dog breeds above, unsupervised learning might break them into tall and short dogs, heavy and light dogs, or high and low energy dogs."
   ]
  },
  {
   "cell_type": "markdown",
   "metadata": {},
   "source": [
    "### Figuring out our feature vectors"
   ]
  },
  {
   "cell_type": "markdown",
   "metadata": {},
   "source": [
    "The problem with much of our data is that there's too much of it. If you used every possible feature to organize your data, you would likely end up with just a giant mess. Using too many features can make a bad statistical model, and can also slow down the learning process.\n",
    "\n",
    "__Feature extraction__ is hard, but is necessary. Even in unsupervised learning, we need human input to decide what feature vectors to use."
   ]
  },
  {
   "cell_type": "markdown",
   "metadata": {},
   "source": [
    "Create a `list` of `dict`s that contain the following features:\n",
    "  - _name (string)\n",
    "  - egg-laying (bool)\n",
    "  - scales (bool)\n",
    "  - poisonous (bool)\n",
    "  - cold-blooded (bool)\n",
    "  - num_legs (int)\n",
    "  \n",
    "Create a `DataFrame` with this list.\n",
    "\n",
    "<!---\n",
    "animals = [{\"_name\": \"Cobra\", \"egg-laying\": True, \"scales\": True,\n",
    "            \"poisonous\": True, \"cold-blooded\": True, \"num_legs\": 0}, \n",
    "           {\"_name\": \"Rattlesnake\", \"egg-laying\": True, \"scales\": True,\n",
    "            \"poisonous\": True, \"cold-blooded\": True, \"num_legs\": 0},\n",
    "           {\"_name\": \"Boa constrictor\", \"egg-laying\": False, \"scales\": True,\n",
    "            \"poisonous\": False, \"cold-blooded\": True, \"num_legs\": 0},\n",
    "           {\"_name\": \"Alligator\", \"egg-laying\": True, \"scales\": True,\n",
    "            \"poisonous\": False, \"cold-blooded\": True, \"num_legs\": 4},\n",
    "           {\"_name\": \"Dart frog\", \"egg-laying\": True, \"scales\": False,\n",
    "            \"poisonous\": True, \"cold-blooded\": False, \"num_legs\": 4},\n",
    "           {\"_name\": \"Salmon\", \"egg-laying\": True, \"scales\": True,\n",
    "            \"poisonous\": False, \"cold-blooded\": True, \"num_legs\": 0},\n",
    "           {\"_name\": \"Python\", \"egg-laying\": True, \"scales\": True,\n",
    "            \"poisonous\": False, \"cold-blooded\": True, \"num_legs\": 0}]\n",
    "pd.DataFrame(animals)\n",
    "--->"
   ]
  },
  {
   "cell_type": "code",
   "execution_count": 25,
   "metadata": {
    "collapsed": false
   },
   "outputs": [],
   "source": [
    "python = {\"_name\": \"Python\", \"egg-laying\": True, \"scales\": True, \"venomous\": False, \"cold-blooded\": True, \"num_legs\": 0}\n",
    "black_mamba = {\"_name\": \"Black Mamba\", \"egg-laying\": True, \"scales\": True, \"venomous\": True, \"cold-blooded\": True, \"num_legs\": 0}\n",
    "salamander = {\"_name\": \"Salamander\", \"egg-laying\": True, \"scales\": False, \"venomous\": False, \"cold-blooded\": True, \"num_legs\": 4}\n",
    "polar_bear = {\"_name\": \"Polar Bear\", \"egg-laying\": False, \"scales\": False, \"venomous\": False, \"cold-blooded\": False, \"num_legs\": 4}\n",
    "chameleon = {\"_name\": \"Chameleon\", \"egg-laying\": True, \"scales\": False, \"venomous\": False, \"cold-blooded\": True, \"num_legs\": 4}\n",
    "\n",
    "animal_list = pd.DataFrame([python,  black_mamba, salamander, polar_bear, chameleon])"
   ]
  },
  {
   "cell_type": "markdown",
   "metadata": {},
   "source": [
    "_What features help determine if an animal is a reptile or not, based off this data?_"
   ]
  },
  {
   "cell_type": "markdown",
   "metadata": {},
   "source": [
    "## Measuring distance"
   ]
  },
  {
   "cell_type": "markdown",
   "metadata": {},
   "source": [
    "Let's say we want to use the above data to give us the similarity of two animals. We might ask, for example, if an alligator is more like a cobra or a dart frog.\n",
    "\n",
    "In order to do this, we can measure the similarity of the feature vectors, but the vectors must be made up of numbers first. Four of ours are booleans, so let's convert them.\n",
    "\n",
    "Iterate over the `df.columns` and set anything not `_name` to an `int`\n",
    "\n",
    "<!---\n",
    "df = pd.DataFrame(animals)\n",
    "for col in df.columns:\n",
    "    if col is not \"_name\":\n",
    "        df[col] = df[col].astype(np.int)\n",
    "df\n",
    "--->"
   ]
  },
  {
   "cell_type": "code",
   "execution_count": 26,
   "metadata": {
    "collapsed": false
   },
   "outputs": [],
   "source": [
    "for column in animal_list.columns:\n",
    "    if column != \"_name\":\n",
    "        animal_list[column] = animal_list[column].map(int)"
   ]
  },
  {
   "cell_type": "code",
   "execution_count": 27,
   "metadata": {
    "collapsed": false
   },
   "outputs": [
    {
     "data": {
      "text/html": [
       "<div>\n",
       "<table border=\"1\" class=\"dataframe\">\n",
       "  <thead>\n",
       "    <tr style=\"text-align: right;\">\n",
       "      <th></th>\n",
       "      <th>_name</th>\n",
       "      <th>cold-blooded</th>\n",
       "      <th>egg-laying</th>\n",
       "      <th>num_legs</th>\n",
       "      <th>scales</th>\n",
       "      <th>venomous</th>\n",
       "    </tr>\n",
       "  </thead>\n",
       "  <tbody>\n",
       "    <tr>\n",
       "      <th>0</th>\n",
       "      <td>Python</td>\n",
       "      <td>1</td>\n",
       "      <td>1</td>\n",
       "      <td>0</td>\n",
       "      <td>1</td>\n",
       "      <td>0</td>\n",
       "    </tr>\n",
       "    <tr>\n",
       "      <th>1</th>\n",
       "      <td>Black Mamba</td>\n",
       "      <td>1</td>\n",
       "      <td>1</td>\n",
       "      <td>0</td>\n",
       "      <td>1</td>\n",
       "      <td>1</td>\n",
       "    </tr>\n",
       "    <tr>\n",
       "      <th>2</th>\n",
       "      <td>Salamander</td>\n",
       "      <td>1</td>\n",
       "      <td>1</td>\n",
       "      <td>4</td>\n",
       "      <td>0</td>\n",
       "      <td>0</td>\n",
       "    </tr>\n",
       "    <tr>\n",
       "      <th>3</th>\n",
       "      <td>Polar Bear</td>\n",
       "      <td>0</td>\n",
       "      <td>0</td>\n",
       "      <td>4</td>\n",
       "      <td>0</td>\n",
       "      <td>0</td>\n",
       "    </tr>\n",
       "    <tr>\n",
       "      <th>4</th>\n",
       "      <td>Chameleon</td>\n",
       "      <td>1</td>\n",
       "      <td>1</td>\n",
       "      <td>4</td>\n",
       "      <td>0</td>\n",
       "      <td>0</td>\n",
       "    </tr>\n",
       "  </tbody>\n",
       "</table>\n",
       "</div>"
      ],
      "text/plain": [
       "         _name  cold-blooded  egg-laying  num_legs  scales  venomous\n",
       "0       Python             1           1         0       1         0\n",
       "1  Black Mamba             1           1         0       1         1\n",
       "2   Salamander             1           1         4       0         0\n",
       "3   Polar Bear             0           0         4       0         0\n",
       "4    Chameleon             1           1         4       0         0"
      ]
     },
     "execution_count": 27,
     "metadata": {},
     "output_type": "execute_result"
    }
   ],
   "source": [
    "animal_list"
   ]
  },
  {
   "cell_type": "markdown",
   "metadata": {},
   "source": [
    "Let's create a feature vector for each animal.\n",
    "\n",
    "You can convert your `dataFrame` to a dictionary with:\n",
    "\n",
    ">`df.to_dict()`\n",
    "\n",
    "However this will not produce an ideally structured dictionary. In order to get our key/value pairs how we want them we must first `transpose` (or rotate) our dataframe. You can get the transposed version of our DF by accessing the `T` property of our DF.  Like this:\n",
    "\n",
    ">`df.T`\n",
    "\n",
    "So to get the transposed dataframe as a key/value pair just chain the calls:\n",
    "\n",
    ">`df.T.to_dict()`\n",
    "\n",
    "Iterate over it's `.items()` and set the value in our animals dict to an `np.array` of the list of values.\n",
    "\n",
    "<!---\n",
    "df.index = df.pop(\"_name\")\n",
    "animal_dict = df.T.to_dict()\n",
    "animal_features = {}\n",
    "for key, value in animal_dict.items():\n",
    "    animal_features[key] = np.array(list(value.values()))\n",
    "animal_features\n",
    "--->"
   ]
  },
  {
   "cell_type": "code",
   "execution_count": 28,
   "metadata": {
    "collapsed": false
   },
   "outputs": [
    {
     "data": {
      "text/plain": [
       "{'Black Mamba': array([1, 1, 1, 1, 0]),\n",
       " 'Chameleon': array([0, 1, 0, 1, 4]),\n",
       " 'Polar Bear': array([0, 0, 0, 0, 4]),\n",
       " 'Python': array([1, 1, 0, 1, 0]),\n",
       " 'Salamander': array([0, 1, 0, 1, 4])}"
      ]
     },
     "execution_count": 28,
     "metadata": {},
     "output_type": "execute_result"
    }
   ],
   "source": [
    "animal_list.index = animal_list.pop(\"_name\")\n",
    "animal_dict = animal_list.T.to_dict()\n",
    "animal_features = {}\n",
    "\n",
    "for key, value in animal_dict.items():\n",
    "    animal_features[key] = np.array(list(value.values()))\n",
    "animal_features"
   ]
  },
  {
   "cell_type": "markdown",
   "metadata": {},
   "source": [
    "Now, we are going to use a formula called the __Euclidean distance.__ This is used to compare the distance between equal-length vectors of numbers.\n",
    "\n",
    "$$distance(V1, V2) = \\sqrt{\\sum\\limits_{i=1}^{len}(V1_i-V2_i)^{2}}$$\n",
    "\n",
    "Here's that in English:\n",
    "\n",
    "The distance between vector 1 and vector 2 is the square root of the sum of the difference between each of their features squared.\n",
    "\n",
    "This sounds really hard, but is much like something we've done before: the Pythagorean theorem. If you have two vectors with two elements each, you could see those as x/y coordinates.\n",
    "\n",
    "* V1 = [0, 0]\n",
    "* V2 = [3, 4]\n",
    "\n",
    "Take the difference of each coordinate squared: $(3 - 0)^2 = 9; (4 - 0)^2 = 16$. \n",
    "\n",
    "Sum them: $9 + 16 = 25$.\n",
    "\n",
    "Now find the square root: $\\sqrt{25} = 5$.\n",
    "\n",
    "The Euclidean distance between these vectors is 5, the same as the hypotenuse of a right triangle using them as coordinates would be. The difference is that the Euclidean distance can be used with vectors of any length."
   ]
  },
  {
   "cell_type": "markdown",
   "metadata": {},
   "source": [
    "Lets write our own Euclidean distance function to help us out.\n",
    "\n",
    "Make sure it takes 2 vectors (lists of numbers) as parameters, calculates the squares of the vectors and stores as a new vector, and return the square root of the sum of the numbers in the squared vector.\n",
    "\n",
    "<!---\n",
    "import math\n",
    "\n",
    "def euclidean_distance(v1, v2):\n",
    "    squares = (v1 - v2) ** 2\n",
    "    return math.sqrt(squares.sum())\n",
    "\n",
    "euclidean_distance(np.array([0, 0]), np.array([3, 4]))\n",
    "\n",
    "# bonus:\n",
    "assert euclidean_distance(np.array([0, 0]), np.array([3, 4])) == 5\n",
    "--->"
   ]
  },
  {
   "cell_type": "code",
   "execution_count": 34,
   "metadata": {
    "collapsed": false
   },
   "outputs": [],
   "source": [
    "def euclidean_distance(v1, v2):\n",
    "    new_vector = (v2 - v1) ** 2\n",
    "    return sum(new_vector) ** .5"
   ]
  },
  {
   "cell_type": "markdown",
   "metadata": {
    "collapsed": false
   },
   "source": [
    "Create a function that creates a dictionary (of animals for example), and creates a new `dataFrame` that contains the animal as both columns and rows while each cell contains the Euclidean distance between each of the animals.  Display `--` for instances of the animal when compared with itself.\n",
    "\n",
    "<!---\n",
    "def compare_animals(animals, keys=None):\n",
    "    \"\"\"Given a dictionary of animals -- keys are names, values are NumPy arrays --\n",
    "    build a table of Euclidean distance between each animal.\"\"\"\n",
    "    if keys is None:\n",
    "        keys = list(animals.keys())\n",
    "    col_labels = keys\n",
    "    row_labels = col_labels[:]\n",
    "    table = []\n",
    "    for rowl in row_labels:\n",
    "        row = []\n",
    "        for coll in col_labels:\n",
    "            if rowl == coll:\n",
    "                row.append(\"--\")\n",
    "            else:\n",
    "                distance = euclidean_distance(animals[rowl], animals[coll])\n",
    "                row.append(str(round(distance, 2)))\n",
    "        table.append(row)\n",
    "\n",
    "    df = pd.DataFrame(table, columns=col_labels, index=row_labels)\n",
    "    return df\n",
    "--->"
   ]
  },
  {
   "cell_type": "code",
   "execution_count": 40,
   "metadata": {
    "collapsed": false
   },
   "outputs": [],
   "source": [
    "def compare_animals(animals, keys=None):\n",
    "    \"\"\"Given a dictionary of animals -- keys are names, values are NumPy arrays --\n",
    "    build a table of Euclidean distance between each animal.\"\"\"\n",
    "    if keys is None:\n",
    "        keys = list(animals.keys())\n",
    "    col_labels = keys\n",
    "    row_labels = col_labels[:]\n",
    "    table = []\n",
    "    for rowl in row_labels:\n",
    "        row = []\n",
    "        for coll in col_labels:\n",
    "            if rowl == coll:\n",
    "                row.append(\"--\")\n",
    "            else:\n",
    "                distance = euclidean_distance(animals[rowl], animals[coll])\n",
    "                row.append(str(round(distance, 2)))\n",
    "        table.append(row)\n",
    "\n",
    "    df = pd.DataFrame(table, columns=col_labels, index=row_labels)\n",
    "    return df"
   ]
  },
  {
   "cell_type": "code",
   "execution_count": 41,
   "metadata": {
    "collapsed": false
   },
   "outputs": [
    {
     "data": {
      "text/html": [
       "<div>\n",
       "<table border=\"1\" class=\"dataframe\">\n",
       "  <thead>\n",
       "    <tr style=\"text-align: right;\">\n",
       "      <th></th>\n",
       "      <th>Python</th>\n",
       "      <th>Salamander</th>\n",
       "      <th>Polar Bear</th>\n",
       "      <th>Black Mamba</th>\n",
       "      <th>Chameleon</th>\n",
       "    </tr>\n",
       "  </thead>\n",
       "  <tbody>\n",
       "    <tr>\n",
       "      <th>Python</th>\n",
       "      <td>--</td>\n",
       "      <td>4.12</td>\n",
       "      <td>4.36</td>\n",
       "      <td>1.0</td>\n",
       "      <td>4.12</td>\n",
       "    </tr>\n",
       "    <tr>\n",
       "      <th>Salamander</th>\n",
       "      <td>4.12</td>\n",
       "      <td>--</td>\n",
       "      <td>1.41</td>\n",
       "      <td>4.24</td>\n",
       "      <td>0.0</td>\n",
       "    </tr>\n",
       "    <tr>\n",
       "      <th>Polar Bear</th>\n",
       "      <td>4.36</td>\n",
       "      <td>1.41</td>\n",
       "      <td>--</td>\n",
       "      <td>4.47</td>\n",
       "      <td>1.41</td>\n",
       "    </tr>\n",
       "    <tr>\n",
       "      <th>Black Mamba</th>\n",
       "      <td>1.0</td>\n",
       "      <td>4.24</td>\n",
       "      <td>4.47</td>\n",
       "      <td>--</td>\n",
       "      <td>4.24</td>\n",
       "    </tr>\n",
       "    <tr>\n",
       "      <th>Chameleon</th>\n",
       "      <td>4.12</td>\n",
       "      <td>0.0</td>\n",
       "      <td>1.41</td>\n",
       "      <td>4.24</td>\n",
       "      <td>--</td>\n",
       "    </tr>\n",
       "  </tbody>\n",
       "</table>\n",
       "</div>"
      ],
      "text/plain": [
       "            Python Salamander Polar Bear Black Mamba Chameleon\n",
       "Python          --       4.12       4.36         1.0      4.12\n",
       "Salamander    4.12         --       1.41        4.24       0.0\n",
       "Polar Bear    4.36       1.41         --        4.47      1.41\n",
       "Black Mamba    1.0       4.24       4.47          --      4.24\n",
       "Chameleon     4.12        0.0       1.41        4.24        --"
      ]
     },
     "execution_count": 41,
     "metadata": {},
     "output_type": "execute_result"
    }
   ],
   "source": [
    "compare_animals(animal_features)"
   ]
  },
  {
   "cell_type": "markdown",
   "metadata": {},
   "source": [
    "Lets view the `dataFrame` returned when asked to compare the following animals:\n",
    "\n",
    " - Rattlesnake\n",
    " - Boa Constrictor\n",
    " - Dart frog\n",
    " - Alligator\n",
    " \n",
    "<!---\n",
    "compare_animals(animal_features, \n",
    "                ['Rattlesnake', 'Boa constrictor', 'Dart frog', 'Alligator'])\n",
    "--->"
   ]
  },
  {
   "cell_type": "code",
   "execution_count": 42,
   "metadata": {
    "collapsed": false
   },
   "outputs": [
    {
     "data": {
      "text/html": [
       "<div>\n",
       "<table border=\"1\" class=\"dataframe\">\n",
       "  <thead>\n",
       "    <tr style=\"text-align: right;\">\n",
       "      <th></th>\n",
       "      <th>Python</th>\n",
       "      <th>Polar Bear</th>\n",
       "      <th>Chameleon</th>\n",
       "    </tr>\n",
       "  </thead>\n",
       "  <tbody>\n",
       "    <tr>\n",
       "      <th>Python</th>\n",
       "      <td>--</td>\n",
       "      <td>4.36</td>\n",
       "      <td>4.12</td>\n",
       "    </tr>\n",
       "    <tr>\n",
       "      <th>Polar Bear</th>\n",
       "      <td>4.36</td>\n",
       "      <td>--</td>\n",
       "      <td>1.41</td>\n",
       "    </tr>\n",
       "    <tr>\n",
       "      <th>Chameleon</th>\n",
       "      <td>4.12</td>\n",
       "      <td>1.41</td>\n",
       "      <td>--</td>\n",
       "    </tr>\n",
       "  </tbody>\n",
       "</table>\n",
       "</div>"
      ],
      "text/plain": [
       "           Python Polar Bear Chameleon\n",
       "Python         --       4.36      4.12\n",
       "Polar Bear   4.36         --      1.41\n",
       "Chameleon    4.12       1.41        --"
      ]
     },
     "execution_count": 42,
     "metadata": {},
     "output_type": "execute_result"
    }
   ],
   "source": [
    "compare_animals(animal_features, [\"Python\", \"Polar Bear\", \"Chameleon\"])"
   ]
  },
  {
   "cell_type": "markdown",
   "metadata": {},
   "source": [
    "Well, that looks wrong. _What might the problem be_?"
   ]
  },
  {
   "cell_type": "markdown",
   "metadata": {},
   "source": [
    "of course! The num_legs doesn't contain a `bool`, it contains the count of legs for the given animal.  Lets replace `num_legs` to a boolean that represents if the animals has legs or not.\n",
    "\n",
    "  - 0 if the animal has no legs\n",
    "  - 1 if the animals has 1 or more legs\n",
    "  \n",
    "<!---\n",
    "df['num_legs'] = df['num_legs'].astype(bool).astype(np.int)\n",
    "--->"
   ]
  },
  {
   "cell_type": "markdown",
   "metadata": {},
   "source": [
    "Lets look at the animal list again."
   ]
  },
  {
   "cell_type": "code",
   "execution_count": 47,
   "metadata": {
    "collapsed": false
   },
   "outputs": [],
   "source": [
    "animal_list[\"num_legs\"] = animal_list[\"num_legs\"].map(bool).map(int)"
   ]
  },
  {
   "cell_type": "markdown",
   "metadata": {},
   "source": [
    "Let's get our transposed dataframe as a dictionary again since our `num_legs` is now a yes/no rather than a count.\n",
    "\n",
    "<!--\n",
    "animal_dict = df.T.to_dict()\n",
    "new_animal_list = {}\n",
    "\n",
    "for key, features in animal_dict.items():\n",
    "    animal_name = features.pop('_name')\n",
    "    new_animal_list[animal_name] = np.array(list(features.values()))\n",
    "-->"
   ]
  },
  {
   "cell_type": "code",
   "execution_count": 51,
   "metadata": {
    "collapsed": false
   },
   "outputs": [
    {
     "data": {
      "text/plain": [
       "{'Black Mamba': array([1, 1, 1, 1, 0]),\n",
       " 'Chameleon': array([0, 1, 0, 1, 1]),\n",
       " 'Polar Bear': array([0, 0, 0, 0, 1]),\n",
       " 'Python': array([1, 1, 0, 1, 0]),\n",
       " 'Salamander': array([0, 1, 0, 1, 1])}"
      ]
     },
     "execution_count": 51,
     "metadata": {},
     "output_type": "execute_result"
    }
   ],
   "source": [
    "animal_dict = animal_list.T.to_dict()\n",
    "animal_features = {}\n",
    "\n",
    "for key, value in animal_dict.items():\n",
    "    animal_features[key] = np.array(list(value.values()))\n",
    "animal_features"
   ]
  },
  {
   "cell_type": "markdown",
   "metadata": {},
   "source": [
    "With this new animal list we should create a new dataframe from the result of our distance table.  Set the index as the animals and see how the distances relate.\n",
    "\n",
    "<!--\n",
    "cleaned_df = pd.DataFrame(create_distance_table([\"Alligator\", \"Boa Constrictor\", \"Newt\", \"Python\"], new_animal_list))\n",
    "cleaned_df.index = search_animals\n",
    "cleaned_df\n",
    "-->"
   ]
  },
  {
   "cell_type": "code",
   "execution_count": 52,
   "metadata": {
    "collapsed": false
   },
   "outputs": [
    {
     "data": {
      "text/html": [
       "<div>\n",
       "<table border=\"1\" class=\"dataframe\">\n",
       "  <thead>\n",
       "    <tr style=\"text-align: right;\">\n",
       "      <th></th>\n",
       "      <th>Python</th>\n",
       "      <th>Salamander</th>\n",
       "      <th>Polar Bear</th>\n",
       "      <th>Black Mamba</th>\n",
       "      <th>Chameleon</th>\n",
       "    </tr>\n",
       "  </thead>\n",
       "  <tbody>\n",
       "    <tr>\n",
       "      <th>Python</th>\n",
       "      <td>--</td>\n",
       "      <td>1.41</td>\n",
       "      <td>2.0</td>\n",
       "      <td>1.0</td>\n",
       "      <td>1.41</td>\n",
       "    </tr>\n",
       "    <tr>\n",
       "      <th>Salamander</th>\n",
       "      <td>1.41</td>\n",
       "      <td>--</td>\n",
       "      <td>1.41</td>\n",
       "      <td>1.73</td>\n",
       "      <td>0.0</td>\n",
       "    </tr>\n",
       "    <tr>\n",
       "      <th>Polar Bear</th>\n",
       "      <td>2.0</td>\n",
       "      <td>1.41</td>\n",
       "      <td>--</td>\n",
       "      <td>2.24</td>\n",
       "      <td>1.41</td>\n",
       "    </tr>\n",
       "    <tr>\n",
       "      <th>Black Mamba</th>\n",
       "      <td>1.0</td>\n",
       "      <td>1.73</td>\n",
       "      <td>2.24</td>\n",
       "      <td>--</td>\n",
       "      <td>1.73</td>\n",
       "    </tr>\n",
       "    <tr>\n",
       "      <th>Chameleon</th>\n",
       "      <td>1.41</td>\n",
       "      <td>0.0</td>\n",
       "      <td>1.41</td>\n",
       "      <td>1.73</td>\n",
       "      <td>--</td>\n",
       "    </tr>\n",
       "  </tbody>\n",
       "</table>\n",
       "</div>"
      ],
      "text/plain": [
       "            Python Salamander Polar Bear Black Mamba Chameleon\n",
       "Python          --       1.41        2.0         1.0      1.41\n",
       "Salamander    1.41         --       1.41        1.73       0.0\n",
       "Polar Bear     2.0       1.41         --        2.24      1.41\n",
       "Black Mamba    1.0       1.73       2.24          --      1.73\n",
       "Chameleon     1.41        0.0       1.41        1.73        --"
      ]
     },
     "execution_count": 52,
     "metadata": {},
     "output_type": "execute_result"
    }
   ],
   "source": [
    "compare_animals(animal_features)"
   ]
  },
  {
   "cell_type": "markdown",
   "metadata": {},
   "source": [
    "Again, we need to convert our dataframe to a dictionary containing the `key` of the animal name and the `value` of a vector of feature values.  We've done this before but lets do it again for practice.\n",
    "\n",
    "<!---\n",
    "df.index = df.pop(\"_name\")\n",
    "animal_dict = df.T.to_dict()\n",
    "animal_features = {}\n",
    "for key, value in animal_dict.items():\n",
    "    animal_features[key] = np.array(list(value.values()))\n",
    "animal_features\n",
    "--->"
   ]
  },
  {
   "cell_type": "code",
   "execution_count": null,
   "metadata": {
    "collapsed": false
   },
   "outputs": [],
   "source": []
  },
  {
   "cell_type": "markdown",
   "metadata": {},
   "source": [
    "How does this change our Euclidean distance for each animal?\n",
    "\n",
    " - Rattlesnake\n",
    " - Boa Constrictor\n",
    " - Dart frog\n",
    " - Alligator\n",
    " \n",
    "<!---\n",
    "compare_animals(animal_features, \n",
    "                ['Rattlesnake', 'Boa constrictor', 'Dart frog', 'Alligator'])\n",
    "--->"
   ]
  },
  {
   "cell_type": "code",
   "execution_count": null,
   "metadata": {
    "collapsed": false
   },
   "outputs": [],
   "source": []
  },
  {
   "cell_type": "markdown",
   "metadata": {},
   "source": [
    "And for funzies lets check all animals against eachother.\n",
    "\n",
    "<!---\n",
    "compare_animals(animal_features)\n",
    "--->"
   ]
  },
  {
   "cell_type": "code",
   "execution_count": null,
   "metadata": {
    "collapsed": false
   },
   "outputs": [],
   "source": []
  },
  {
   "cell_type": "markdown",
   "metadata": {},
   "source": [
    "# References and Further Reading\n",
    "\n",
    "* [A Few Useful Things to Know about Machine Learning](http://www.astro.caltech.edu/~george/ay122/cacm12.pdf)\n",
    "* [Visual Intro to Machine Learning](http://www.r2d3.us/visual-intro-to-machine-learning-part-1/)"
   ]
  }
 ],
 "metadata": {
  "kernelspec": {
   "display_name": "Python 3",
   "language": "python",
   "name": "python3"
  },
  "language_info": {
   "codemirror_mode": {
    "name": "ipython",
    "version": 3
   },
   "file_extension": ".py",
   "mimetype": "text/x-python",
   "name": "python",
   "nbconvert_exporter": "python",
   "pygments_lexer": "ipython3",
   "version": "3.5.0"
  }
 },
 "nbformat": 4,
 "nbformat_minor": 0
}
